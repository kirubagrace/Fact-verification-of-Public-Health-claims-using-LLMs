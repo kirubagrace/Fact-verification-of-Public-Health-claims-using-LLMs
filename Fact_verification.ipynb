{
  "nbformat": 4,
  "nbformat_minor": 0,
  "metadata": {
    "colab": {
      "provenance": []
    },
    "kernelspec": {
      "name": "python3",
      "display_name": "Python 3"
    },
    "language_info": {
      "name": "python"
    },
    "widgets": {
      "application/vnd.jupyter.widget-state+json": {
        "b03d47a519e0486cb2292bd19d8d6d79": {
          "model_module": "@jupyter-widgets/controls",
          "model_name": "HBoxModel",
          "model_module_version": "1.5.0",
          "state": {
            "_dom_classes": [],
            "_model_module": "@jupyter-widgets/controls",
            "_model_module_version": "1.5.0",
            "_model_name": "HBoxModel",
            "_view_count": null,
            "_view_module": "@jupyter-widgets/controls",
            "_view_module_version": "1.5.0",
            "_view_name": "HBoxView",
            "box_style": "",
            "children": [
              "IPY_MODEL_e116d3a4041f4cd8ae2a5f442c413832",
              "IPY_MODEL_31f95445b9b64ff6bac5250b652d4d0d",
              "IPY_MODEL_98362006476c4e63a4953f726e64d848"
            ],
            "layout": "IPY_MODEL_f92d1e1753d14a7d8ba834d662d1867e"
          }
        },
        "e116d3a4041f4cd8ae2a5f442c413832": {
          "model_module": "@jupyter-widgets/controls",
          "model_name": "HTMLModel",
          "model_module_version": "1.5.0",
          "state": {
            "_dom_classes": [],
            "_model_module": "@jupyter-widgets/controls",
            "_model_module_version": "1.5.0",
            "_model_name": "HTMLModel",
            "_view_count": null,
            "_view_module": "@jupyter-widgets/controls",
            "_view_module_version": "1.5.0",
            "_view_name": "HTMLView",
            "description": "",
            "description_tooltip": null,
            "layout": "IPY_MODEL_349a1aa5451f453db81cec26462b2734",
            "placeholder": "​",
            "style": "IPY_MODEL_2c5c1af5ae3647739402c073aa6b71a3",
            "value": "modules.json: 100%"
          }
        },
        "31f95445b9b64ff6bac5250b652d4d0d": {
          "model_module": "@jupyter-widgets/controls",
          "model_name": "FloatProgressModel",
          "model_module_version": "1.5.0",
          "state": {
            "_dom_classes": [],
            "_model_module": "@jupyter-widgets/controls",
            "_model_module_version": "1.5.0",
            "_model_name": "FloatProgressModel",
            "_view_count": null,
            "_view_module": "@jupyter-widgets/controls",
            "_view_module_version": "1.5.0",
            "_view_name": "ProgressView",
            "bar_style": "success",
            "description": "",
            "description_tooltip": null,
            "layout": "IPY_MODEL_5bf54bb574734cb3886c6ec383e13783",
            "max": 349,
            "min": 0,
            "orientation": "horizontal",
            "style": "IPY_MODEL_4c8b86efddba4682b55c4b8cdef3504d",
            "value": 349
          }
        },
        "98362006476c4e63a4953f726e64d848": {
          "model_module": "@jupyter-widgets/controls",
          "model_name": "HTMLModel",
          "model_module_version": "1.5.0",
          "state": {
            "_dom_classes": [],
            "_model_module": "@jupyter-widgets/controls",
            "_model_module_version": "1.5.0",
            "_model_name": "HTMLModel",
            "_view_count": null,
            "_view_module": "@jupyter-widgets/controls",
            "_view_module_version": "1.5.0",
            "_view_name": "HTMLView",
            "description": "",
            "description_tooltip": null,
            "layout": "IPY_MODEL_361e676c4fa84556a4e27c6413aaadbe",
            "placeholder": "​",
            "style": "IPY_MODEL_7ac007938d804a518c067950701b14fc",
            "value": " 349/349 [00:00&lt;00:00, 13.3kB/s]"
          }
        },
        "f92d1e1753d14a7d8ba834d662d1867e": {
          "model_module": "@jupyter-widgets/base",
          "model_name": "LayoutModel",
          "model_module_version": "1.2.0",
          "state": {
            "_model_module": "@jupyter-widgets/base",
            "_model_module_version": "1.2.0",
            "_model_name": "LayoutModel",
            "_view_count": null,
            "_view_module": "@jupyter-widgets/base",
            "_view_module_version": "1.2.0",
            "_view_name": "LayoutView",
            "align_content": null,
            "align_items": null,
            "align_self": null,
            "border": null,
            "bottom": null,
            "display": null,
            "flex": null,
            "flex_flow": null,
            "grid_area": null,
            "grid_auto_columns": null,
            "grid_auto_flow": null,
            "grid_auto_rows": null,
            "grid_column": null,
            "grid_gap": null,
            "grid_row": null,
            "grid_template_areas": null,
            "grid_template_columns": null,
            "grid_template_rows": null,
            "height": null,
            "justify_content": null,
            "justify_items": null,
            "left": null,
            "margin": null,
            "max_height": null,
            "max_width": null,
            "min_height": null,
            "min_width": null,
            "object_fit": null,
            "object_position": null,
            "order": null,
            "overflow": null,
            "overflow_x": null,
            "overflow_y": null,
            "padding": null,
            "right": null,
            "top": null,
            "visibility": null,
            "width": null
          }
        },
        "349a1aa5451f453db81cec26462b2734": {
          "model_module": "@jupyter-widgets/base",
          "model_name": "LayoutModel",
          "model_module_version": "1.2.0",
          "state": {
            "_model_module": "@jupyter-widgets/base",
            "_model_module_version": "1.2.0",
            "_model_name": "LayoutModel",
            "_view_count": null,
            "_view_module": "@jupyter-widgets/base",
            "_view_module_version": "1.2.0",
            "_view_name": "LayoutView",
            "align_content": null,
            "align_items": null,
            "align_self": null,
            "border": null,
            "bottom": null,
            "display": null,
            "flex": null,
            "flex_flow": null,
            "grid_area": null,
            "grid_auto_columns": null,
            "grid_auto_flow": null,
            "grid_auto_rows": null,
            "grid_column": null,
            "grid_gap": null,
            "grid_row": null,
            "grid_template_areas": null,
            "grid_template_columns": null,
            "grid_template_rows": null,
            "height": null,
            "justify_content": null,
            "justify_items": null,
            "left": null,
            "margin": null,
            "max_height": null,
            "max_width": null,
            "min_height": null,
            "min_width": null,
            "object_fit": null,
            "object_position": null,
            "order": null,
            "overflow": null,
            "overflow_x": null,
            "overflow_y": null,
            "padding": null,
            "right": null,
            "top": null,
            "visibility": null,
            "width": null
          }
        },
        "2c5c1af5ae3647739402c073aa6b71a3": {
          "model_module": "@jupyter-widgets/controls",
          "model_name": "DescriptionStyleModel",
          "model_module_version": "1.5.0",
          "state": {
            "_model_module": "@jupyter-widgets/controls",
            "_model_module_version": "1.5.0",
            "_model_name": "DescriptionStyleModel",
            "_view_count": null,
            "_view_module": "@jupyter-widgets/base",
            "_view_module_version": "1.2.0",
            "_view_name": "StyleView",
            "description_width": ""
          }
        },
        "5bf54bb574734cb3886c6ec383e13783": {
          "model_module": "@jupyter-widgets/base",
          "model_name": "LayoutModel",
          "model_module_version": "1.2.0",
          "state": {
            "_model_module": "@jupyter-widgets/base",
            "_model_module_version": "1.2.0",
            "_model_name": "LayoutModel",
            "_view_count": null,
            "_view_module": "@jupyter-widgets/base",
            "_view_module_version": "1.2.0",
            "_view_name": "LayoutView",
            "align_content": null,
            "align_items": null,
            "align_self": null,
            "border": null,
            "bottom": null,
            "display": null,
            "flex": null,
            "flex_flow": null,
            "grid_area": null,
            "grid_auto_columns": null,
            "grid_auto_flow": null,
            "grid_auto_rows": null,
            "grid_column": null,
            "grid_gap": null,
            "grid_row": null,
            "grid_template_areas": null,
            "grid_template_columns": null,
            "grid_template_rows": null,
            "height": null,
            "justify_content": null,
            "justify_items": null,
            "left": null,
            "margin": null,
            "max_height": null,
            "max_width": null,
            "min_height": null,
            "min_width": null,
            "object_fit": null,
            "object_position": null,
            "order": null,
            "overflow": null,
            "overflow_x": null,
            "overflow_y": null,
            "padding": null,
            "right": null,
            "top": null,
            "visibility": null,
            "width": null
          }
        },
        "4c8b86efddba4682b55c4b8cdef3504d": {
          "model_module": "@jupyter-widgets/controls",
          "model_name": "ProgressStyleModel",
          "model_module_version": "1.5.0",
          "state": {
            "_model_module": "@jupyter-widgets/controls",
            "_model_module_version": "1.5.0",
            "_model_name": "ProgressStyleModel",
            "_view_count": null,
            "_view_module": "@jupyter-widgets/base",
            "_view_module_version": "1.2.0",
            "_view_name": "StyleView",
            "bar_color": null,
            "description_width": ""
          }
        },
        "361e676c4fa84556a4e27c6413aaadbe": {
          "model_module": "@jupyter-widgets/base",
          "model_name": "LayoutModel",
          "model_module_version": "1.2.0",
          "state": {
            "_model_module": "@jupyter-widgets/base",
            "_model_module_version": "1.2.0",
            "_model_name": "LayoutModel",
            "_view_count": null,
            "_view_module": "@jupyter-widgets/base",
            "_view_module_version": "1.2.0",
            "_view_name": "LayoutView",
            "align_content": null,
            "align_items": null,
            "align_self": null,
            "border": null,
            "bottom": null,
            "display": null,
            "flex": null,
            "flex_flow": null,
            "grid_area": null,
            "grid_auto_columns": null,
            "grid_auto_flow": null,
            "grid_auto_rows": null,
            "grid_column": null,
            "grid_gap": null,
            "grid_row": null,
            "grid_template_areas": null,
            "grid_template_columns": null,
            "grid_template_rows": null,
            "height": null,
            "justify_content": null,
            "justify_items": null,
            "left": null,
            "margin": null,
            "max_height": null,
            "max_width": null,
            "min_height": null,
            "min_width": null,
            "object_fit": null,
            "object_position": null,
            "order": null,
            "overflow": null,
            "overflow_x": null,
            "overflow_y": null,
            "padding": null,
            "right": null,
            "top": null,
            "visibility": null,
            "width": null
          }
        },
        "7ac007938d804a518c067950701b14fc": {
          "model_module": "@jupyter-widgets/controls",
          "model_name": "DescriptionStyleModel",
          "model_module_version": "1.5.0",
          "state": {
            "_model_module": "@jupyter-widgets/controls",
            "_model_module_version": "1.5.0",
            "_model_name": "DescriptionStyleModel",
            "_view_count": null,
            "_view_module": "@jupyter-widgets/base",
            "_view_module_version": "1.2.0",
            "_view_name": "StyleView",
            "description_width": ""
          }
        },
        "4e59d7604afc46e99b2ca4b9840bc5a2": {
          "model_module": "@jupyter-widgets/controls",
          "model_name": "HBoxModel",
          "model_module_version": "1.5.0",
          "state": {
            "_dom_classes": [],
            "_model_module": "@jupyter-widgets/controls",
            "_model_module_version": "1.5.0",
            "_model_name": "HBoxModel",
            "_view_count": null,
            "_view_module": "@jupyter-widgets/controls",
            "_view_module_version": "1.5.0",
            "_view_name": "HBoxView",
            "box_style": "",
            "children": [
              "IPY_MODEL_ca2168dfda874568a4164cab6ab67190",
              "IPY_MODEL_1fc65b51d97840f8b4c6c4d412953b2e",
              "IPY_MODEL_94128263fbe442faabcf21f0c83d4d02"
            ],
            "layout": "IPY_MODEL_f75dba2ffe2f434fa44aa894f9a8ec29"
          }
        },
        "ca2168dfda874568a4164cab6ab67190": {
          "model_module": "@jupyter-widgets/controls",
          "model_name": "HTMLModel",
          "model_module_version": "1.5.0",
          "state": {
            "_dom_classes": [],
            "_model_module": "@jupyter-widgets/controls",
            "_model_module_version": "1.5.0",
            "_model_name": "HTMLModel",
            "_view_count": null,
            "_view_module": "@jupyter-widgets/controls",
            "_view_module_version": "1.5.0",
            "_view_name": "HTMLView",
            "description": "",
            "description_tooltip": null,
            "layout": "IPY_MODEL_f65c68a0a3064853b844d0a06d23064e",
            "placeholder": "​",
            "style": "IPY_MODEL_f23d791f991a4cf4ba475ba105086d5a",
            "value": "config_sentence_transformers.json: 100%"
          }
        },
        "1fc65b51d97840f8b4c6c4d412953b2e": {
          "model_module": "@jupyter-widgets/controls",
          "model_name": "FloatProgressModel",
          "model_module_version": "1.5.0",
          "state": {
            "_dom_classes": [],
            "_model_module": "@jupyter-widgets/controls",
            "_model_module_version": "1.5.0",
            "_model_name": "FloatProgressModel",
            "_view_count": null,
            "_view_module": "@jupyter-widgets/controls",
            "_view_module_version": "1.5.0",
            "_view_name": "ProgressView",
            "bar_style": "success",
            "description": "",
            "description_tooltip": null,
            "layout": "IPY_MODEL_aa0e2eceddf24aa6bebd5c5a0cbdd6c5",
            "max": 116,
            "min": 0,
            "orientation": "horizontal",
            "style": "IPY_MODEL_265a0d92f77c4f49877cfba09cc43497",
            "value": 116
          }
        },
        "94128263fbe442faabcf21f0c83d4d02": {
          "model_module": "@jupyter-widgets/controls",
          "model_name": "HTMLModel",
          "model_module_version": "1.5.0",
          "state": {
            "_dom_classes": [],
            "_model_module": "@jupyter-widgets/controls",
            "_model_module_version": "1.5.0",
            "_model_name": "HTMLModel",
            "_view_count": null,
            "_view_module": "@jupyter-widgets/controls",
            "_view_module_version": "1.5.0",
            "_view_name": "HTMLView",
            "description": "",
            "description_tooltip": null,
            "layout": "IPY_MODEL_ca39734f08e9405aa5611d8048e84975",
            "placeholder": "​",
            "style": "IPY_MODEL_504178f6059643e4a23ee3178b691ed5",
            "value": " 116/116 [00:00&lt;00:00, 5.52kB/s]"
          }
        },
        "f75dba2ffe2f434fa44aa894f9a8ec29": {
          "model_module": "@jupyter-widgets/base",
          "model_name": "LayoutModel",
          "model_module_version": "1.2.0",
          "state": {
            "_model_module": "@jupyter-widgets/base",
            "_model_module_version": "1.2.0",
            "_model_name": "LayoutModel",
            "_view_count": null,
            "_view_module": "@jupyter-widgets/base",
            "_view_module_version": "1.2.0",
            "_view_name": "LayoutView",
            "align_content": null,
            "align_items": null,
            "align_self": null,
            "border": null,
            "bottom": null,
            "display": null,
            "flex": null,
            "flex_flow": null,
            "grid_area": null,
            "grid_auto_columns": null,
            "grid_auto_flow": null,
            "grid_auto_rows": null,
            "grid_column": null,
            "grid_gap": null,
            "grid_row": null,
            "grid_template_areas": null,
            "grid_template_columns": null,
            "grid_template_rows": null,
            "height": null,
            "justify_content": null,
            "justify_items": null,
            "left": null,
            "margin": null,
            "max_height": null,
            "max_width": null,
            "min_height": null,
            "min_width": null,
            "object_fit": null,
            "object_position": null,
            "order": null,
            "overflow": null,
            "overflow_x": null,
            "overflow_y": null,
            "padding": null,
            "right": null,
            "top": null,
            "visibility": null,
            "width": null
          }
        },
        "f65c68a0a3064853b844d0a06d23064e": {
          "model_module": "@jupyter-widgets/base",
          "model_name": "LayoutModel",
          "model_module_version": "1.2.0",
          "state": {
            "_model_module": "@jupyter-widgets/base",
            "_model_module_version": "1.2.0",
            "_model_name": "LayoutModel",
            "_view_count": null,
            "_view_module": "@jupyter-widgets/base",
            "_view_module_version": "1.2.0",
            "_view_name": "LayoutView",
            "align_content": null,
            "align_items": null,
            "align_self": null,
            "border": null,
            "bottom": null,
            "display": null,
            "flex": null,
            "flex_flow": null,
            "grid_area": null,
            "grid_auto_columns": null,
            "grid_auto_flow": null,
            "grid_auto_rows": null,
            "grid_column": null,
            "grid_gap": null,
            "grid_row": null,
            "grid_template_areas": null,
            "grid_template_columns": null,
            "grid_template_rows": null,
            "height": null,
            "justify_content": null,
            "justify_items": null,
            "left": null,
            "margin": null,
            "max_height": null,
            "max_width": null,
            "min_height": null,
            "min_width": null,
            "object_fit": null,
            "object_position": null,
            "order": null,
            "overflow": null,
            "overflow_x": null,
            "overflow_y": null,
            "padding": null,
            "right": null,
            "top": null,
            "visibility": null,
            "width": null
          }
        },
        "f23d791f991a4cf4ba475ba105086d5a": {
          "model_module": "@jupyter-widgets/controls",
          "model_name": "DescriptionStyleModel",
          "model_module_version": "1.5.0",
          "state": {
            "_model_module": "@jupyter-widgets/controls",
            "_model_module_version": "1.5.0",
            "_model_name": "DescriptionStyleModel",
            "_view_count": null,
            "_view_module": "@jupyter-widgets/base",
            "_view_module_version": "1.2.0",
            "_view_name": "StyleView",
            "description_width": ""
          }
        },
        "aa0e2eceddf24aa6bebd5c5a0cbdd6c5": {
          "model_module": "@jupyter-widgets/base",
          "model_name": "LayoutModel",
          "model_module_version": "1.2.0",
          "state": {
            "_model_module": "@jupyter-widgets/base",
            "_model_module_version": "1.2.0",
            "_model_name": "LayoutModel",
            "_view_count": null,
            "_view_module": "@jupyter-widgets/base",
            "_view_module_version": "1.2.0",
            "_view_name": "LayoutView",
            "align_content": null,
            "align_items": null,
            "align_self": null,
            "border": null,
            "bottom": null,
            "display": null,
            "flex": null,
            "flex_flow": null,
            "grid_area": null,
            "grid_auto_columns": null,
            "grid_auto_flow": null,
            "grid_auto_rows": null,
            "grid_column": null,
            "grid_gap": null,
            "grid_row": null,
            "grid_template_areas": null,
            "grid_template_columns": null,
            "grid_template_rows": null,
            "height": null,
            "justify_content": null,
            "justify_items": null,
            "left": null,
            "margin": null,
            "max_height": null,
            "max_width": null,
            "min_height": null,
            "min_width": null,
            "object_fit": null,
            "object_position": null,
            "order": null,
            "overflow": null,
            "overflow_x": null,
            "overflow_y": null,
            "padding": null,
            "right": null,
            "top": null,
            "visibility": null,
            "width": null
          }
        },
        "265a0d92f77c4f49877cfba09cc43497": {
          "model_module": "@jupyter-widgets/controls",
          "model_name": "ProgressStyleModel",
          "model_module_version": "1.5.0",
          "state": {
            "_model_module": "@jupyter-widgets/controls",
            "_model_module_version": "1.5.0",
            "_model_name": "ProgressStyleModel",
            "_view_count": null,
            "_view_module": "@jupyter-widgets/base",
            "_view_module_version": "1.2.0",
            "_view_name": "StyleView",
            "bar_color": null,
            "description_width": ""
          }
        },
        "ca39734f08e9405aa5611d8048e84975": {
          "model_module": "@jupyter-widgets/base",
          "model_name": "LayoutModel",
          "model_module_version": "1.2.0",
          "state": {
            "_model_module": "@jupyter-widgets/base",
            "_model_module_version": "1.2.0",
            "_model_name": "LayoutModel",
            "_view_count": null,
            "_view_module": "@jupyter-widgets/base",
            "_view_module_version": "1.2.0",
            "_view_name": "LayoutView",
            "align_content": null,
            "align_items": null,
            "align_self": null,
            "border": null,
            "bottom": null,
            "display": null,
            "flex": null,
            "flex_flow": null,
            "grid_area": null,
            "grid_auto_columns": null,
            "grid_auto_flow": null,
            "grid_auto_rows": null,
            "grid_column": null,
            "grid_gap": null,
            "grid_row": null,
            "grid_template_areas": null,
            "grid_template_columns": null,
            "grid_template_rows": null,
            "height": null,
            "justify_content": null,
            "justify_items": null,
            "left": null,
            "margin": null,
            "max_height": null,
            "max_width": null,
            "min_height": null,
            "min_width": null,
            "object_fit": null,
            "object_position": null,
            "order": null,
            "overflow": null,
            "overflow_x": null,
            "overflow_y": null,
            "padding": null,
            "right": null,
            "top": null,
            "visibility": null,
            "width": null
          }
        },
        "504178f6059643e4a23ee3178b691ed5": {
          "model_module": "@jupyter-widgets/controls",
          "model_name": "DescriptionStyleModel",
          "model_module_version": "1.5.0",
          "state": {
            "_model_module": "@jupyter-widgets/controls",
            "_model_module_version": "1.5.0",
            "_model_name": "DescriptionStyleModel",
            "_view_count": null,
            "_view_module": "@jupyter-widgets/base",
            "_view_module_version": "1.2.0",
            "_view_name": "StyleView",
            "description_width": ""
          }
        },
        "18cc700afeff46d1b8dbf350b46f4df8": {
          "model_module": "@jupyter-widgets/controls",
          "model_name": "HBoxModel",
          "model_module_version": "1.5.0",
          "state": {
            "_dom_classes": [],
            "_model_module": "@jupyter-widgets/controls",
            "_model_module_version": "1.5.0",
            "_model_name": "HBoxModel",
            "_view_count": null,
            "_view_module": "@jupyter-widgets/controls",
            "_view_module_version": "1.5.0",
            "_view_name": "HBoxView",
            "box_style": "",
            "children": [
              "IPY_MODEL_b407128bb96d46c99b5517bde67a5024",
              "IPY_MODEL_3cb789933df64236b0ef744ee6a6e8d6",
              "IPY_MODEL_51338b7505bc4a919071ffda71ce6386"
            ],
            "layout": "IPY_MODEL_5e704cded3544f9a95b5fdb523e9fb89"
          }
        },
        "b407128bb96d46c99b5517bde67a5024": {
          "model_module": "@jupyter-widgets/controls",
          "model_name": "HTMLModel",
          "model_module_version": "1.5.0",
          "state": {
            "_dom_classes": [],
            "_model_module": "@jupyter-widgets/controls",
            "_model_module_version": "1.5.0",
            "_model_name": "HTMLModel",
            "_view_count": null,
            "_view_module": "@jupyter-widgets/controls",
            "_view_module_version": "1.5.0",
            "_view_name": "HTMLView",
            "description": "",
            "description_tooltip": null,
            "layout": "IPY_MODEL_b31d633b8ab8430dbad9aa3613107061",
            "placeholder": "​",
            "style": "IPY_MODEL_685cc5cc66b1474d8ca1ba2aec2d77cb",
            "value": "README.md: 100%"
          }
        },
        "3cb789933df64236b0ef744ee6a6e8d6": {
          "model_module": "@jupyter-widgets/controls",
          "model_name": "FloatProgressModel",
          "model_module_version": "1.5.0",
          "state": {
            "_dom_classes": [],
            "_model_module": "@jupyter-widgets/controls",
            "_model_module_version": "1.5.0",
            "_model_name": "FloatProgressModel",
            "_view_count": null,
            "_view_module": "@jupyter-widgets/controls",
            "_view_module_version": "1.5.0",
            "_view_name": "ProgressView",
            "bar_style": "success",
            "description": "",
            "description_tooltip": null,
            "layout": "IPY_MODEL_3920d28d82cb4a8aba1c381f9ae8d163",
            "max": 10659,
            "min": 0,
            "orientation": "horizontal",
            "style": "IPY_MODEL_338d1383afc641ffaf37c3ff9543ca9b",
            "value": 10659
          }
        },
        "51338b7505bc4a919071ffda71ce6386": {
          "model_module": "@jupyter-widgets/controls",
          "model_name": "HTMLModel",
          "model_module_version": "1.5.0",
          "state": {
            "_dom_classes": [],
            "_model_module": "@jupyter-widgets/controls",
            "_model_module_version": "1.5.0",
            "_model_name": "HTMLModel",
            "_view_count": null,
            "_view_module": "@jupyter-widgets/controls",
            "_view_module_version": "1.5.0",
            "_view_name": "HTMLView",
            "description": "",
            "description_tooltip": null,
            "layout": "IPY_MODEL_a0b708b5b2fc48aaa355eaf4e1dd753d",
            "placeholder": "​",
            "style": "IPY_MODEL_c3668c1a0d8d470ebd5460964b355977",
            "value": " 10.7k/10.7k [00:00&lt;00:00, 623kB/s]"
          }
        },
        "5e704cded3544f9a95b5fdb523e9fb89": {
          "model_module": "@jupyter-widgets/base",
          "model_name": "LayoutModel",
          "model_module_version": "1.2.0",
          "state": {
            "_model_module": "@jupyter-widgets/base",
            "_model_module_version": "1.2.0",
            "_model_name": "LayoutModel",
            "_view_count": null,
            "_view_module": "@jupyter-widgets/base",
            "_view_module_version": "1.2.0",
            "_view_name": "LayoutView",
            "align_content": null,
            "align_items": null,
            "align_self": null,
            "border": null,
            "bottom": null,
            "display": null,
            "flex": null,
            "flex_flow": null,
            "grid_area": null,
            "grid_auto_columns": null,
            "grid_auto_flow": null,
            "grid_auto_rows": null,
            "grid_column": null,
            "grid_gap": null,
            "grid_row": null,
            "grid_template_areas": null,
            "grid_template_columns": null,
            "grid_template_rows": null,
            "height": null,
            "justify_content": null,
            "justify_items": null,
            "left": null,
            "margin": null,
            "max_height": null,
            "max_width": null,
            "min_height": null,
            "min_width": null,
            "object_fit": null,
            "object_position": null,
            "order": null,
            "overflow": null,
            "overflow_x": null,
            "overflow_y": null,
            "padding": null,
            "right": null,
            "top": null,
            "visibility": null,
            "width": null
          }
        },
        "b31d633b8ab8430dbad9aa3613107061": {
          "model_module": "@jupyter-widgets/base",
          "model_name": "LayoutModel",
          "model_module_version": "1.2.0",
          "state": {
            "_model_module": "@jupyter-widgets/base",
            "_model_module_version": "1.2.0",
            "_model_name": "LayoutModel",
            "_view_count": null,
            "_view_module": "@jupyter-widgets/base",
            "_view_module_version": "1.2.0",
            "_view_name": "LayoutView",
            "align_content": null,
            "align_items": null,
            "align_self": null,
            "border": null,
            "bottom": null,
            "display": null,
            "flex": null,
            "flex_flow": null,
            "grid_area": null,
            "grid_auto_columns": null,
            "grid_auto_flow": null,
            "grid_auto_rows": null,
            "grid_column": null,
            "grid_gap": null,
            "grid_row": null,
            "grid_template_areas": null,
            "grid_template_columns": null,
            "grid_template_rows": null,
            "height": null,
            "justify_content": null,
            "justify_items": null,
            "left": null,
            "margin": null,
            "max_height": null,
            "max_width": null,
            "min_height": null,
            "min_width": null,
            "object_fit": null,
            "object_position": null,
            "order": null,
            "overflow": null,
            "overflow_x": null,
            "overflow_y": null,
            "padding": null,
            "right": null,
            "top": null,
            "visibility": null,
            "width": null
          }
        },
        "685cc5cc66b1474d8ca1ba2aec2d77cb": {
          "model_module": "@jupyter-widgets/controls",
          "model_name": "DescriptionStyleModel",
          "model_module_version": "1.5.0",
          "state": {
            "_model_module": "@jupyter-widgets/controls",
            "_model_module_version": "1.5.0",
            "_model_name": "DescriptionStyleModel",
            "_view_count": null,
            "_view_module": "@jupyter-widgets/base",
            "_view_module_version": "1.2.0",
            "_view_name": "StyleView",
            "description_width": ""
          }
        },
        "3920d28d82cb4a8aba1c381f9ae8d163": {
          "model_module": "@jupyter-widgets/base",
          "model_name": "LayoutModel",
          "model_module_version": "1.2.0",
          "state": {
            "_model_module": "@jupyter-widgets/base",
            "_model_module_version": "1.2.0",
            "_model_name": "LayoutModel",
            "_view_count": null,
            "_view_module": "@jupyter-widgets/base",
            "_view_module_version": "1.2.0",
            "_view_name": "LayoutView",
            "align_content": null,
            "align_items": null,
            "align_self": null,
            "border": null,
            "bottom": null,
            "display": null,
            "flex": null,
            "flex_flow": null,
            "grid_area": null,
            "grid_auto_columns": null,
            "grid_auto_flow": null,
            "grid_auto_rows": null,
            "grid_column": null,
            "grid_gap": null,
            "grid_row": null,
            "grid_template_areas": null,
            "grid_template_columns": null,
            "grid_template_rows": null,
            "height": null,
            "justify_content": null,
            "justify_items": null,
            "left": null,
            "margin": null,
            "max_height": null,
            "max_width": null,
            "min_height": null,
            "min_width": null,
            "object_fit": null,
            "object_position": null,
            "order": null,
            "overflow": null,
            "overflow_x": null,
            "overflow_y": null,
            "padding": null,
            "right": null,
            "top": null,
            "visibility": null,
            "width": null
          }
        },
        "338d1383afc641ffaf37c3ff9543ca9b": {
          "model_module": "@jupyter-widgets/controls",
          "model_name": "ProgressStyleModel",
          "model_module_version": "1.5.0",
          "state": {
            "_model_module": "@jupyter-widgets/controls",
            "_model_module_version": "1.5.0",
            "_model_name": "ProgressStyleModel",
            "_view_count": null,
            "_view_module": "@jupyter-widgets/base",
            "_view_module_version": "1.2.0",
            "_view_name": "StyleView",
            "bar_color": null,
            "description_width": ""
          }
        },
        "a0b708b5b2fc48aaa355eaf4e1dd753d": {
          "model_module": "@jupyter-widgets/base",
          "model_name": "LayoutModel",
          "model_module_version": "1.2.0",
          "state": {
            "_model_module": "@jupyter-widgets/base",
            "_model_module_version": "1.2.0",
            "_model_name": "LayoutModel",
            "_view_count": null,
            "_view_module": "@jupyter-widgets/base",
            "_view_module_version": "1.2.0",
            "_view_name": "LayoutView",
            "align_content": null,
            "align_items": null,
            "align_self": null,
            "border": null,
            "bottom": null,
            "display": null,
            "flex": null,
            "flex_flow": null,
            "grid_area": null,
            "grid_auto_columns": null,
            "grid_auto_flow": null,
            "grid_auto_rows": null,
            "grid_column": null,
            "grid_gap": null,
            "grid_row": null,
            "grid_template_areas": null,
            "grid_template_columns": null,
            "grid_template_rows": null,
            "height": null,
            "justify_content": null,
            "justify_items": null,
            "left": null,
            "margin": null,
            "max_height": null,
            "max_width": null,
            "min_height": null,
            "min_width": null,
            "object_fit": null,
            "object_position": null,
            "order": null,
            "overflow": null,
            "overflow_x": null,
            "overflow_y": null,
            "padding": null,
            "right": null,
            "top": null,
            "visibility": null,
            "width": null
          }
        },
        "c3668c1a0d8d470ebd5460964b355977": {
          "model_module": "@jupyter-widgets/controls",
          "model_name": "DescriptionStyleModel",
          "model_module_version": "1.5.0",
          "state": {
            "_model_module": "@jupyter-widgets/controls",
            "_model_module_version": "1.5.0",
            "_model_name": "DescriptionStyleModel",
            "_view_count": null,
            "_view_module": "@jupyter-widgets/base",
            "_view_module_version": "1.2.0",
            "_view_name": "StyleView",
            "description_width": ""
          }
        },
        "ed94c7c23ce34a3a9f93ae876ea1ec9b": {
          "model_module": "@jupyter-widgets/controls",
          "model_name": "HBoxModel",
          "model_module_version": "1.5.0",
          "state": {
            "_dom_classes": [],
            "_model_module": "@jupyter-widgets/controls",
            "_model_module_version": "1.5.0",
            "_model_name": "HBoxModel",
            "_view_count": null,
            "_view_module": "@jupyter-widgets/controls",
            "_view_module_version": "1.5.0",
            "_view_name": "HBoxView",
            "box_style": "",
            "children": [
              "IPY_MODEL_a830ec2843d04ad98d2ff7d7a09dc8f5",
              "IPY_MODEL_0c49097406a749eba553934397c0c11a",
              "IPY_MODEL_40f877ece25745e1b5b4eca46c9d5661"
            ],
            "layout": "IPY_MODEL_c7dc895430934e339ffe8e7c2b652b97"
          }
        },
        "a830ec2843d04ad98d2ff7d7a09dc8f5": {
          "model_module": "@jupyter-widgets/controls",
          "model_name": "HTMLModel",
          "model_module_version": "1.5.0",
          "state": {
            "_dom_classes": [],
            "_model_module": "@jupyter-widgets/controls",
            "_model_module_version": "1.5.0",
            "_model_name": "HTMLModel",
            "_view_count": null,
            "_view_module": "@jupyter-widgets/controls",
            "_view_module_version": "1.5.0",
            "_view_name": "HTMLView",
            "description": "",
            "description_tooltip": null,
            "layout": "IPY_MODEL_a7d845132ca74454a04388d9b8b0c2a5",
            "placeholder": "​",
            "style": "IPY_MODEL_0fa93c1063e94e8ca6a96de8b70df115",
            "value": "sentence_bert_config.json: 100%"
          }
        },
        "0c49097406a749eba553934397c0c11a": {
          "model_module": "@jupyter-widgets/controls",
          "model_name": "FloatProgressModel",
          "model_module_version": "1.5.0",
          "state": {
            "_dom_classes": [],
            "_model_module": "@jupyter-widgets/controls",
            "_model_module_version": "1.5.0",
            "_model_name": "FloatProgressModel",
            "_view_count": null,
            "_view_module": "@jupyter-widgets/controls",
            "_view_module_version": "1.5.0",
            "_view_name": "ProgressView",
            "bar_style": "success",
            "description": "",
            "description_tooltip": null,
            "layout": "IPY_MODEL_b57b7e8c561d49c7a5cce0614e165ea5",
            "max": 53,
            "min": 0,
            "orientation": "horizontal",
            "style": "IPY_MODEL_74cd4c52fa1d45eab68ba9bebbc84284",
            "value": 53
          }
        },
        "40f877ece25745e1b5b4eca46c9d5661": {
          "model_module": "@jupyter-widgets/controls",
          "model_name": "HTMLModel",
          "model_module_version": "1.5.0",
          "state": {
            "_dom_classes": [],
            "_model_module": "@jupyter-widgets/controls",
            "_model_module_version": "1.5.0",
            "_model_name": "HTMLModel",
            "_view_count": null,
            "_view_module": "@jupyter-widgets/controls",
            "_view_module_version": "1.5.0",
            "_view_name": "HTMLView",
            "description": "",
            "description_tooltip": null,
            "layout": "IPY_MODEL_a128ee4009d0424088627fa0941a4d7b",
            "placeholder": "​",
            "style": "IPY_MODEL_90b4912edf15489dbc8d76cbb4ce1f4c",
            "value": " 53.0/53.0 [00:00&lt;00:00, 3.39kB/s]"
          }
        },
        "c7dc895430934e339ffe8e7c2b652b97": {
          "model_module": "@jupyter-widgets/base",
          "model_name": "LayoutModel",
          "model_module_version": "1.2.0",
          "state": {
            "_model_module": "@jupyter-widgets/base",
            "_model_module_version": "1.2.0",
            "_model_name": "LayoutModel",
            "_view_count": null,
            "_view_module": "@jupyter-widgets/base",
            "_view_module_version": "1.2.0",
            "_view_name": "LayoutView",
            "align_content": null,
            "align_items": null,
            "align_self": null,
            "border": null,
            "bottom": null,
            "display": null,
            "flex": null,
            "flex_flow": null,
            "grid_area": null,
            "grid_auto_columns": null,
            "grid_auto_flow": null,
            "grid_auto_rows": null,
            "grid_column": null,
            "grid_gap": null,
            "grid_row": null,
            "grid_template_areas": null,
            "grid_template_columns": null,
            "grid_template_rows": null,
            "height": null,
            "justify_content": null,
            "justify_items": null,
            "left": null,
            "margin": null,
            "max_height": null,
            "max_width": null,
            "min_height": null,
            "min_width": null,
            "object_fit": null,
            "object_position": null,
            "order": null,
            "overflow": null,
            "overflow_x": null,
            "overflow_y": null,
            "padding": null,
            "right": null,
            "top": null,
            "visibility": null,
            "width": null
          }
        },
        "a7d845132ca74454a04388d9b8b0c2a5": {
          "model_module": "@jupyter-widgets/base",
          "model_name": "LayoutModel",
          "model_module_version": "1.2.0",
          "state": {
            "_model_module": "@jupyter-widgets/base",
            "_model_module_version": "1.2.0",
            "_model_name": "LayoutModel",
            "_view_count": null,
            "_view_module": "@jupyter-widgets/base",
            "_view_module_version": "1.2.0",
            "_view_name": "LayoutView",
            "align_content": null,
            "align_items": null,
            "align_self": null,
            "border": null,
            "bottom": null,
            "display": null,
            "flex": null,
            "flex_flow": null,
            "grid_area": null,
            "grid_auto_columns": null,
            "grid_auto_flow": null,
            "grid_auto_rows": null,
            "grid_column": null,
            "grid_gap": null,
            "grid_row": null,
            "grid_template_areas": null,
            "grid_template_columns": null,
            "grid_template_rows": null,
            "height": null,
            "justify_content": null,
            "justify_items": null,
            "left": null,
            "margin": null,
            "max_height": null,
            "max_width": null,
            "min_height": null,
            "min_width": null,
            "object_fit": null,
            "object_position": null,
            "order": null,
            "overflow": null,
            "overflow_x": null,
            "overflow_y": null,
            "padding": null,
            "right": null,
            "top": null,
            "visibility": null,
            "width": null
          }
        },
        "0fa93c1063e94e8ca6a96de8b70df115": {
          "model_module": "@jupyter-widgets/controls",
          "model_name": "DescriptionStyleModel",
          "model_module_version": "1.5.0",
          "state": {
            "_model_module": "@jupyter-widgets/controls",
            "_model_module_version": "1.5.0",
            "_model_name": "DescriptionStyleModel",
            "_view_count": null,
            "_view_module": "@jupyter-widgets/base",
            "_view_module_version": "1.2.0",
            "_view_name": "StyleView",
            "description_width": ""
          }
        },
        "b57b7e8c561d49c7a5cce0614e165ea5": {
          "model_module": "@jupyter-widgets/base",
          "model_name": "LayoutModel",
          "model_module_version": "1.2.0",
          "state": {
            "_model_module": "@jupyter-widgets/base",
            "_model_module_version": "1.2.0",
            "_model_name": "LayoutModel",
            "_view_count": null,
            "_view_module": "@jupyter-widgets/base",
            "_view_module_version": "1.2.0",
            "_view_name": "LayoutView",
            "align_content": null,
            "align_items": null,
            "align_self": null,
            "border": null,
            "bottom": null,
            "display": null,
            "flex": null,
            "flex_flow": null,
            "grid_area": null,
            "grid_auto_columns": null,
            "grid_auto_flow": null,
            "grid_auto_rows": null,
            "grid_column": null,
            "grid_gap": null,
            "grid_row": null,
            "grid_template_areas": null,
            "grid_template_columns": null,
            "grid_template_rows": null,
            "height": null,
            "justify_content": null,
            "justify_items": null,
            "left": null,
            "margin": null,
            "max_height": null,
            "max_width": null,
            "min_height": null,
            "min_width": null,
            "object_fit": null,
            "object_position": null,
            "order": null,
            "overflow": null,
            "overflow_x": null,
            "overflow_y": null,
            "padding": null,
            "right": null,
            "top": null,
            "visibility": null,
            "width": null
          }
        },
        "74cd4c52fa1d45eab68ba9bebbc84284": {
          "model_module": "@jupyter-widgets/controls",
          "model_name": "ProgressStyleModel",
          "model_module_version": "1.5.0",
          "state": {
            "_model_module": "@jupyter-widgets/controls",
            "_model_module_version": "1.5.0",
            "_model_name": "ProgressStyleModel",
            "_view_count": null,
            "_view_module": "@jupyter-widgets/base",
            "_view_module_version": "1.2.0",
            "_view_name": "StyleView",
            "bar_color": null,
            "description_width": ""
          }
        },
        "a128ee4009d0424088627fa0941a4d7b": {
          "model_module": "@jupyter-widgets/base",
          "model_name": "LayoutModel",
          "model_module_version": "1.2.0",
          "state": {
            "_model_module": "@jupyter-widgets/base",
            "_model_module_version": "1.2.0",
            "_model_name": "LayoutModel",
            "_view_count": null,
            "_view_module": "@jupyter-widgets/base",
            "_view_module_version": "1.2.0",
            "_view_name": "LayoutView",
            "align_content": null,
            "align_items": null,
            "align_self": null,
            "border": null,
            "bottom": null,
            "display": null,
            "flex": null,
            "flex_flow": null,
            "grid_area": null,
            "grid_auto_columns": null,
            "grid_auto_flow": null,
            "grid_auto_rows": null,
            "grid_column": null,
            "grid_gap": null,
            "grid_row": null,
            "grid_template_areas": null,
            "grid_template_columns": null,
            "grid_template_rows": null,
            "height": null,
            "justify_content": null,
            "justify_items": null,
            "left": null,
            "margin": null,
            "max_height": null,
            "max_width": null,
            "min_height": null,
            "min_width": null,
            "object_fit": null,
            "object_position": null,
            "order": null,
            "overflow": null,
            "overflow_x": null,
            "overflow_y": null,
            "padding": null,
            "right": null,
            "top": null,
            "visibility": null,
            "width": null
          }
        },
        "90b4912edf15489dbc8d76cbb4ce1f4c": {
          "model_module": "@jupyter-widgets/controls",
          "model_name": "DescriptionStyleModel",
          "model_module_version": "1.5.0",
          "state": {
            "_model_module": "@jupyter-widgets/controls",
            "_model_module_version": "1.5.0",
            "_model_name": "DescriptionStyleModel",
            "_view_count": null,
            "_view_module": "@jupyter-widgets/base",
            "_view_module_version": "1.2.0",
            "_view_name": "StyleView",
            "description_width": ""
          }
        },
        "18f72e30d53a436aa732add8c0b6120c": {
          "model_module": "@jupyter-widgets/controls",
          "model_name": "HBoxModel",
          "model_module_version": "1.5.0",
          "state": {
            "_dom_classes": [],
            "_model_module": "@jupyter-widgets/controls",
            "_model_module_version": "1.5.0",
            "_model_name": "HBoxModel",
            "_view_count": null,
            "_view_module": "@jupyter-widgets/controls",
            "_view_module_version": "1.5.0",
            "_view_name": "HBoxView",
            "box_style": "",
            "children": [
              "IPY_MODEL_5816e391210c4ef29d4f603597a60d86",
              "IPY_MODEL_c3f2667ac9004e8b9065f24a13a73bfc",
              "IPY_MODEL_e1e3730cd99c4634a2acf3291703de7c"
            ],
            "layout": "IPY_MODEL_40f1270e7c294eedb607a95890f338c5"
          }
        },
        "5816e391210c4ef29d4f603597a60d86": {
          "model_module": "@jupyter-widgets/controls",
          "model_name": "HTMLModel",
          "model_module_version": "1.5.0",
          "state": {
            "_dom_classes": [],
            "_model_module": "@jupyter-widgets/controls",
            "_model_module_version": "1.5.0",
            "_model_name": "HTMLModel",
            "_view_count": null,
            "_view_module": "@jupyter-widgets/controls",
            "_view_module_version": "1.5.0",
            "_view_name": "HTMLView",
            "description": "",
            "description_tooltip": null,
            "layout": "IPY_MODEL_0070d4875c904b069056d665f3eaa2a0",
            "placeholder": "​",
            "style": "IPY_MODEL_c366199bbdca49a6bcd5e40501af0ec4",
            "value": "config.json: 100%"
          }
        },
        "c3f2667ac9004e8b9065f24a13a73bfc": {
          "model_module": "@jupyter-widgets/controls",
          "model_name": "FloatProgressModel",
          "model_module_version": "1.5.0",
          "state": {
            "_dom_classes": [],
            "_model_module": "@jupyter-widgets/controls",
            "_model_module_version": "1.5.0",
            "_model_name": "FloatProgressModel",
            "_view_count": null,
            "_view_module": "@jupyter-widgets/controls",
            "_view_module_version": "1.5.0",
            "_view_name": "ProgressView",
            "bar_style": "success",
            "description": "",
            "description_tooltip": null,
            "layout": "IPY_MODEL_ba54e6ab552747bc975170ba74d114ec",
            "max": 612,
            "min": 0,
            "orientation": "horizontal",
            "style": "IPY_MODEL_15fa7e477f364b8ebecf6679e7faaa1e",
            "value": 612
          }
        },
        "e1e3730cd99c4634a2acf3291703de7c": {
          "model_module": "@jupyter-widgets/controls",
          "model_name": "HTMLModel",
          "model_module_version": "1.5.0",
          "state": {
            "_dom_classes": [],
            "_model_module": "@jupyter-widgets/controls",
            "_model_module_version": "1.5.0",
            "_model_name": "HTMLModel",
            "_view_count": null,
            "_view_module": "@jupyter-widgets/controls",
            "_view_module_version": "1.5.0",
            "_view_name": "HTMLView",
            "description": "",
            "description_tooltip": null,
            "layout": "IPY_MODEL_f80f3f3dfa1b4f3fb4a0760b75ec74ac",
            "placeholder": "​",
            "style": "IPY_MODEL_4e2e51f92fcd450ea3cbba5700cd8efb",
            "value": " 612/612 [00:00&lt;00:00, 35.5kB/s]"
          }
        },
        "40f1270e7c294eedb607a95890f338c5": {
          "model_module": "@jupyter-widgets/base",
          "model_name": "LayoutModel",
          "model_module_version": "1.2.0",
          "state": {
            "_model_module": "@jupyter-widgets/base",
            "_model_module_version": "1.2.0",
            "_model_name": "LayoutModel",
            "_view_count": null,
            "_view_module": "@jupyter-widgets/base",
            "_view_module_version": "1.2.0",
            "_view_name": "LayoutView",
            "align_content": null,
            "align_items": null,
            "align_self": null,
            "border": null,
            "bottom": null,
            "display": null,
            "flex": null,
            "flex_flow": null,
            "grid_area": null,
            "grid_auto_columns": null,
            "grid_auto_flow": null,
            "grid_auto_rows": null,
            "grid_column": null,
            "grid_gap": null,
            "grid_row": null,
            "grid_template_areas": null,
            "grid_template_columns": null,
            "grid_template_rows": null,
            "height": null,
            "justify_content": null,
            "justify_items": null,
            "left": null,
            "margin": null,
            "max_height": null,
            "max_width": null,
            "min_height": null,
            "min_width": null,
            "object_fit": null,
            "object_position": null,
            "order": null,
            "overflow": null,
            "overflow_x": null,
            "overflow_y": null,
            "padding": null,
            "right": null,
            "top": null,
            "visibility": null,
            "width": null
          }
        },
        "0070d4875c904b069056d665f3eaa2a0": {
          "model_module": "@jupyter-widgets/base",
          "model_name": "LayoutModel",
          "model_module_version": "1.2.0",
          "state": {
            "_model_module": "@jupyter-widgets/base",
            "_model_module_version": "1.2.0",
            "_model_name": "LayoutModel",
            "_view_count": null,
            "_view_module": "@jupyter-widgets/base",
            "_view_module_version": "1.2.0",
            "_view_name": "LayoutView",
            "align_content": null,
            "align_items": null,
            "align_self": null,
            "border": null,
            "bottom": null,
            "display": null,
            "flex": null,
            "flex_flow": null,
            "grid_area": null,
            "grid_auto_columns": null,
            "grid_auto_flow": null,
            "grid_auto_rows": null,
            "grid_column": null,
            "grid_gap": null,
            "grid_row": null,
            "grid_template_areas": null,
            "grid_template_columns": null,
            "grid_template_rows": null,
            "height": null,
            "justify_content": null,
            "justify_items": null,
            "left": null,
            "margin": null,
            "max_height": null,
            "max_width": null,
            "min_height": null,
            "min_width": null,
            "object_fit": null,
            "object_position": null,
            "order": null,
            "overflow": null,
            "overflow_x": null,
            "overflow_y": null,
            "padding": null,
            "right": null,
            "top": null,
            "visibility": null,
            "width": null
          }
        },
        "c366199bbdca49a6bcd5e40501af0ec4": {
          "model_module": "@jupyter-widgets/controls",
          "model_name": "DescriptionStyleModel",
          "model_module_version": "1.5.0",
          "state": {
            "_model_module": "@jupyter-widgets/controls",
            "_model_module_version": "1.5.0",
            "_model_name": "DescriptionStyleModel",
            "_view_count": null,
            "_view_module": "@jupyter-widgets/base",
            "_view_module_version": "1.2.0",
            "_view_name": "StyleView",
            "description_width": ""
          }
        },
        "ba54e6ab552747bc975170ba74d114ec": {
          "model_module": "@jupyter-widgets/base",
          "model_name": "LayoutModel",
          "model_module_version": "1.2.0",
          "state": {
            "_model_module": "@jupyter-widgets/base",
            "_model_module_version": "1.2.0",
            "_model_name": "LayoutModel",
            "_view_count": null,
            "_view_module": "@jupyter-widgets/base",
            "_view_module_version": "1.2.0",
            "_view_name": "LayoutView",
            "align_content": null,
            "align_items": null,
            "align_self": null,
            "border": null,
            "bottom": null,
            "display": null,
            "flex": null,
            "flex_flow": null,
            "grid_area": null,
            "grid_auto_columns": null,
            "grid_auto_flow": null,
            "grid_auto_rows": null,
            "grid_column": null,
            "grid_gap": null,
            "grid_row": null,
            "grid_template_areas": null,
            "grid_template_columns": null,
            "grid_template_rows": null,
            "height": null,
            "justify_content": null,
            "justify_items": null,
            "left": null,
            "margin": null,
            "max_height": null,
            "max_width": null,
            "min_height": null,
            "min_width": null,
            "object_fit": null,
            "object_position": null,
            "order": null,
            "overflow": null,
            "overflow_x": null,
            "overflow_y": null,
            "padding": null,
            "right": null,
            "top": null,
            "visibility": null,
            "width": null
          }
        },
        "15fa7e477f364b8ebecf6679e7faaa1e": {
          "model_module": "@jupyter-widgets/controls",
          "model_name": "ProgressStyleModel",
          "model_module_version": "1.5.0",
          "state": {
            "_model_module": "@jupyter-widgets/controls",
            "_model_module_version": "1.5.0",
            "_model_name": "ProgressStyleModel",
            "_view_count": null,
            "_view_module": "@jupyter-widgets/base",
            "_view_module_version": "1.2.0",
            "_view_name": "StyleView",
            "bar_color": null,
            "description_width": ""
          }
        },
        "f80f3f3dfa1b4f3fb4a0760b75ec74ac": {
          "model_module": "@jupyter-widgets/base",
          "model_name": "LayoutModel",
          "model_module_version": "1.2.0",
          "state": {
            "_model_module": "@jupyter-widgets/base",
            "_model_module_version": "1.2.0",
            "_model_name": "LayoutModel",
            "_view_count": null,
            "_view_module": "@jupyter-widgets/base",
            "_view_module_version": "1.2.0",
            "_view_name": "LayoutView",
            "align_content": null,
            "align_items": null,
            "align_self": null,
            "border": null,
            "bottom": null,
            "display": null,
            "flex": null,
            "flex_flow": null,
            "grid_area": null,
            "grid_auto_columns": null,
            "grid_auto_flow": null,
            "grid_auto_rows": null,
            "grid_column": null,
            "grid_gap": null,
            "grid_row": null,
            "grid_template_areas": null,
            "grid_template_columns": null,
            "grid_template_rows": null,
            "height": null,
            "justify_content": null,
            "justify_items": null,
            "left": null,
            "margin": null,
            "max_height": null,
            "max_width": null,
            "min_height": null,
            "min_width": null,
            "object_fit": null,
            "object_position": null,
            "order": null,
            "overflow": null,
            "overflow_x": null,
            "overflow_y": null,
            "padding": null,
            "right": null,
            "top": null,
            "visibility": null,
            "width": null
          }
        },
        "4e2e51f92fcd450ea3cbba5700cd8efb": {
          "model_module": "@jupyter-widgets/controls",
          "model_name": "DescriptionStyleModel",
          "model_module_version": "1.5.0",
          "state": {
            "_model_module": "@jupyter-widgets/controls",
            "_model_module_version": "1.5.0",
            "_model_name": "DescriptionStyleModel",
            "_view_count": null,
            "_view_module": "@jupyter-widgets/base",
            "_view_module_version": "1.2.0",
            "_view_name": "StyleView",
            "description_width": ""
          }
        },
        "2c4f79e064ca4c619f6e36dc56084669": {
          "model_module": "@jupyter-widgets/controls",
          "model_name": "HBoxModel",
          "model_module_version": "1.5.0",
          "state": {
            "_dom_classes": [],
            "_model_module": "@jupyter-widgets/controls",
            "_model_module_version": "1.5.0",
            "_model_name": "HBoxModel",
            "_view_count": null,
            "_view_module": "@jupyter-widgets/controls",
            "_view_module_version": "1.5.0",
            "_view_name": "HBoxView",
            "box_style": "",
            "children": [
              "IPY_MODEL_48a451bc02c1437e8146a919b98db798",
              "IPY_MODEL_5b6c4d065fdf451bb9efa4892cad76e1",
              "IPY_MODEL_a3e748bc18944546addda85677be592e"
            ],
            "layout": "IPY_MODEL_f0976635a50f48ada1ce6a9976508f5f"
          }
        },
        "48a451bc02c1437e8146a919b98db798": {
          "model_module": "@jupyter-widgets/controls",
          "model_name": "HTMLModel",
          "model_module_version": "1.5.0",
          "state": {
            "_dom_classes": [],
            "_model_module": "@jupyter-widgets/controls",
            "_model_module_version": "1.5.0",
            "_model_name": "HTMLModel",
            "_view_count": null,
            "_view_module": "@jupyter-widgets/controls",
            "_view_module_version": "1.5.0",
            "_view_name": "HTMLView",
            "description": "",
            "description_tooltip": null,
            "layout": "IPY_MODEL_9fd44351bf224dafbcb425ea28415962",
            "placeholder": "​",
            "style": "IPY_MODEL_d790634d72a242c7a7e873276b04fc78",
            "value": "model.safetensors: 100%"
          }
        },
        "5b6c4d065fdf451bb9efa4892cad76e1": {
          "model_module": "@jupyter-widgets/controls",
          "model_name": "FloatProgressModel",
          "model_module_version": "1.5.0",
          "state": {
            "_dom_classes": [],
            "_model_module": "@jupyter-widgets/controls",
            "_model_module_version": "1.5.0",
            "_model_name": "FloatProgressModel",
            "_view_count": null,
            "_view_module": "@jupyter-widgets/controls",
            "_view_module_version": "1.5.0",
            "_view_name": "ProgressView",
            "bar_style": "success",
            "description": "",
            "description_tooltip": null,
            "layout": "IPY_MODEL_3b3b8be3ba704efabe83f5aae39e5815",
            "max": 90868376,
            "min": 0,
            "orientation": "horizontal",
            "style": "IPY_MODEL_68138310c16a45d1811ac0101e3c1687",
            "value": 90868376
          }
        },
        "a3e748bc18944546addda85677be592e": {
          "model_module": "@jupyter-widgets/controls",
          "model_name": "HTMLModel",
          "model_module_version": "1.5.0",
          "state": {
            "_dom_classes": [],
            "_model_module": "@jupyter-widgets/controls",
            "_model_module_version": "1.5.0",
            "_model_name": "HTMLModel",
            "_view_count": null,
            "_view_module": "@jupyter-widgets/controls",
            "_view_module_version": "1.5.0",
            "_view_name": "HTMLView",
            "description": "",
            "description_tooltip": null,
            "layout": "IPY_MODEL_375a96533dfd4f049157b8bcff3db029",
            "placeholder": "​",
            "style": "IPY_MODEL_fb76e3159bd74480a68ddb36ca15df35",
            "value": " 90.9M/90.9M [00:00&lt;00:00, 237MB/s]"
          }
        },
        "f0976635a50f48ada1ce6a9976508f5f": {
          "model_module": "@jupyter-widgets/base",
          "model_name": "LayoutModel",
          "model_module_version": "1.2.0",
          "state": {
            "_model_module": "@jupyter-widgets/base",
            "_model_module_version": "1.2.0",
            "_model_name": "LayoutModel",
            "_view_count": null,
            "_view_module": "@jupyter-widgets/base",
            "_view_module_version": "1.2.0",
            "_view_name": "LayoutView",
            "align_content": null,
            "align_items": null,
            "align_self": null,
            "border": null,
            "bottom": null,
            "display": null,
            "flex": null,
            "flex_flow": null,
            "grid_area": null,
            "grid_auto_columns": null,
            "grid_auto_flow": null,
            "grid_auto_rows": null,
            "grid_column": null,
            "grid_gap": null,
            "grid_row": null,
            "grid_template_areas": null,
            "grid_template_columns": null,
            "grid_template_rows": null,
            "height": null,
            "justify_content": null,
            "justify_items": null,
            "left": null,
            "margin": null,
            "max_height": null,
            "max_width": null,
            "min_height": null,
            "min_width": null,
            "object_fit": null,
            "object_position": null,
            "order": null,
            "overflow": null,
            "overflow_x": null,
            "overflow_y": null,
            "padding": null,
            "right": null,
            "top": null,
            "visibility": null,
            "width": null
          }
        },
        "9fd44351bf224dafbcb425ea28415962": {
          "model_module": "@jupyter-widgets/base",
          "model_name": "LayoutModel",
          "model_module_version": "1.2.0",
          "state": {
            "_model_module": "@jupyter-widgets/base",
            "_model_module_version": "1.2.0",
            "_model_name": "LayoutModel",
            "_view_count": null,
            "_view_module": "@jupyter-widgets/base",
            "_view_module_version": "1.2.0",
            "_view_name": "LayoutView",
            "align_content": null,
            "align_items": null,
            "align_self": null,
            "border": null,
            "bottom": null,
            "display": null,
            "flex": null,
            "flex_flow": null,
            "grid_area": null,
            "grid_auto_columns": null,
            "grid_auto_flow": null,
            "grid_auto_rows": null,
            "grid_column": null,
            "grid_gap": null,
            "grid_row": null,
            "grid_template_areas": null,
            "grid_template_columns": null,
            "grid_template_rows": null,
            "height": null,
            "justify_content": null,
            "justify_items": null,
            "left": null,
            "margin": null,
            "max_height": null,
            "max_width": null,
            "min_height": null,
            "min_width": null,
            "object_fit": null,
            "object_position": null,
            "order": null,
            "overflow": null,
            "overflow_x": null,
            "overflow_y": null,
            "padding": null,
            "right": null,
            "top": null,
            "visibility": null,
            "width": null
          }
        },
        "d790634d72a242c7a7e873276b04fc78": {
          "model_module": "@jupyter-widgets/controls",
          "model_name": "DescriptionStyleModel",
          "model_module_version": "1.5.0",
          "state": {
            "_model_module": "@jupyter-widgets/controls",
            "_model_module_version": "1.5.0",
            "_model_name": "DescriptionStyleModel",
            "_view_count": null,
            "_view_module": "@jupyter-widgets/base",
            "_view_module_version": "1.2.0",
            "_view_name": "StyleView",
            "description_width": ""
          }
        },
        "3b3b8be3ba704efabe83f5aae39e5815": {
          "model_module": "@jupyter-widgets/base",
          "model_name": "LayoutModel",
          "model_module_version": "1.2.0",
          "state": {
            "_model_module": "@jupyter-widgets/base",
            "_model_module_version": "1.2.0",
            "_model_name": "LayoutModel",
            "_view_count": null,
            "_view_module": "@jupyter-widgets/base",
            "_view_module_version": "1.2.0",
            "_view_name": "LayoutView",
            "align_content": null,
            "align_items": null,
            "align_self": null,
            "border": null,
            "bottom": null,
            "display": null,
            "flex": null,
            "flex_flow": null,
            "grid_area": null,
            "grid_auto_columns": null,
            "grid_auto_flow": null,
            "grid_auto_rows": null,
            "grid_column": null,
            "grid_gap": null,
            "grid_row": null,
            "grid_template_areas": null,
            "grid_template_columns": null,
            "grid_template_rows": null,
            "height": null,
            "justify_content": null,
            "justify_items": null,
            "left": null,
            "margin": null,
            "max_height": null,
            "max_width": null,
            "min_height": null,
            "min_width": null,
            "object_fit": null,
            "object_position": null,
            "order": null,
            "overflow": null,
            "overflow_x": null,
            "overflow_y": null,
            "padding": null,
            "right": null,
            "top": null,
            "visibility": null,
            "width": null
          }
        },
        "68138310c16a45d1811ac0101e3c1687": {
          "model_module": "@jupyter-widgets/controls",
          "model_name": "ProgressStyleModel",
          "model_module_version": "1.5.0",
          "state": {
            "_model_module": "@jupyter-widgets/controls",
            "_model_module_version": "1.5.0",
            "_model_name": "ProgressStyleModel",
            "_view_count": null,
            "_view_module": "@jupyter-widgets/base",
            "_view_module_version": "1.2.0",
            "_view_name": "StyleView",
            "bar_color": null,
            "description_width": ""
          }
        },
        "375a96533dfd4f049157b8bcff3db029": {
          "model_module": "@jupyter-widgets/base",
          "model_name": "LayoutModel",
          "model_module_version": "1.2.0",
          "state": {
            "_model_module": "@jupyter-widgets/base",
            "_model_module_version": "1.2.0",
            "_model_name": "LayoutModel",
            "_view_count": null,
            "_view_module": "@jupyter-widgets/base",
            "_view_module_version": "1.2.0",
            "_view_name": "LayoutView",
            "align_content": null,
            "align_items": null,
            "align_self": null,
            "border": null,
            "bottom": null,
            "display": null,
            "flex": null,
            "flex_flow": null,
            "grid_area": null,
            "grid_auto_columns": null,
            "grid_auto_flow": null,
            "grid_auto_rows": null,
            "grid_column": null,
            "grid_gap": null,
            "grid_row": null,
            "grid_template_areas": null,
            "grid_template_columns": null,
            "grid_template_rows": null,
            "height": null,
            "justify_content": null,
            "justify_items": null,
            "left": null,
            "margin": null,
            "max_height": null,
            "max_width": null,
            "min_height": null,
            "min_width": null,
            "object_fit": null,
            "object_position": null,
            "order": null,
            "overflow": null,
            "overflow_x": null,
            "overflow_y": null,
            "padding": null,
            "right": null,
            "top": null,
            "visibility": null,
            "width": null
          }
        },
        "fb76e3159bd74480a68ddb36ca15df35": {
          "model_module": "@jupyter-widgets/controls",
          "model_name": "DescriptionStyleModel",
          "model_module_version": "1.5.0",
          "state": {
            "_model_module": "@jupyter-widgets/controls",
            "_model_module_version": "1.5.0",
            "_model_name": "DescriptionStyleModel",
            "_view_count": null,
            "_view_module": "@jupyter-widgets/base",
            "_view_module_version": "1.2.0",
            "_view_name": "StyleView",
            "description_width": ""
          }
        },
        "8a0d5d6d72434c23b85623af4a9639ea": {
          "model_module": "@jupyter-widgets/controls",
          "model_name": "HBoxModel",
          "model_module_version": "1.5.0",
          "state": {
            "_dom_classes": [],
            "_model_module": "@jupyter-widgets/controls",
            "_model_module_version": "1.5.0",
            "_model_name": "HBoxModel",
            "_view_count": null,
            "_view_module": "@jupyter-widgets/controls",
            "_view_module_version": "1.5.0",
            "_view_name": "HBoxView",
            "box_style": "",
            "children": [
              "IPY_MODEL_ebf674e31ada4075b03ae940691f1968",
              "IPY_MODEL_0ef9a6518d594f30984be279a8cc86c0",
              "IPY_MODEL_2a0e4eb6af214e6d80e80024eaf7844d"
            ],
            "layout": "IPY_MODEL_77f3d54e7e9c4f379584cbbce6231a72"
          }
        },
        "ebf674e31ada4075b03ae940691f1968": {
          "model_module": "@jupyter-widgets/controls",
          "model_name": "HTMLModel",
          "model_module_version": "1.5.0",
          "state": {
            "_dom_classes": [],
            "_model_module": "@jupyter-widgets/controls",
            "_model_module_version": "1.5.0",
            "_model_name": "HTMLModel",
            "_view_count": null,
            "_view_module": "@jupyter-widgets/controls",
            "_view_module_version": "1.5.0",
            "_view_name": "HTMLView",
            "description": "",
            "description_tooltip": null,
            "layout": "IPY_MODEL_8c41921062454fb187c4d8ca931eb19e",
            "placeholder": "​",
            "style": "IPY_MODEL_9dd2adaa38fa4589af76188e16f89315",
            "value": "tokenizer_config.json: 100%"
          }
        },
        "0ef9a6518d594f30984be279a8cc86c0": {
          "model_module": "@jupyter-widgets/controls",
          "model_name": "FloatProgressModel",
          "model_module_version": "1.5.0",
          "state": {
            "_dom_classes": [],
            "_model_module": "@jupyter-widgets/controls",
            "_model_module_version": "1.5.0",
            "_model_name": "FloatProgressModel",
            "_view_count": null,
            "_view_module": "@jupyter-widgets/controls",
            "_view_module_version": "1.5.0",
            "_view_name": "ProgressView",
            "bar_style": "success",
            "description": "",
            "description_tooltip": null,
            "layout": "IPY_MODEL_dc956ee6e716403386505a8fc1402c1d",
            "max": 350,
            "min": 0,
            "orientation": "horizontal",
            "style": "IPY_MODEL_83ec9f8a4ffb4ccd835d6f39e9d5b628",
            "value": 350
          }
        },
        "2a0e4eb6af214e6d80e80024eaf7844d": {
          "model_module": "@jupyter-widgets/controls",
          "model_name": "HTMLModel",
          "model_module_version": "1.5.0",
          "state": {
            "_dom_classes": [],
            "_model_module": "@jupyter-widgets/controls",
            "_model_module_version": "1.5.0",
            "_model_name": "HTMLModel",
            "_view_count": null,
            "_view_module": "@jupyter-widgets/controls",
            "_view_module_version": "1.5.0",
            "_view_name": "HTMLView",
            "description": "",
            "description_tooltip": null,
            "layout": "IPY_MODEL_1838ccf6092c45b2a8ddc49907dd8c50",
            "placeholder": "​",
            "style": "IPY_MODEL_0ee3d8c49fbc437c84c768b10ba64288",
            "value": " 350/350 [00:00&lt;00:00, 20.7kB/s]"
          }
        },
        "77f3d54e7e9c4f379584cbbce6231a72": {
          "model_module": "@jupyter-widgets/base",
          "model_name": "LayoutModel",
          "model_module_version": "1.2.0",
          "state": {
            "_model_module": "@jupyter-widgets/base",
            "_model_module_version": "1.2.0",
            "_model_name": "LayoutModel",
            "_view_count": null,
            "_view_module": "@jupyter-widgets/base",
            "_view_module_version": "1.2.0",
            "_view_name": "LayoutView",
            "align_content": null,
            "align_items": null,
            "align_self": null,
            "border": null,
            "bottom": null,
            "display": null,
            "flex": null,
            "flex_flow": null,
            "grid_area": null,
            "grid_auto_columns": null,
            "grid_auto_flow": null,
            "grid_auto_rows": null,
            "grid_column": null,
            "grid_gap": null,
            "grid_row": null,
            "grid_template_areas": null,
            "grid_template_columns": null,
            "grid_template_rows": null,
            "height": null,
            "justify_content": null,
            "justify_items": null,
            "left": null,
            "margin": null,
            "max_height": null,
            "max_width": null,
            "min_height": null,
            "min_width": null,
            "object_fit": null,
            "object_position": null,
            "order": null,
            "overflow": null,
            "overflow_x": null,
            "overflow_y": null,
            "padding": null,
            "right": null,
            "top": null,
            "visibility": null,
            "width": null
          }
        },
        "8c41921062454fb187c4d8ca931eb19e": {
          "model_module": "@jupyter-widgets/base",
          "model_name": "LayoutModel",
          "model_module_version": "1.2.0",
          "state": {
            "_model_module": "@jupyter-widgets/base",
            "_model_module_version": "1.2.0",
            "_model_name": "LayoutModel",
            "_view_count": null,
            "_view_module": "@jupyter-widgets/base",
            "_view_module_version": "1.2.0",
            "_view_name": "LayoutView",
            "align_content": null,
            "align_items": null,
            "align_self": null,
            "border": null,
            "bottom": null,
            "display": null,
            "flex": null,
            "flex_flow": null,
            "grid_area": null,
            "grid_auto_columns": null,
            "grid_auto_flow": null,
            "grid_auto_rows": null,
            "grid_column": null,
            "grid_gap": null,
            "grid_row": null,
            "grid_template_areas": null,
            "grid_template_columns": null,
            "grid_template_rows": null,
            "height": null,
            "justify_content": null,
            "justify_items": null,
            "left": null,
            "margin": null,
            "max_height": null,
            "max_width": null,
            "min_height": null,
            "min_width": null,
            "object_fit": null,
            "object_position": null,
            "order": null,
            "overflow": null,
            "overflow_x": null,
            "overflow_y": null,
            "padding": null,
            "right": null,
            "top": null,
            "visibility": null,
            "width": null
          }
        },
        "9dd2adaa38fa4589af76188e16f89315": {
          "model_module": "@jupyter-widgets/controls",
          "model_name": "DescriptionStyleModel",
          "model_module_version": "1.5.0",
          "state": {
            "_model_module": "@jupyter-widgets/controls",
            "_model_module_version": "1.5.0",
            "_model_name": "DescriptionStyleModel",
            "_view_count": null,
            "_view_module": "@jupyter-widgets/base",
            "_view_module_version": "1.2.0",
            "_view_name": "StyleView",
            "description_width": ""
          }
        },
        "dc956ee6e716403386505a8fc1402c1d": {
          "model_module": "@jupyter-widgets/base",
          "model_name": "LayoutModel",
          "model_module_version": "1.2.0",
          "state": {
            "_model_module": "@jupyter-widgets/base",
            "_model_module_version": "1.2.0",
            "_model_name": "LayoutModel",
            "_view_count": null,
            "_view_module": "@jupyter-widgets/base",
            "_view_module_version": "1.2.0",
            "_view_name": "LayoutView",
            "align_content": null,
            "align_items": null,
            "align_self": null,
            "border": null,
            "bottom": null,
            "display": null,
            "flex": null,
            "flex_flow": null,
            "grid_area": null,
            "grid_auto_columns": null,
            "grid_auto_flow": null,
            "grid_auto_rows": null,
            "grid_column": null,
            "grid_gap": null,
            "grid_row": null,
            "grid_template_areas": null,
            "grid_template_columns": null,
            "grid_template_rows": null,
            "height": null,
            "justify_content": null,
            "justify_items": null,
            "left": null,
            "margin": null,
            "max_height": null,
            "max_width": null,
            "min_height": null,
            "min_width": null,
            "object_fit": null,
            "object_position": null,
            "order": null,
            "overflow": null,
            "overflow_x": null,
            "overflow_y": null,
            "padding": null,
            "right": null,
            "top": null,
            "visibility": null,
            "width": null
          }
        },
        "83ec9f8a4ffb4ccd835d6f39e9d5b628": {
          "model_module": "@jupyter-widgets/controls",
          "model_name": "ProgressStyleModel",
          "model_module_version": "1.5.0",
          "state": {
            "_model_module": "@jupyter-widgets/controls",
            "_model_module_version": "1.5.0",
            "_model_name": "ProgressStyleModel",
            "_view_count": null,
            "_view_module": "@jupyter-widgets/base",
            "_view_module_version": "1.2.0",
            "_view_name": "StyleView",
            "bar_color": null,
            "description_width": ""
          }
        },
        "1838ccf6092c45b2a8ddc49907dd8c50": {
          "model_module": "@jupyter-widgets/base",
          "model_name": "LayoutModel",
          "model_module_version": "1.2.0",
          "state": {
            "_model_module": "@jupyter-widgets/base",
            "_model_module_version": "1.2.0",
            "_model_name": "LayoutModel",
            "_view_count": null,
            "_view_module": "@jupyter-widgets/base",
            "_view_module_version": "1.2.0",
            "_view_name": "LayoutView",
            "align_content": null,
            "align_items": null,
            "align_self": null,
            "border": null,
            "bottom": null,
            "display": null,
            "flex": null,
            "flex_flow": null,
            "grid_area": null,
            "grid_auto_columns": null,
            "grid_auto_flow": null,
            "grid_auto_rows": null,
            "grid_column": null,
            "grid_gap": null,
            "grid_row": null,
            "grid_template_areas": null,
            "grid_template_columns": null,
            "grid_template_rows": null,
            "height": null,
            "justify_content": null,
            "justify_items": null,
            "left": null,
            "margin": null,
            "max_height": null,
            "max_width": null,
            "min_height": null,
            "min_width": null,
            "object_fit": null,
            "object_position": null,
            "order": null,
            "overflow": null,
            "overflow_x": null,
            "overflow_y": null,
            "padding": null,
            "right": null,
            "top": null,
            "visibility": null,
            "width": null
          }
        },
        "0ee3d8c49fbc437c84c768b10ba64288": {
          "model_module": "@jupyter-widgets/controls",
          "model_name": "DescriptionStyleModel",
          "model_module_version": "1.5.0",
          "state": {
            "_model_module": "@jupyter-widgets/controls",
            "_model_module_version": "1.5.0",
            "_model_name": "DescriptionStyleModel",
            "_view_count": null,
            "_view_module": "@jupyter-widgets/base",
            "_view_module_version": "1.2.0",
            "_view_name": "StyleView",
            "description_width": ""
          }
        },
        "a53877c162744015b763cb643410fd45": {
          "model_module": "@jupyter-widgets/controls",
          "model_name": "HBoxModel",
          "model_module_version": "1.5.0",
          "state": {
            "_dom_classes": [],
            "_model_module": "@jupyter-widgets/controls",
            "_model_module_version": "1.5.0",
            "_model_name": "HBoxModel",
            "_view_count": null,
            "_view_module": "@jupyter-widgets/controls",
            "_view_module_version": "1.5.0",
            "_view_name": "HBoxView",
            "box_style": "",
            "children": [
              "IPY_MODEL_b678491844454b8dadb0c8d0e4a33af2",
              "IPY_MODEL_6c45139ee8944bd4b63a075766d0e32e",
              "IPY_MODEL_7abdcb6bed554bed877cc0c8f364bdc2"
            ],
            "layout": "IPY_MODEL_bcd5e3d815fb4136bbe09ff7817a8010"
          }
        },
        "b678491844454b8dadb0c8d0e4a33af2": {
          "model_module": "@jupyter-widgets/controls",
          "model_name": "HTMLModel",
          "model_module_version": "1.5.0",
          "state": {
            "_dom_classes": [],
            "_model_module": "@jupyter-widgets/controls",
            "_model_module_version": "1.5.0",
            "_model_name": "HTMLModel",
            "_view_count": null,
            "_view_module": "@jupyter-widgets/controls",
            "_view_module_version": "1.5.0",
            "_view_name": "HTMLView",
            "description": "",
            "description_tooltip": null,
            "layout": "IPY_MODEL_5f731a92d472441cb9845c0b291cdc9a",
            "placeholder": "​",
            "style": "IPY_MODEL_1af26810199442268d8b3ccc5d5e023b",
            "value": "vocab.txt: 100%"
          }
        },
        "6c45139ee8944bd4b63a075766d0e32e": {
          "model_module": "@jupyter-widgets/controls",
          "model_name": "FloatProgressModel",
          "model_module_version": "1.5.0",
          "state": {
            "_dom_classes": [],
            "_model_module": "@jupyter-widgets/controls",
            "_model_module_version": "1.5.0",
            "_model_name": "FloatProgressModel",
            "_view_count": null,
            "_view_module": "@jupyter-widgets/controls",
            "_view_module_version": "1.5.0",
            "_view_name": "ProgressView",
            "bar_style": "success",
            "description": "",
            "description_tooltip": null,
            "layout": "IPY_MODEL_69e2bcb7a3364c6690b5f0e75e1a5d23",
            "max": 231508,
            "min": 0,
            "orientation": "horizontal",
            "style": "IPY_MODEL_06db9e9b94d54301b52ceb30f23ce5a3",
            "value": 231508
          }
        },
        "7abdcb6bed554bed877cc0c8f364bdc2": {
          "model_module": "@jupyter-widgets/controls",
          "model_name": "HTMLModel",
          "model_module_version": "1.5.0",
          "state": {
            "_dom_classes": [],
            "_model_module": "@jupyter-widgets/controls",
            "_model_module_version": "1.5.0",
            "_model_name": "HTMLModel",
            "_view_count": null,
            "_view_module": "@jupyter-widgets/controls",
            "_view_module_version": "1.5.0",
            "_view_name": "HTMLView",
            "description": "",
            "description_tooltip": null,
            "layout": "IPY_MODEL_034dc741861b4ab687322ec731360dc8",
            "placeholder": "​",
            "style": "IPY_MODEL_631e9547c5f04bcfae67852013c24ae9",
            "value": " 232k/232k [00:00&lt;00:00, 4.73MB/s]"
          }
        },
        "bcd5e3d815fb4136bbe09ff7817a8010": {
          "model_module": "@jupyter-widgets/base",
          "model_name": "LayoutModel",
          "model_module_version": "1.2.0",
          "state": {
            "_model_module": "@jupyter-widgets/base",
            "_model_module_version": "1.2.0",
            "_model_name": "LayoutModel",
            "_view_count": null,
            "_view_module": "@jupyter-widgets/base",
            "_view_module_version": "1.2.0",
            "_view_name": "LayoutView",
            "align_content": null,
            "align_items": null,
            "align_self": null,
            "border": null,
            "bottom": null,
            "display": null,
            "flex": null,
            "flex_flow": null,
            "grid_area": null,
            "grid_auto_columns": null,
            "grid_auto_flow": null,
            "grid_auto_rows": null,
            "grid_column": null,
            "grid_gap": null,
            "grid_row": null,
            "grid_template_areas": null,
            "grid_template_columns": null,
            "grid_template_rows": null,
            "height": null,
            "justify_content": null,
            "justify_items": null,
            "left": null,
            "margin": null,
            "max_height": null,
            "max_width": null,
            "min_height": null,
            "min_width": null,
            "object_fit": null,
            "object_position": null,
            "order": null,
            "overflow": null,
            "overflow_x": null,
            "overflow_y": null,
            "padding": null,
            "right": null,
            "top": null,
            "visibility": null,
            "width": null
          }
        },
        "5f731a92d472441cb9845c0b291cdc9a": {
          "model_module": "@jupyter-widgets/base",
          "model_name": "LayoutModel",
          "model_module_version": "1.2.0",
          "state": {
            "_model_module": "@jupyter-widgets/base",
            "_model_module_version": "1.2.0",
            "_model_name": "LayoutModel",
            "_view_count": null,
            "_view_module": "@jupyter-widgets/base",
            "_view_module_version": "1.2.0",
            "_view_name": "LayoutView",
            "align_content": null,
            "align_items": null,
            "align_self": null,
            "border": null,
            "bottom": null,
            "display": null,
            "flex": null,
            "flex_flow": null,
            "grid_area": null,
            "grid_auto_columns": null,
            "grid_auto_flow": null,
            "grid_auto_rows": null,
            "grid_column": null,
            "grid_gap": null,
            "grid_row": null,
            "grid_template_areas": null,
            "grid_template_columns": null,
            "grid_template_rows": null,
            "height": null,
            "justify_content": null,
            "justify_items": null,
            "left": null,
            "margin": null,
            "max_height": null,
            "max_width": null,
            "min_height": null,
            "min_width": null,
            "object_fit": null,
            "object_position": null,
            "order": null,
            "overflow": null,
            "overflow_x": null,
            "overflow_y": null,
            "padding": null,
            "right": null,
            "top": null,
            "visibility": null,
            "width": null
          }
        },
        "1af26810199442268d8b3ccc5d5e023b": {
          "model_module": "@jupyter-widgets/controls",
          "model_name": "DescriptionStyleModel",
          "model_module_version": "1.5.0",
          "state": {
            "_model_module": "@jupyter-widgets/controls",
            "_model_module_version": "1.5.0",
            "_model_name": "DescriptionStyleModel",
            "_view_count": null,
            "_view_module": "@jupyter-widgets/base",
            "_view_module_version": "1.2.0",
            "_view_name": "StyleView",
            "description_width": ""
          }
        },
        "69e2bcb7a3364c6690b5f0e75e1a5d23": {
          "model_module": "@jupyter-widgets/base",
          "model_name": "LayoutModel",
          "model_module_version": "1.2.0",
          "state": {
            "_model_module": "@jupyter-widgets/base",
            "_model_module_version": "1.2.0",
            "_model_name": "LayoutModel",
            "_view_count": null,
            "_view_module": "@jupyter-widgets/base",
            "_view_module_version": "1.2.0",
            "_view_name": "LayoutView",
            "align_content": null,
            "align_items": null,
            "align_self": null,
            "border": null,
            "bottom": null,
            "display": null,
            "flex": null,
            "flex_flow": null,
            "grid_area": null,
            "grid_auto_columns": null,
            "grid_auto_flow": null,
            "grid_auto_rows": null,
            "grid_column": null,
            "grid_gap": null,
            "grid_row": null,
            "grid_template_areas": null,
            "grid_template_columns": null,
            "grid_template_rows": null,
            "height": null,
            "justify_content": null,
            "justify_items": null,
            "left": null,
            "margin": null,
            "max_height": null,
            "max_width": null,
            "min_height": null,
            "min_width": null,
            "object_fit": null,
            "object_position": null,
            "order": null,
            "overflow": null,
            "overflow_x": null,
            "overflow_y": null,
            "padding": null,
            "right": null,
            "top": null,
            "visibility": null,
            "width": null
          }
        },
        "06db9e9b94d54301b52ceb30f23ce5a3": {
          "model_module": "@jupyter-widgets/controls",
          "model_name": "ProgressStyleModel",
          "model_module_version": "1.5.0",
          "state": {
            "_model_module": "@jupyter-widgets/controls",
            "_model_module_version": "1.5.0",
            "_model_name": "ProgressStyleModel",
            "_view_count": null,
            "_view_module": "@jupyter-widgets/base",
            "_view_module_version": "1.2.0",
            "_view_name": "StyleView",
            "bar_color": null,
            "description_width": ""
          }
        },
        "034dc741861b4ab687322ec731360dc8": {
          "model_module": "@jupyter-widgets/base",
          "model_name": "LayoutModel",
          "model_module_version": "1.2.0",
          "state": {
            "_model_module": "@jupyter-widgets/base",
            "_model_module_version": "1.2.0",
            "_model_name": "LayoutModel",
            "_view_count": null,
            "_view_module": "@jupyter-widgets/base",
            "_view_module_version": "1.2.0",
            "_view_name": "LayoutView",
            "align_content": null,
            "align_items": null,
            "align_self": null,
            "border": null,
            "bottom": null,
            "display": null,
            "flex": null,
            "flex_flow": null,
            "grid_area": null,
            "grid_auto_columns": null,
            "grid_auto_flow": null,
            "grid_auto_rows": null,
            "grid_column": null,
            "grid_gap": null,
            "grid_row": null,
            "grid_template_areas": null,
            "grid_template_columns": null,
            "grid_template_rows": null,
            "height": null,
            "justify_content": null,
            "justify_items": null,
            "left": null,
            "margin": null,
            "max_height": null,
            "max_width": null,
            "min_height": null,
            "min_width": null,
            "object_fit": null,
            "object_position": null,
            "order": null,
            "overflow": null,
            "overflow_x": null,
            "overflow_y": null,
            "padding": null,
            "right": null,
            "top": null,
            "visibility": null,
            "width": null
          }
        },
        "631e9547c5f04bcfae67852013c24ae9": {
          "model_module": "@jupyter-widgets/controls",
          "model_name": "DescriptionStyleModel",
          "model_module_version": "1.5.0",
          "state": {
            "_model_module": "@jupyter-widgets/controls",
            "_model_module_version": "1.5.0",
            "_model_name": "DescriptionStyleModel",
            "_view_count": null,
            "_view_module": "@jupyter-widgets/base",
            "_view_module_version": "1.2.0",
            "_view_name": "StyleView",
            "description_width": ""
          }
        },
        "8f874092413749f9b018a5286f92e01b": {
          "model_module": "@jupyter-widgets/controls",
          "model_name": "HBoxModel",
          "model_module_version": "1.5.0",
          "state": {
            "_dom_classes": [],
            "_model_module": "@jupyter-widgets/controls",
            "_model_module_version": "1.5.0",
            "_model_name": "HBoxModel",
            "_view_count": null,
            "_view_module": "@jupyter-widgets/controls",
            "_view_module_version": "1.5.0",
            "_view_name": "HBoxView",
            "box_style": "",
            "children": [
              "IPY_MODEL_442c476aa5b642e4857c9721bb043d02",
              "IPY_MODEL_5a5f577b9a5d4516afd1890ea9d3b61b",
              "IPY_MODEL_1c6b1f5c8d574a4f95680a3d81767504"
            ],
            "layout": "IPY_MODEL_c327d42cd47e44d8a352c0aaf387e960"
          }
        },
        "442c476aa5b642e4857c9721bb043d02": {
          "model_module": "@jupyter-widgets/controls",
          "model_name": "HTMLModel",
          "model_module_version": "1.5.0",
          "state": {
            "_dom_classes": [],
            "_model_module": "@jupyter-widgets/controls",
            "_model_module_version": "1.5.0",
            "_model_name": "HTMLModel",
            "_view_count": null,
            "_view_module": "@jupyter-widgets/controls",
            "_view_module_version": "1.5.0",
            "_view_name": "HTMLView",
            "description": "",
            "description_tooltip": null,
            "layout": "IPY_MODEL_8e754d456bb94e3085cd5453cc9795ce",
            "placeholder": "​",
            "style": "IPY_MODEL_79cf084044ae4e47a78ea417ee03df39",
            "value": "tokenizer.json: 100%"
          }
        },
        "5a5f577b9a5d4516afd1890ea9d3b61b": {
          "model_module": "@jupyter-widgets/controls",
          "model_name": "FloatProgressModel",
          "model_module_version": "1.5.0",
          "state": {
            "_dom_classes": [],
            "_model_module": "@jupyter-widgets/controls",
            "_model_module_version": "1.5.0",
            "_model_name": "FloatProgressModel",
            "_view_count": null,
            "_view_module": "@jupyter-widgets/controls",
            "_view_module_version": "1.5.0",
            "_view_name": "ProgressView",
            "bar_style": "success",
            "description": "",
            "description_tooltip": null,
            "layout": "IPY_MODEL_3ee7c746d1894acebf07ccfed34b3774",
            "max": 466247,
            "min": 0,
            "orientation": "horizontal",
            "style": "IPY_MODEL_c60a781c756249b2b22fdcaa361ff0f8",
            "value": 466247
          }
        },
        "1c6b1f5c8d574a4f95680a3d81767504": {
          "model_module": "@jupyter-widgets/controls",
          "model_name": "HTMLModel",
          "model_module_version": "1.5.0",
          "state": {
            "_dom_classes": [],
            "_model_module": "@jupyter-widgets/controls",
            "_model_module_version": "1.5.0",
            "_model_name": "HTMLModel",
            "_view_count": null,
            "_view_module": "@jupyter-widgets/controls",
            "_view_module_version": "1.5.0",
            "_view_name": "HTMLView",
            "description": "",
            "description_tooltip": null,
            "layout": "IPY_MODEL_1ebc66a29c774d9caa54e35abff89d3b",
            "placeholder": "​",
            "style": "IPY_MODEL_ed225c9264ed41aa9eb206bba65ca568",
            "value": " 466k/466k [00:00&lt;00:00, 707kB/s]"
          }
        },
        "c327d42cd47e44d8a352c0aaf387e960": {
          "model_module": "@jupyter-widgets/base",
          "model_name": "LayoutModel",
          "model_module_version": "1.2.0",
          "state": {
            "_model_module": "@jupyter-widgets/base",
            "_model_module_version": "1.2.0",
            "_model_name": "LayoutModel",
            "_view_count": null,
            "_view_module": "@jupyter-widgets/base",
            "_view_module_version": "1.2.0",
            "_view_name": "LayoutView",
            "align_content": null,
            "align_items": null,
            "align_self": null,
            "border": null,
            "bottom": null,
            "display": null,
            "flex": null,
            "flex_flow": null,
            "grid_area": null,
            "grid_auto_columns": null,
            "grid_auto_flow": null,
            "grid_auto_rows": null,
            "grid_column": null,
            "grid_gap": null,
            "grid_row": null,
            "grid_template_areas": null,
            "grid_template_columns": null,
            "grid_template_rows": null,
            "height": null,
            "justify_content": null,
            "justify_items": null,
            "left": null,
            "margin": null,
            "max_height": null,
            "max_width": null,
            "min_height": null,
            "min_width": null,
            "object_fit": null,
            "object_position": null,
            "order": null,
            "overflow": null,
            "overflow_x": null,
            "overflow_y": null,
            "padding": null,
            "right": null,
            "top": null,
            "visibility": null,
            "width": null
          }
        },
        "8e754d456bb94e3085cd5453cc9795ce": {
          "model_module": "@jupyter-widgets/base",
          "model_name": "LayoutModel",
          "model_module_version": "1.2.0",
          "state": {
            "_model_module": "@jupyter-widgets/base",
            "_model_module_version": "1.2.0",
            "_model_name": "LayoutModel",
            "_view_count": null,
            "_view_module": "@jupyter-widgets/base",
            "_view_module_version": "1.2.0",
            "_view_name": "LayoutView",
            "align_content": null,
            "align_items": null,
            "align_self": null,
            "border": null,
            "bottom": null,
            "display": null,
            "flex": null,
            "flex_flow": null,
            "grid_area": null,
            "grid_auto_columns": null,
            "grid_auto_flow": null,
            "grid_auto_rows": null,
            "grid_column": null,
            "grid_gap": null,
            "grid_row": null,
            "grid_template_areas": null,
            "grid_template_columns": null,
            "grid_template_rows": null,
            "height": null,
            "justify_content": null,
            "justify_items": null,
            "left": null,
            "margin": null,
            "max_height": null,
            "max_width": null,
            "min_height": null,
            "min_width": null,
            "object_fit": null,
            "object_position": null,
            "order": null,
            "overflow": null,
            "overflow_x": null,
            "overflow_y": null,
            "padding": null,
            "right": null,
            "top": null,
            "visibility": null,
            "width": null
          }
        },
        "79cf084044ae4e47a78ea417ee03df39": {
          "model_module": "@jupyter-widgets/controls",
          "model_name": "DescriptionStyleModel",
          "model_module_version": "1.5.0",
          "state": {
            "_model_module": "@jupyter-widgets/controls",
            "_model_module_version": "1.5.0",
            "_model_name": "DescriptionStyleModel",
            "_view_count": null,
            "_view_module": "@jupyter-widgets/base",
            "_view_module_version": "1.2.0",
            "_view_name": "StyleView",
            "description_width": ""
          }
        },
        "3ee7c746d1894acebf07ccfed34b3774": {
          "model_module": "@jupyter-widgets/base",
          "model_name": "LayoutModel",
          "model_module_version": "1.2.0",
          "state": {
            "_model_module": "@jupyter-widgets/base",
            "_model_module_version": "1.2.0",
            "_model_name": "LayoutModel",
            "_view_count": null,
            "_view_module": "@jupyter-widgets/base",
            "_view_module_version": "1.2.0",
            "_view_name": "LayoutView",
            "align_content": null,
            "align_items": null,
            "align_self": null,
            "border": null,
            "bottom": null,
            "display": null,
            "flex": null,
            "flex_flow": null,
            "grid_area": null,
            "grid_auto_columns": null,
            "grid_auto_flow": null,
            "grid_auto_rows": null,
            "grid_column": null,
            "grid_gap": null,
            "grid_row": null,
            "grid_template_areas": null,
            "grid_template_columns": null,
            "grid_template_rows": null,
            "height": null,
            "justify_content": null,
            "justify_items": null,
            "left": null,
            "margin": null,
            "max_height": null,
            "max_width": null,
            "min_height": null,
            "min_width": null,
            "object_fit": null,
            "object_position": null,
            "order": null,
            "overflow": null,
            "overflow_x": null,
            "overflow_y": null,
            "padding": null,
            "right": null,
            "top": null,
            "visibility": null,
            "width": null
          }
        },
        "c60a781c756249b2b22fdcaa361ff0f8": {
          "model_module": "@jupyter-widgets/controls",
          "model_name": "ProgressStyleModel",
          "model_module_version": "1.5.0",
          "state": {
            "_model_module": "@jupyter-widgets/controls",
            "_model_module_version": "1.5.0",
            "_model_name": "ProgressStyleModel",
            "_view_count": null,
            "_view_module": "@jupyter-widgets/base",
            "_view_module_version": "1.2.0",
            "_view_name": "StyleView",
            "bar_color": null,
            "description_width": ""
          }
        },
        "1ebc66a29c774d9caa54e35abff89d3b": {
          "model_module": "@jupyter-widgets/base",
          "model_name": "LayoutModel",
          "model_module_version": "1.2.0",
          "state": {
            "_model_module": "@jupyter-widgets/base",
            "_model_module_version": "1.2.0",
            "_model_name": "LayoutModel",
            "_view_count": null,
            "_view_module": "@jupyter-widgets/base",
            "_view_module_version": "1.2.0",
            "_view_name": "LayoutView",
            "align_content": null,
            "align_items": null,
            "align_self": null,
            "border": null,
            "bottom": null,
            "display": null,
            "flex": null,
            "flex_flow": null,
            "grid_area": null,
            "grid_auto_columns": null,
            "grid_auto_flow": null,
            "grid_auto_rows": null,
            "grid_column": null,
            "grid_gap": null,
            "grid_row": null,
            "grid_template_areas": null,
            "grid_template_columns": null,
            "grid_template_rows": null,
            "height": null,
            "justify_content": null,
            "justify_items": null,
            "left": null,
            "margin": null,
            "max_height": null,
            "max_width": null,
            "min_height": null,
            "min_width": null,
            "object_fit": null,
            "object_position": null,
            "order": null,
            "overflow": null,
            "overflow_x": null,
            "overflow_y": null,
            "padding": null,
            "right": null,
            "top": null,
            "visibility": null,
            "width": null
          }
        },
        "ed225c9264ed41aa9eb206bba65ca568": {
          "model_module": "@jupyter-widgets/controls",
          "model_name": "DescriptionStyleModel",
          "model_module_version": "1.5.0",
          "state": {
            "_model_module": "@jupyter-widgets/controls",
            "_model_module_version": "1.5.0",
            "_model_name": "DescriptionStyleModel",
            "_view_count": null,
            "_view_module": "@jupyter-widgets/base",
            "_view_module_version": "1.2.0",
            "_view_name": "StyleView",
            "description_width": ""
          }
        },
        "76e042ce4d3a48c4873bc6b43fea7b6f": {
          "model_module": "@jupyter-widgets/controls",
          "model_name": "HBoxModel",
          "model_module_version": "1.5.0",
          "state": {
            "_dom_classes": [],
            "_model_module": "@jupyter-widgets/controls",
            "_model_module_version": "1.5.0",
            "_model_name": "HBoxModel",
            "_view_count": null,
            "_view_module": "@jupyter-widgets/controls",
            "_view_module_version": "1.5.0",
            "_view_name": "HBoxView",
            "box_style": "",
            "children": [
              "IPY_MODEL_835916a6ce7d4876a82817640e9bfc97",
              "IPY_MODEL_9c3bffa22c58464a9a8003b0ae6dedfd",
              "IPY_MODEL_8c5c9202589c46ec885a8bdc665f0dff"
            ],
            "layout": "IPY_MODEL_83af002ed7774377ae0850a6b8d03ed9"
          }
        },
        "835916a6ce7d4876a82817640e9bfc97": {
          "model_module": "@jupyter-widgets/controls",
          "model_name": "HTMLModel",
          "model_module_version": "1.5.0",
          "state": {
            "_dom_classes": [],
            "_model_module": "@jupyter-widgets/controls",
            "_model_module_version": "1.5.0",
            "_model_name": "HTMLModel",
            "_view_count": null,
            "_view_module": "@jupyter-widgets/controls",
            "_view_module_version": "1.5.0",
            "_view_name": "HTMLView",
            "description": "",
            "description_tooltip": null,
            "layout": "IPY_MODEL_573741db26d8469f904bcba4f9951d34",
            "placeholder": "​",
            "style": "IPY_MODEL_4862e97310e74aceac01718a403fe109",
            "value": "special_tokens_map.json: 100%"
          }
        },
        "9c3bffa22c58464a9a8003b0ae6dedfd": {
          "model_module": "@jupyter-widgets/controls",
          "model_name": "FloatProgressModel",
          "model_module_version": "1.5.0",
          "state": {
            "_dom_classes": [],
            "_model_module": "@jupyter-widgets/controls",
            "_model_module_version": "1.5.0",
            "_model_name": "FloatProgressModel",
            "_view_count": null,
            "_view_module": "@jupyter-widgets/controls",
            "_view_module_version": "1.5.0",
            "_view_name": "ProgressView",
            "bar_style": "success",
            "description": "",
            "description_tooltip": null,
            "layout": "IPY_MODEL_e5cb7bb4d26841a8bec98d7e8747df61",
            "max": 112,
            "min": 0,
            "orientation": "horizontal",
            "style": "IPY_MODEL_168483baf011424fb740e10dae49f265",
            "value": 112
          }
        },
        "8c5c9202589c46ec885a8bdc665f0dff": {
          "model_module": "@jupyter-widgets/controls",
          "model_name": "HTMLModel",
          "model_module_version": "1.5.0",
          "state": {
            "_dom_classes": [],
            "_model_module": "@jupyter-widgets/controls",
            "_model_module_version": "1.5.0",
            "_model_name": "HTMLModel",
            "_view_count": null,
            "_view_module": "@jupyter-widgets/controls",
            "_view_module_version": "1.5.0",
            "_view_name": "HTMLView",
            "description": "",
            "description_tooltip": null,
            "layout": "IPY_MODEL_d512a119fa4a41ec900fa74df1de1f85",
            "placeholder": "​",
            "style": "IPY_MODEL_d137ad24eedc4459b7f3f7b511a9b835",
            "value": " 112/112 [00:00&lt;00:00, 6.37kB/s]"
          }
        },
        "83af002ed7774377ae0850a6b8d03ed9": {
          "model_module": "@jupyter-widgets/base",
          "model_name": "LayoutModel",
          "model_module_version": "1.2.0",
          "state": {
            "_model_module": "@jupyter-widgets/base",
            "_model_module_version": "1.2.0",
            "_model_name": "LayoutModel",
            "_view_count": null,
            "_view_module": "@jupyter-widgets/base",
            "_view_module_version": "1.2.0",
            "_view_name": "LayoutView",
            "align_content": null,
            "align_items": null,
            "align_self": null,
            "border": null,
            "bottom": null,
            "display": null,
            "flex": null,
            "flex_flow": null,
            "grid_area": null,
            "grid_auto_columns": null,
            "grid_auto_flow": null,
            "grid_auto_rows": null,
            "grid_column": null,
            "grid_gap": null,
            "grid_row": null,
            "grid_template_areas": null,
            "grid_template_columns": null,
            "grid_template_rows": null,
            "height": null,
            "justify_content": null,
            "justify_items": null,
            "left": null,
            "margin": null,
            "max_height": null,
            "max_width": null,
            "min_height": null,
            "min_width": null,
            "object_fit": null,
            "object_position": null,
            "order": null,
            "overflow": null,
            "overflow_x": null,
            "overflow_y": null,
            "padding": null,
            "right": null,
            "top": null,
            "visibility": null,
            "width": null
          }
        },
        "573741db26d8469f904bcba4f9951d34": {
          "model_module": "@jupyter-widgets/base",
          "model_name": "LayoutModel",
          "model_module_version": "1.2.0",
          "state": {
            "_model_module": "@jupyter-widgets/base",
            "_model_module_version": "1.2.0",
            "_model_name": "LayoutModel",
            "_view_count": null,
            "_view_module": "@jupyter-widgets/base",
            "_view_module_version": "1.2.0",
            "_view_name": "LayoutView",
            "align_content": null,
            "align_items": null,
            "align_self": null,
            "border": null,
            "bottom": null,
            "display": null,
            "flex": null,
            "flex_flow": null,
            "grid_area": null,
            "grid_auto_columns": null,
            "grid_auto_flow": null,
            "grid_auto_rows": null,
            "grid_column": null,
            "grid_gap": null,
            "grid_row": null,
            "grid_template_areas": null,
            "grid_template_columns": null,
            "grid_template_rows": null,
            "height": null,
            "justify_content": null,
            "justify_items": null,
            "left": null,
            "margin": null,
            "max_height": null,
            "max_width": null,
            "min_height": null,
            "min_width": null,
            "object_fit": null,
            "object_position": null,
            "order": null,
            "overflow": null,
            "overflow_x": null,
            "overflow_y": null,
            "padding": null,
            "right": null,
            "top": null,
            "visibility": null,
            "width": null
          }
        },
        "4862e97310e74aceac01718a403fe109": {
          "model_module": "@jupyter-widgets/controls",
          "model_name": "DescriptionStyleModel",
          "model_module_version": "1.5.0",
          "state": {
            "_model_module": "@jupyter-widgets/controls",
            "_model_module_version": "1.5.0",
            "_model_name": "DescriptionStyleModel",
            "_view_count": null,
            "_view_module": "@jupyter-widgets/base",
            "_view_module_version": "1.2.0",
            "_view_name": "StyleView",
            "description_width": ""
          }
        },
        "e5cb7bb4d26841a8bec98d7e8747df61": {
          "model_module": "@jupyter-widgets/base",
          "model_name": "LayoutModel",
          "model_module_version": "1.2.0",
          "state": {
            "_model_module": "@jupyter-widgets/base",
            "_model_module_version": "1.2.0",
            "_model_name": "LayoutModel",
            "_view_count": null,
            "_view_module": "@jupyter-widgets/base",
            "_view_module_version": "1.2.0",
            "_view_name": "LayoutView",
            "align_content": null,
            "align_items": null,
            "align_self": null,
            "border": null,
            "bottom": null,
            "display": null,
            "flex": null,
            "flex_flow": null,
            "grid_area": null,
            "grid_auto_columns": null,
            "grid_auto_flow": null,
            "grid_auto_rows": null,
            "grid_column": null,
            "grid_gap": null,
            "grid_row": null,
            "grid_template_areas": null,
            "grid_template_columns": null,
            "grid_template_rows": null,
            "height": null,
            "justify_content": null,
            "justify_items": null,
            "left": null,
            "margin": null,
            "max_height": null,
            "max_width": null,
            "min_height": null,
            "min_width": null,
            "object_fit": null,
            "object_position": null,
            "order": null,
            "overflow": null,
            "overflow_x": null,
            "overflow_y": null,
            "padding": null,
            "right": null,
            "top": null,
            "visibility": null,
            "width": null
          }
        },
        "168483baf011424fb740e10dae49f265": {
          "model_module": "@jupyter-widgets/controls",
          "model_name": "ProgressStyleModel",
          "model_module_version": "1.5.0",
          "state": {
            "_model_module": "@jupyter-widgets/controls",
            "_model_module_version": "1.5.0",
            "_model_name": "ProgressStyleModel",
            "_view_count": null,
            "_view_module": "@jupyter-widgets/base",
            "_view_module_version": "1.2.0",
            "_view_name": "StyleView",
            "bar_color": null,
            "description_width": ""
          }
        },
        "d512a119fa4a41ec900fa74df1de1f85": {
          "model_module": "@jupyter-widgets/base",
          "model_name": "LayoutModel",
          "model_module_version": "1.2.0",
          "state": {
            "_model_module": "@jupyter-widgets/base",
            "_model_module_version": "1.2.0",
            "_model_name": "LayoutModel",
            "_view_count": null,
            "_view_module": "@jupyter-widgets/base",
            "_view_module_version": "1.2.0",
            "_view_name": "LayoutView",
            "align_content": null,
            "align_items": null,
            "align_self": null,
            "border": null,
            "bottom": null,
            "display": null,
            "flex": null,
            "flex_flow": null,
            "grid_area": null,
            "grid_auto_columns": null,
            "grid_auto_flow": null,
            "grid_auto_rows": null,
            "grid_column": null,
            "grid_gap": null,
            "grid_row": null,
            "grid_template_areas": null,
            "grid_template_columns": null,
            "grid_template_rows": null,
            "height": null,
            "justify_content": null,
            "justify_items": null,
            "left": null,
            "margin": null,
            "max_height": null,
            "max_width": null,
            "min_height": null,
            "min_width": null,
            "object_fit": null,
            "object_position": null,
            "order": null,
            "overflow": null,
            "overflow_x": null,
            "overflow_y": null,
            "padding": null,
            "right": null,
            "top": null,
            "visibility": null,
            "width": null
          }
        },
        "d137ad24eedc4459b7f3f7b511a9b835": {
          "model_module": "@jupyter-widgets/controls",
          "model_name": "DescriptionStyleModel",
          "model_module_version": "1.5.0",
          "state": {
            "_model_module": "@jupyter-widgets/controls",
            "_model_module_version": "1.5.0",
            "_model_name": "DescriptionStyleModel",
            "_view_count": null,
            "_view_module": "@jupyter-widgets/base",
            "_view_module_version": "1.2.0",
            "_view_name": "StyleView",
            "description_width": ""
          }
        },
        "887e00cee8104f07ae63cde84279a697": {
          "model_module": "@jupyter-widgets/controls",
          "model_name": "HBoxModel",
          "model_module_version": "1.5.0",
          "state": {
            "_dom_classes": [],
            "_model_module": "@jupyter-widgets/controls",
            "_model_module_version": "1.5.0",
            "_model_name": "HBoxModel",
            "_view_count": null,
            "_view_module": "@jupyter-widgets/controls",
            "_view_module_version": "1.5.0",
            "_view_name": "HBoxView",
            "box_style": "",
            "children": [
              "IPY_MODEL_f5dfbe82a6f74d30b6ec550c7c06ddcc",
              "IPY_MODEL_50f2123d77f241dcb9ec2c92d4997f4d",
              "IPY_MODEL_fe177f782cfb48508a2257302299d8ed"
            ],
            "layout": "IPY_MODEL_219d2535006246c8a4f2568a12b0176c"
          }
        },
        "f5dfbe82a6f74d30b6ec550c7c06ddcc": {
          "model_module": "@jupyter-widgets/controls",
          "model_name": "HTMLModel",
          "model_module_version": "1.5.0",
          "state": {
            "_dom_classes": [],
            "_model_module": "@jupyter-widgets/controls",
            "_model_module_version": "1.5.0",
            "_model_name": "HTMLModel",
            "_view_count": null,
            "_view_module": "@jupyter-widgets/controls",
            "_view_module_version": "1.5.0",
            "_view_name": "HTMLView",
            "description": "",
            "description_tooltip": null,
            "layout": "IPY_MODEL_27b18228f75546dc8ced9e68bb967816",
            "placeholder": "​",
            "style": "IPY_MODEL_f30b8e4b358343a2a81e8ae8c84ce8d5",
            "value": "1_Pooling/config.json: 100%"
          }
        },
        "50f2123d77f241dcb9ec2c92d4997f4d": {
          "model_module": "@jupyter-widgets/controls",
          "model_name": "FloatProgressModel",
          "model_module_version": "1.5.0",
          "state": {
            "_dom_classes": [],
            "_model_module": "@jupyter-widgets/controls",
            "_model_module_version": "1.5.0",
            "_model_name": "FloatProgressModel",
            "_view_count": null,
            "_view_module": "@jupyter-widgets/controls",
            "_view_module_version": "1.5.0",
            "_view_name": "ProgressView",
            "bar_style": "success",
            "description": "",
            "description_tooltip": null,
            "layout": "IPY_MODEL_1b8a9f50e7364db89b967efbd79672b6",
            "max": 190,
            "min": 0,
            "orientation": "horizontal",
            "style": "IPY_MODEL_034c03f62c054560ab5bba401cbeef12",
            "value": 190
          }
        },
        "fe177f782cfb48508a2257302299d8ed": {
          "model_module": "@jupyter-widgets/controls",
          "model_name": "HTMLModel",
          "model_module_version": "1.5.0",
          "state": {
            "_dom_classes": [],
            "_model_module": "@jupyter-widgets/controls",
            "_model_module_version": "1.5.0",
            "_model_name": "HTMLModel",
            "_view_count": null,
            "_view_module": "@jupyter-widgets/controls",
            "_view_module_version": "1.5.0",
            "_view_name": "HTMLView",
            "description": "",
            "description_tooltip": null,
            "layout": "IPY_MODEL_3071f9a260d84237a170c2838b453be4",
            "placeholder": "​",
            "style": "IPY_MODEL_16057378498c411a99ba9d4efcde2346",
            "value": " 190/190 [00:00&lt;00:00, 9.57kB/s]"
          }
        },
        "219d2535006246c8a4f2568a12b0176c": {
          "model_module": "@jupyter-widgets/base",
          "model_name": "LayoutModel",
          "model_module_version": "1.2.0",
          "state": {
            "_model_module": "@jupyter-widgets/base",
            "_model_module_version": "1.2.0",
            "_model_name": "LayoutModel",
            "_view_count": null,
            "_view_module": "@jupyter-widgets/base",
            "_view_module_version": "1.2.0",
            "_view_name": "LayoutView",
            "align_content": null,
            "align_items": null,
            "align_self": null,
            "border": null,
            "bottom": null,
            "display": null,
            "flex": null,
            "flex_flow": null,
            "grid_area": null,
            "grid_auto_columns": null,
            "grid_auto_flow": null,
            "grid_auto_rows": null,
            "grid_column": null,
            "grid_gap": null,
            "grid_row": null,
            "grid_template_areas": null,
            "grid_template_columns": null,
            "grid_template_rows": null,
            "height": null,
            "justify_content": null,
            "justify_items": null,
            "left": null,
            "margin": null,
            "max_height": null,
            "max_width": null,
            "min_height": null,
            "min_width": null,
            "object_fit": null,
            "object_position": null,
            "order": null,
            "overflow": null,
            "overflow_x": null,
            "overflow_y": null,
            "padding": null,
            "right": null,
            "top": null,
            "visibility": null,
            "width": null
          }
        },
        "27b18228f75546dc8ced9e68bb967816": {
          "model_module": "@jupyter-widgets/base",
          "model_name": "LayoutModel",
          "model_module_version": "1.2.0",
          "state": {
            "_model_module": "@jupyter-widgets/base",
            "_model_module_version": "1.2.0",
            "_model_name": "LayoutModel",
            "_view_count": null,
            "_view_module": "@jupyter-widgets/base",
            "_view_module_version": "1.2.0",
            "_view_name": "LayoutView",
            "align_content": null,
            "align_items": null,
            "align_self": null,
            "border": null,
            "bottom": null,
            "display": null,
            "flex": null,
            "flex_flow": null,
            "grid_area": null,
            "grid_auto_columns": null,
            "grid_auto_flow": null,
            "grid_auto_rows": null,
            "grid_column": null,
            "grid_gap": null,
            "grid_row": null,
            "grid_template_areas": null,
            "grid_template_columns": null,
            "grid_template_rows": null,
            "height": null,
            "justify_content": null,
            "justify_items": null,
            "left": null,
            "margin": null,
            "max_height": null,
            "max_width": null,
            "min_height": null,
            "min_width": null,
            "object_fit": null,
            "object_position": null,
            "order": null,
            "overflow": null,
            "overflow_x": null,
            "overflow_y": null,
            "padding": null,
            "right": null,
            "top": null,
            "visibility": null,
            "width": null
          }
        },
        "f30b8e4b358343a2a81e8ae8c84ce8d5": {
          "model_module": "@jupyter-widgets/controls",
          "model_name": "DescriptionStyleModel",
          "model_module_version": "1.5.0",
          "state": {
            "_model_module": "@jupyter-widgets/controls",
            "_model_module_version": "1.5.0",
            "_model_name": "DescriptionStyleModel",
            "_view_count": null,
            "_view_module": "@jupyter-widgets/base",
            "_view_module_version": "1.2.0",
            "_view_name": "StyleView",
            "description_width": ""
          }
        },
        "1b8a9f50e7364db89b967efbd79672b6": {
          "model_module": "@jupyter-widgets/base",
          "model_name": "LayoutModel",
          "model_module_version": "1.2.0",
          "state": {
            "_model_module": "@jupyter-widgets/base",
            "_model_module_version": "1.2.0",
            "_model_name": "LayoutModel",
            "_view_count": null,
            "_view_module": "@jupyter-widgets/base",
            "_view_module_version": "1.2.0",
            "_view_name": "LayoutView",
            "align_content": null,
            "align_items": null,
            "align_self": null,
            "border": null,
            "bottom": null,
            "display": null,
            "flex": null,
            "flex_flow": null,
            "grid_area": null,
            "grid_auto_columns": null,
            "grid_auto_flow": null,
            "grid_auto_rows": null,
            "grid_column": null,
            "grid_gap": null,
            "grid_row": null,
            "grid_template_areas": null,
            "grid_template_columns": null,
            "grid_template_rows": null,
            "height": null,
            "justify_content": null,
            "justify_items": null,
            "left": null,
            "margin": null,
            "max_height": null,
            "max_width": null,
            "min_height": null,
            "min_width": null,
            "object_fit": null,
            "object_position": null,
            "order": null,
            "overflow": null,
            "overflow_x": null,
            "overflow_y": null,
            "padding": null,
            "right": null,
            "top": null,
            "visibility": null,
            "width": null
          }
        },
        "034c03f62c054560ab5bba401cbeef12": {
          "model_module": "@jupyter-widgets/controls",
          "model_name": "ProgressStyleModel",
          "model_module_version": "1.5.0",
          "state": {
            "_model_module": "@jupyter-widgets/controls",
            "_model_module_version": "1.5.0",
            "_model_name": "ProgressStyleModel",
            "_view_count": null,
            "_view_module": "@jupyter-widgets/base",
            "_view_module_version": "1.2.0",
            "_view_name": "StyleView",
            "bar_color": null,
            "description_width": ""
          }
        },
        "3071f9a260d84237a170c2838b453be4": {
          "model_module": "@jupyter-widgets/base",
          "model_name": "LayoutModel",
          "model_module_version": "1.2.0",
          "state": {
            "_model_module": "@jupyter-widgets/base",
            "_model_module_version": "1.2.0",
            "_model_name": "LayoutModel",
            "_view_count": null,
            "_view_module": "@jupyter-widgets/base",
            "_view_module_version": "1.2.0",
            "_view_name": "LayoutView",
            "align_content": null,
            "align_items": null,
            "align_self": null,
            "border": null,
            "bottom": null,
            "display": null,
            "flex": null,
            "flex_flow": null,
            "grid_area": null,
            "grid_auto_columns": null,
            "grid_auto_flow": null,
            "grid_auto_rows": null,
            "grid_column": null,
            "grid_gap": null,
            "grid_row": null,
            "grid_template_areas": null,
            "grid_template_columns": null,
            "grid_template_rows": null,
            "height": null,
            "justify_content": null,
            "justify_items": null,
            "left": null,
            "margin": null,
            "max_height": null,
            "max_width": null,
            "min_height": null,
            "min_width": null,
            "object_fit": null,
            "object_position": null,
            "order": null,
            "overflow": null,
            "overflow_x": null,
            "overflow_y": null,
            "padding": null,
            "right": null,
            "top": null,
            "visibility": null,
            "width": null
          }
        },
        "16057378498c411a99ba9d4efcde2346": {
          "model_module": "@jupyter-widgets/controls",
          "model_name": "DescriptionStyleModel",
          "model_module_version": "1.5.0",
          "state": {
            "_model_module": "@jupyter-widgets/controls",
            "_model_module_version": "1.5.0",
            "_model_name": "DescriptionStyleModel",
            "_view_count": null,
            "_view_module": "@jupyter-widgets/base",
            "_view_module_version": "1.2.0",
            "_view_name": "StyleView",
            "description_width": ""
          }
        }
      }
    }
  },
  "cells": [
    {
      "cell_type": "code",
      "execution_count": null,
      "metadata": {
        "colab": {
          "base_uri": "https://localhost:8080/"
        },
        "id": "454H2hQ-nqXu",
        "outputId": "325653c8-5623-4f5c-b51e-7d29a9ab3f39"
      },
      "outputs": [
        {
          "output_type": "stream",
          "name": "stdout",
          "text": [
            "\u001b[2K     \u001b[90m━━━━━━━━━━━━━━━━━━━━━━━━━━━━━━━━━━━━━━━━\u001b[0m \u001b[32m817.7/817.7 kB\u001b[0m \u001b[31m5.6 MB/s\u001b[0m eta \u001b[36m0:00:00\u001b[0m\n",
            "\u001b[2K     \u001b[90m━━━━━━━━━━━━━━━━━━━━━━━━━━━━━━━━━━━━━━━━\u001b[0m \u001b[32m1.9/1.9 MB\u001b[0m \u001b[31m11.2 MB/s\u001b[0m eta \u001b[36m0:00:00\u001b[0m\n",
            "\u001b[2K     \u001b[90m━━━━━━━━━━━━━━━━━━━━━━━━━━━━━━━━━━━━━━━━\u001b[0m \u001b[32m299.3/299.3 kB\u001b[0m \u001b[31m10.4 MB/s\u001b[0m eta \u001b[36m0:00:00\u001b[0m\n",
            "\u001b[2K     \u001b[90m━━━━━━━━━━━━━━━━━━━━━━━━━━━━━━━━━━━━━━━━\u001b[0m \u001b[32m116.0/116.0 kB\u001b[0m \u001b[31m12.9 MB/s\u001b[0m eta \u001b[36m0:00:00\u001b[0m\n",
            "\u001b[2K     \u001b[90m━━━━━━━━━━━━━━━━━━━━━━━━━━━━━━━━━━━━━━━━\u001b[0m \u001b[32m49.4/49.4 kB\u001b[0m \u001b[31m5.5 MB/s\u001b[0m eta \u001b[36m0:00:00\u001b[0m\n",
            "\u001b[2K     \u001b[90m━━━━━━━━━━━━━━━━━━━━━━━━━━━━━━━━━━━━━━━━\u001b[0m \u001b[32m53.0/53.0 kB\u001b[0m \u001b[31m5.9 MB/s\u001b[0m eta \u001b[36m0:00:00\u001b[0m\n",
            "\u001b[2K     \u001b[90m━━━━━━━━━━━━━━━━━━━━━━━━━━━━━━━━━━━━━━━━\u001b[0m \u001b[32m141.1/141.1 kB\u001b[0m \u001b[31m8.2 MB/s\u001b[0m eta \u001b[36m0:00:00\u001b[0m\n",
            "\u001b[2K     \u001b[90m━━━━━━━━━━━━━━━━━━━━━━━━━━━━━━━━━━━━━━━━\u001b[0m \u001b[32m171.5/171.5 kB\u001b[0m \u001b[31m3.4 MB/s\u001b[0m eta \u001b[36m0:00:00\u001b[0m\n",
            "\u001b[2K     \u001b[90m━━━━━━━━━━━━━━━━━━━━━━━━━━━━━━━━━━━━━━━━\u001b[0m \u001b[32m526.8/526.8 kB\u001b[0m \u001b[31m6.4 MB/s\u001b[0m eta \u001b[36m0:00:00\u001b[0m\n",
            "\u001b[2K     \u001b[90m━━━━━━━━━━━━━━━━━━━━━━━━━━━━━━━━━━━━━━━━\u001b[0m \u001b[32m2.4/2.4 MB\u001b[0m \u001b[31m12.3 MB/s\u001b[0m eta \u001b[36m0:00:00\u001b[0m\n",
            "\u001b[2K     \u001b[90m━━━━━━━━━━━━━━━━━━━━━━━━━━━━━━━━━━━━━━━━\u001b[0m \u001b[32m91.9/91.9 kB\u001b[0m \u001b[31m10.0 MB/s\u001b[0m eta \u001b[36m0:00:00\u001b[0m\n",
            "\u001b[2K     \u001b[90m━━━━━━━━━━━━━━━━━━━━━━━━━━━━━━━━━━━━━━━━\u001b[0m \u001b[32m60.8/60.8 kB\u001b[0m \u001b[31m7.3 MB/s\u001b[0m eta \u001b[36m0:00:00\u001b[0m\n",
            "\u001b[2K     \u001b[90m━━━━━━━━━━━━━━━━━━━━━━━━━━━━━━━━━━━━━━━━\u001b[0m \u001b[32m41.3/41.3 kB\u001b[0m \u001b[31m4.6 MB/s\u001b[0m eta \u001b[36m0:00:00\u001b[0m\n",
            "\u001b[2K     \u001b[90m━━━━━━━━━━━━━━━━━━━━━━━━━━━━━━━━━━━━━━━━\u001b[0m \u001b[32m6.8/6.8 MB\u001b[0m \u001b[31m14.0 MB/s\u001b[0m eta \u001b[36m0:00:00\u001b[0m\n",
            "\u001b[2K     \u001b[90m━━━━━━━━━━━━━━━━━━━━━━━━━━━━━━━━━━━━━━━━\u001b[0m \u001b[32m60.1/60.1 kB\u001b[0m \u001b[31m7.3 MB/s\u001b[0m eta \u001b[36m0:00:00\u001b[0m\n",
            "\u001b[2K     \u001b[90m━━━━━━━━━━━━━━━━━━━━━━━━━━━━━━━━━━━━━━━━\u001b[0m \u001b[32m106.1/106.1 kB\u001b[0m \u001b[31m12.4 MB/s\u001b[0m eta \u001b[36m0:00:00\u001b[0m\n",
            "\u001b[2K     \u001b[90m━━━━━━━━━━━━━━━━━━━━━━━━━━━━━━━━━━━━━━━━\u001b[0m \u001b[32m67.3/67.3 kB\u001b[0m \u001b[31m7.3 MB/s\u001b[0m eta \u001b[36m0:00:00\u001b[0m\n",
            "\u001b[?25h  Installing build dependencies ... \u001b[?25l\u001b[?25hdone\n",
            "  Getting requirements to build wheel ... \u001b[?25l\u001b[?25hdone\n",
            "  Preparing metadata (pyproject.toml) ... \u001b[?25l\u001b[?25hdone\n",
            "\u001b[2K     \u001b[90m━━━━━━━━━━━━━━━━━━━━━━━━━━━━━━━━━━━━━━━━\u001b[0m \u001b[32m698.9/698.9 kB\u001b[0m \u001b[31m14.6 MB/s\u001b[0m eta \u001b[36m0:00:00\u001b[0m\n",
            "\u001b[2K     \u001b[90m━━━━━━━━━━━━━━━━━━━━━━━━━━━━━━━━━━━━━━━━\u001b[0m \u001b[32m1.6/1.6 MB\u001b[0m \u001b[31m14.5 MB/s\u001b[0m eta \u001b[36m0:00:00\u001b[0m\n",
            "\u001b[2K     \u001b[90m━━━━━━━━━━━━━━━━━━━━━━━━━━━━━━━━━━━━━━━━\u001b[0m \u001b[32m67.6/67.6 kB\u001b[0m \u001b[31m7.3 MB/s\u001b[0m eta \u001b[36m0:00:00\u001b[0m\n",
            "\u001b[2K     \u001b[90m━━━━━━━━━━━━━━━━━━━━━━━━━━━━━━━━━━━━━━━━\u001b[0m \u001b[32m71.9/71.9 kB\u001b[0m \u001b[31m8.4 MB/s\u001b[0m eta \u001b[36m0:00:00\u001b[0m\n",
            "\u001b[2K     \u001b[90m━━━━━━━━━━━━━━━━━━━━━━━━━━━━━━━━━━━━━━━━\u001b[0m \u001b[32m46.0/46.0 kB\u001b[0m \u001b[31m5.1 MB/s\u001b[0m eta \u001b[36m0:00:00\u001b[0m\n",
            "\u001b[2K     \u001b[90m━━━━━━━━━━━━━━━━━━━━━━━━━━━━━━━━━━━━━━━━\u001b[0m \u001b[32m50.8/50.8 kB\u001b[0m \u001b[31m5.8 MB/s\u001b[0m eta \u001b[36m0:00:00\u001b[0m\n",
            "\u001b[2K     \u001b[90m━━━━━━━━━━━━━━━━━━━━━━━━━━━━━━━━━━━━━━━━\u001b[0m \u001b[32m58.3/58.3 kB\u001b[0m \u001b[31m7.0 MB/s\u001b[0m eta \u001b[36m0:00:00\u001b[0m\n",
            "\u001b[2K     \u001b[90m━━━━━━━━━━━━━━━━━━━━━━━━━━━━━━━━━━━━━━━━\u001b[0m \u001b[32m341.4/341.4 kB\u001b[0m \u001b[31m14.4 MB/s\u001b[0m eta \u001b[36m0:00:00\u001b[0m\n",
            "\u001b[2K     \u001b[90m━━━━━━━━━━━━━━━━━━━━━━━━━━━━━━━━━━━━━━━━\u001b[0m \u001b[32m3.4/3.4 MB\u001b[0m \u001b[31m15.5 MB/s\u001b[0m eta \u001b[36m0:00:00\u001b[0m\n",
            "\u001b[2K     \u001b[90m━━━━━━━━━━━━━━━━━━━━━━━━━━━━━━━━━━━━━━━━\u001b[0m \u001b[32m1.3/1.3 MB\u001b[0m \u001b[31m15.9 MB/s\u001b[0m eta \u001b[36m0:00:00\u001b[0m\n",
            "\u001b[2K     \u001b[90m━━━━━━━━━━━━━━━━━━━━━━━━━━━━━━━━━━━━━━━━\u001b[0m \u001b[32m130.2/130.2 kB\u001b[0m \u001b[31m13.6 MB/s\u001b[0m eta \u001b[36m0:00:00\u001b[0m\n",
            "\u001b[2K     \u001b[90m━━━━━━━━━━━━━━━━━━━━━━━━━━━━━━━━━━━━━━━━\u001b[0m \u001b[32m86.8/86.8 kB\u001b[0m \u001b[31m8.0 MB/s\u001b[0m eta \u001b[36m0:00:00\u001b[0m\n",
            "\u001b[?25h  Building wheel for pypika (pyproject.toml) ... \u001b[?25l\u001b[?25hdone\n",
            "\u001b[31mERROR: Could not find a version that satisfies the requirement textwrap (from versions: none)\u001b[0m\u001b[31m\n",
            "\u001b[0m\u001b[31mERROR: No matching distribution found for textwrap\u001b[0m\u001b[31m\n",
            "\u001b[0m"
          ]
        }
      ],
      "source": [
        "!pip install -q langchain\n",
        "!pip install -q langchain_community\n",
        "!pip install -q huggingface_hub\n",
        "\n",
        "!pip install -q langchain_text_splitters\n",
        "!pip install -q sentence-transformers\n",
        "\n",
        "!pip install -q langchain_core\n",
        "!pip install -q chromadb\n",
        "!pip install -q textwrap\n"
      ]
    },
    {
      "cell_type": "markdown",
      "source": [
        "**Dataset creation**"
      ],
      "metadata": {
        "id": "tdVK_XRe8sT4"
      }
    },
    {
      "cell_type": "code",
      "source": [
        "import pandas as pd"
      ],
      "metadata": {
        "id": "nMVJtOT-t2LP"
      },
      "execution_count": null,
      "outputs": []
    },
    {
      "cell_type": "code",
      "source": [
        "train = pd.read_csv(\"/content/drive/MyDrive/Mini project/train.tsv\",sep = '\\t')\n",
        "val = pd.read_csv(\"/content/drive/MyDrive/Mini project/dev.tsv\", sep = '\\t')\n",
        "test = pd.read_csv(\"/content/drive/MyDrive/Mini project/test.tsv\", sep = '\\t')"
      ],
      "metadata": {
        "id": "t-pQkjvTunV0"
      },
      "execution_count": null,
      "outputs": []
    },
    {
      "cell_type": "code",
      "source": [
        "train.info()"
      ],
      "metadata": {
        "colab": {
          "base_uri": "https://localhost:8080/"
        },
        "id": "AMglB0bTIjQg",
        "outputId": "95349738-7f21-45ba-f3e6-297d22a5e728"
      },
      "execution_count": null,
      "outputs": [
        {
          "output_type": "stream",
          "name": "stdout",
          "text": [
            "<class 'pandas.core.frame.DataFrame'>\n",
            "RangeIndex: 9832 entries, 0 to 9831\n",
            "Data columns (total 9 columns):\n",
            " #   Column          Non-Null Count  Dtype \n",
            "---  ------          --------------  ----- \n",
            " 0   claim_id        9832 non-null   object\n",
            " 1   claim           9824 non-null   object\n",
            " 2   date_published  7895 non-null   object\n",
            " 3   explanation     9824 non-null   object\n",
            " 4   fact_checkers   9821 non-null   object\n",
            " 5   main_text       9806 non-null   object\n",
            " 6   sources         9804 non-null   object\n",
            " 7   label           9805 non-null   object\n",
            " 8   subjects        9804 non-null   object\n",
            "dtypes: object(9)\n",
            "memory usage: 691.4+ KB\n"
          ]
        }
      ]
    },
    {
      "cell_type": "code",
      "source": [
        "val.info()"
      ],
      "metadata": {
        "colab": {
          "base_uri": "https://localhost:8080/"
        },
        "id": "i0ZKy6zwJAYB",
        "outputId": "44b6b419-e2c6-491d-ba83-edda18301e64"
      },
      "execution_count": null,
      "outputs": [
        {
          "output_type": "stream",
          "name": "stdout",
          "text": [
            "<class 'pandas.core.frame.DataFrame'>\n",
            "RangeIndex: 1221 entries, 0 to 1220\n",
            "Data columns (total 9 columns):\n",
            " #   Column          Non-Null Count  Dtype \n",
            "---  ------          --------------  ----- \n",
            " 0   claim_id        1221 non-null   object\n",
            " 1   claim           1219 non-null   object\n",
            " 2   date_published  976 non-null    object\n",
            " 3   explanation     1219 non-null   object\n",
            " 4   fact_checkers   1217 non-null   object\n",
            " 5   main_text       1217 non-null   object\n",
            " 6   sources         1216 non-null   object\n",
            " 7   label           1215 non-null   object\n",
            " 8   subjects        1214 non-null   object\n",
            "dtypes: object(9)\n",
            "memory usage: 86.0+ KB\n"
          ]
        }
      ]
    },
    {
      "cell_type": "code",
      "source": [
        "test.info()"
      ],
      "metadata": {
        "colab": {
          "base_uri": "https://localhost:8080/"
        },
        "id": "NAs0D54PJBYC",
        "outputId": "88f840e7-f52a-49c4-b0b2-67fcfe297a09"
      },
      "execution_count": null,
      "outputs": [
        {
          "output_type": "stream",
          "name": "stdout",
          "text": [
            "<class 'pandas.core.frame.DataFrame'>\n",
            "RangeIndex: 1235 entries, 0 to 1234\n",
            "Data columns (total 10 columns):\n",
            " #   Column          Non-Null Count  Dtype \n",
            "---  ------          --------------  ----- \n",
            " 0   Unnamed: 0      1235 non-null   int64 \n",
            " 1   claim_id        1235 non-null   int64 \n",
            " 2   claim           1235 non-null   object\n",
            " 3   date_published  1009 non-null   object\n",
            " 4   explanation     1235 non-null   object\n",
            " 5   fact_checkers   1235 non-null   object\n",
            " 6   main_text       1235 non-null   object\n",
            " 7   sources         1235 non-null   object\n",
            " 8   label           1233 non-null   object\n",
            " 9   subjects        1233 non-null   object\n",
            "dtypes: int64(2), object(8)\n",
            "memory usage: 96.6+ KB\n"
          ]
        }
      ]
    },
    {
      "cell_type": "code",
      "source": [
        "train['main_text'][15]"
      ],
      "metadata": {
        "colab": {
          "base_uri": "https://localhost:8080/",
          "height": 123
        },
        "id": "cSTJ395wJCRN",
        "outputId": "a26c4212-d0df-4e23-f159-489774977860"
      },
      "execution_count": null,
      "outputs": [
        {
          "output_type": "execute_result",
          "data": {
            "text/plain": [
              "'On 31 January 2018, an Amtrak train carrying Republican members of Congress to a retreat struck a garbage truck that was on the tracks at 11:20 a.m. in Crozet, Virginia, killing one person. The tragic loss of life did not give even brief pause, however, to conspiracy trolls who made it their latest fodder. Although there is no evidence the collision was anything more than a horrific accident, disreputable web sites like TheGatewayPundit.com,\\xa0YourNewsWire and InfoWars.com\\xa0latched on, reporting with no evidence that the incident was the result of a nefarious “Deep State” plot to either scare Republicans into falling in line or assassinate them, depending on which crank web site or social media feed one happened to be looking at. For example, InfoWars asked: Was [sic] the safety signals for the train carrying GOP leaders outside Charlottesville, Va., hacked to ensure the train would crash – or was the incident completely accidental? Was the Deep State trying to send a message to globalist Republicans to get back in line – to jump off the Trump train – after the president’s unifying message during the State of the Union? Of course, the train crash might have been a complete accident, but nevertheless here’s some of the weird circumstances surrounding it so far. This is demonstrably false, as WVIR reporter Matt Talhelm, who was at the scene reported, the arms of the crossing guard appeared functional and were down when the accident occurred: Now that the #train has pulled away headed to #Charlottesville @Amtrak station, I can confirm the track crossing IS signalized with the arms DOWN. pic.twitter.com/9Ghrp6LZSM — Matt Talhelm (@MattTalhelm) January 31, 2018  YourNewsWire tried to link the accident to a raging controversy over a memo containing classified information compiled by Rep. Devin Nunes (R-California) about surveillance. Republicans, including U.S. President Donald Trump, are clashing with the Federal Bureau of Investigation over making the memo public. (Trump, and since his election increasingly Republicans, have placed themselves at odds with the U.S. intelligence community.) YourNewsWire reported: The timing could not be more auspicious. Trump aide’s [sic] have been warning that the Deep State could attempt a False Flag this week, as they desperately try to distract from the release of the FISA Abuse memo. Less than twelve hours after President Trump was caught on a hot mic telling a colleague that the memo would “100%” be released, the Deep State killing machine whirred into life and attempted to cause mass carnage on the Amtrak rails. Remarkably, these sites claimed to have this highly sensitive trove of (conflicting, unsourced, unattributed) information hours before the lead investigative agency on the incident, the National Transportation Safety Board, had made any public comments about the collision. Disreputable sites and conspiratorial social media users alike pushed the idea that the\\xa0Deep State, a pejorative term for an alleged amorphous amalgam of U.S. intelligence agencies and illuminati operatives, plotted against Republican members of Congress in the wake of a relatively uneventful State of the Union address delivered by President Trump one day earlier. They claimed that U.S. spies and secret power brokers feared the address would rally the country behind Trump. Worth noting: None of the GOP members of Congress on the train were seriously hurt. According to witnesses, including lawmakers who were on board the train headed to a retreat in West Virginia, the train hit a garbage truck that was on the tracks. Images posted to social media show the damaged locomotive on the tracks and the obliterated remains of the truck. BREAKING: White House: 1 death and 1 serious injury after crash involving a train with GOP lawmakers and a truck, but “there are no serious injuries among members of Congress or their staff.”https://t.co/l1iAPNzniZ pic.twitter.com/Jj7VNVFrIa — NBC News (@NBCNews) January 31, 2018  Although the identity of the deceased person has not been released, Rep. Marshall Rogers (R-Kansas), who is a medical doctor, got out of the train and performed CPR on the garbage truck driver, according to posts written by his wife Laina on his official Twitter feed. The University of Virginia Health System reported that six people had been transported to UVA Medical Center, one in critical condition. Per a statement sent out by Amtrak, accidents at grade-level rail crossings are common: This is an opportunity to remind everyone about the importance of exercising caution around railroad rights-of-way. Amtrak continues to work closely with Operation Lifesaver to communicate the dangers of grade crossings. Each year, about 2,000 people are killed or injured in grade crossing and trespassing incidents nationwide. Although the exact cause of the accident isn’t known, there’s no evidence to support claims being made by notoriously unreliable web sites that there was any foul play, let alone a massive Deep State conspiracy to harm Republican legislators. These sites have misled readers numerous times before. Their modus operandi appears to involve seizing on the early moments of American tragedies to publish unvetted claims and outright lies during the time when real journalists are still working to report and verify facts. In the past YourNewsWire, for instance, posted a viral story that falsely reported that a second gunman had opened fire on a music festival crowd during the 1 October 2017 mass shooting. Gateway Pundit named the wrong person as the Las Vegas shooter. InfoWars helped spread false information about the identity of a man accused of starting recent California wildfires.'"
            ],
            "application/vnd.google.colaboratory.intrinsic+json": {
              "type": "string"
            }
          },
          "metadata": {},
          "execution_count": 12
        }
      ]
    },
    {
      "cell_type": "code",
      "source": [
        "train['claim'][15]"
      ],
      "metadata": {
        "colab": {
          "base_uri": "https://localhost:8080/",
          "height": 36
        },
        "id": "a5Gq_HBMLHF9",
        "outputId": "3865097c-5f5f-4081-f7f7-9a4099c50c1a"
      },
      "execution_count": null,
      "outputs": [
        {
          "output_type": "execute_result",
          "data": {
            "text/plain": [
              "'The train carrying GOP members of Congress to a West Virginia retreat crashed due to a Deep State plot.'"
            ],
            "application/vnd.google.colaboratory.intrinsic+json": {
              "type": "string"
            }
          },
          "metadata": {},
          "execution_count": 13
        }
      ]
    },
    {
      "cell_type": "markdown",
      "source": [
        "**Merging the files**"
      ],
      "metadata": {
        "id": "iyWYhsjrREaP"
      }
    },
    {
      "cell_type": "code",
      "source": [
        "import os\n",
        "import glob\n",
        "import pandas as pd\n",
        "#read the path\n",
        "file_path = \"/content/drive/MyDrive/Mini project/pubhealth/\""
      ],
      "metadata": {
        "id": "SJLtpap1LQ_v"
      },
      "execution_count": null,
      "outputs": []
    },
    {
      "cell_type": "code",
      "source": [
        "file_list = os.listdir(file_path)\n",
        "file_list\n"
      ],
      "metadata": {
        "colab": {
          "base_uri": "https://localhost:8080/"
        },
        "id": "kUlgdvmPRDP3",
        "outputId": "94a0370d-ef10-4eaf-fc20-689ea05bb0ae"
      },
      "execution_count": null,
      "outputs": [
        {
          "output_type": "execute_result",
          "data": {
            "text/plain": [
              "['test.tsv', 'train.tsv', 'dev.tsv']"
            ]
          },
          "metadata": {},
          "execution_count": 32
        }
      ]
    },
    {
      "cell_type": "code",
      "source": [
        "combined_pub = pd.concat([pd.read_csv(file_path + filename, sep='\\t') for filename in file_list])\n",
        "\n",
        "# Export the combined DataFrame to a CSV file\n",
        "combined_pub.to_csv(\"combined_pubhealth.csv\", index=False, encoding='utf-8-sig')"
      ],
      "metadata": {
        "id": "zpLmG_-bTIXN"
      },
      "execution_count": null,
      "outputs": []
    },
    {
      "cell_type": "code",
      "source": [
        "combined_pub.to_csv('/content/drive/MyDrive/Mini project/combined_pubhealth.csv',index=False, encoding='utf-8-sig')"
      ],
      "metadata": {
        "id": "YbjAy-C_SWCV"
      },
      "execution_count": null,
      "outputs": []
    },
    {
      "cell_type": "code",
      "source": [
        "data = pd.read_csv(\"/content/drive/MyDrive/Mini project/combined_pubhealth.csv\")"
      ],
      "metadata": {
        "id": "GmSXeEC9TtKN",
        "colab": {
          "base_uri": "https://localhost:8080/",
          "height": 141
        },
        "outputId": "db27b379-272b-47c2-e3ec-0a583f0d14e6"
      },
      "execution_count": null,
      "outputs": [
        {
          "output_type": "error",
          "ename": "NameError",
          "evalue": "name 'pd' is not defined",
          "traceback": [
            "\u001b[0;31m---------------------------------------------------------------------------\u001b[0m",
            "\u001b[0;31mNameError\u001b[0m                                 Traceback (most recent call last)",
            "\u001b[0;32m<ipython-input-2-78e942b1eb6b>\u001b[0m in \u001b[0;36m<cell line: 1>\u001b[0;34m()\u001b[0m\n\u001b[0;32m----> 1\u001b[0;31m \u001b[0mdata\u001b[0m \u001b[0;34m=\u001b[0m \u001b[0mpd\u001b[0m\u001b[0;34m.\u001b[0m\u001b[0mread_csv\u001b[0m\u001b[0;34m(\u001b[0m\u001b[0;34m\"/content/drive/MyDrive/Mini project/combined_pubhealth.csv\"\u001b[0m\u001b[0;34m)\u001b[0m\u001b[0;34m\u001b[0m\u001b[0;34m\u001b[0m\u001b[0m\n\u001b[0m",
            "\u001b[0;31mNameError\u001b[0m: name 'pd' is not defined"
          ]
        }
      ]
    },
    {
      "cell_type": "code",
      "source": [
        "data.head()"
      ],
      "metadata": {
        "id": "I42OlIYWUA0l"
      },
      "execution_count": null,
      "outputs": []
    },
    {
      "cell_type": "code",
      "source": [
        "data.info()"
      ],
      "metadata": {
        "colab": {
          "base_uri": "https://localhost:8080/"
        },
        "id": "xY1xQ14KUD36",
        "outputId": "05bc2776-7f35-488f-8db7-2ee13cc369d6"
      },
      "execution_count": null,
      "outputs": [
        {
          "output_type": "stream",
          "name": "stdout",
          "text": [
            "<class 'pandas.core.frame.DataFrame'>\n",
            "RangeIndex: 12288 entries, 0 to 12287\n",
            "Data columns (total 10 columns):\n",
            " #   Column          Non-Null Count  Dtype  \n",
            "---  ------          --------------  -----  \n",
            " 0   Unnamed: 0      1235 non-null   float64\n",
            " 1   claim_id        12288 non-null  object \n",
            " 2   claim           12278 non-null  object \n",
            " 3   date_published  9880 non-null   object \n",
            " 4   explanation     12278 non-null  object \n",
            " 5   fact_checkers   12273 non-null  object \n",
            " 6   main_text       12258 non-null  object \n",
            " 7   sources         12255 non-null  object \n",
            " 8   label           12253 non-null  object \n",
            " 9   subjects        12251 non-null  object \n",
            "dtypes: float64(1), object(9)\n",
            "memory usage: 960.1+ KB\n"
          ]
        }
      ]
    },
    {
      "cell_type": "code",
      "source": [
        "data.isnull().sum()"
      ],
      "metadata": {
        "colab": {
          "base_uri": "https://localhost:8080/"
        },
        "id": "TKRu9ay6UGSp",
        "outputId": "572b8281-b72e-4341-ccf2-73790f45339c"
      },
      "execution_count": null,
      "outputs": [
        {
          "output_type": "execute_result",
          "data": {
            "text/plain": [
              "Unnamed: 0        11053\n",
              "claim_id              0\n",
              "claim                10\n",
              "date_published     2408\n",
              "explanation          10\n",
              "fact_checkers        15\n",
              "main_text            30\n",
              "sources              33\n",
              "label                35\n",
              "subjects             37\n",
              "dtype: int64"
            ]
          },
          "metadata": {},
          "execution_count": 39
        }
      ]
    },
    {
      "cell_type": "code",
      "source": [
        "data.columns"
      ],
      "metadata": {
        "colab": {
          "base_uri": "https://localhost:8080/"
        },
        "id": "F5KorkWsZSDS",
        "outputId": "108851f0-e7e7-474e-8085-059455635fcc"
      },
      "execution_count": null,
      "outputs": [
        {
          "output_type": "execute_result",
          "data": {
            "text/plain": [
              "Index(['Unnamed: 0', 'claim_id', 'claim', 'date_published', 'explanation',\n",
              "       'fact_checkers', 'main_text', 'sources', 'label', 'subjects'],\n",
              "      dtype='object')"
            ]
          },
          "metadata": {},
          "execution_count": 40
        }
      ]
    },
    {
      "cell_type": "code",
      "source": [
        "data.drop(['Unnamed: 0', 'claim_id','date_published', 'explanation','fact_checkers','subjects'], axis=1, inplace = True)"
      ],
      "metadata": {
        "id": "0QwOlOckZqWo"
      },
      "execution_count": null,
      "outputs": []
    },
    {
      "cell_type": "code",
      "source": [
        "data.isnull().sum()"
      ],
      "metadata": {
        "colab": {
          "base_uri": "https://localhost:8080/"
        },
        "id": "zQbJvWrfcI3V",
        "outputId": "541c0ee7-d193-4233-b554-8aa7babb7f54"
      },
      "execution_count": null,
      "outputs": [
        {
          "output_type": "execute_result",
          "data": {
            "text/plain": [
              "claim        10\n",
              "main_text    30\n",
              "sources      33\n",
              "label        35\n",
              "dtype: int64"
            ]
          },
          "metadata": {},
          "execution_count": 43
        }
      ]
    },
    {
      "cell_type": "code",
      "source": [
        "data.dropna(subset=['label','claim'], inplace=True)\n",
        "print(data.shape)"
      ],
      "metadata": {
        "colab": {
          "base_uri": "https://localhost:8080/"
        },
        "id": "oGJw-Iw0cLvL",
        "outputId": "857a1bee-95ee-4972-b237-d36d8ef40c18"
      },
      "execution_count": null,
      "outputs": [
        {
          "output_type": "stream",
          "name": "stdout",
          "text": [
            "(12253, 4)\n"
          ]
        }
      ]
    },
    {
      "cell_type": "code",
      "source": [
        "data.isnull().sum()"
      ],
      "metadata": {
        "colab": {
          "base_uri": "https://localhost:8080/"
        },
        "id": "VY-eJEVQcl_f",
        "outputId": "380ba14f-3616-46b3-ff4f-72a84d604389"
      },
      "execution_count": null,
      "outputs": [
        {
          "output_type": "execute_result",
          "data": {
            "text/plain": [
              "claim        0\n",
              "main_text    0\n",
              "sources      1\n",
              "label        0\n",
              "dtype: int64"
            ]
          },
          "metadata": {},
          "execution_count": 45
        }
      ]
    },
    {
      "cell_type": "code",
      "source": [
        "data.dropna(subset=['sources'], inplace=True)\n",
        "print(data.shape)"
      ],
      "metadata": {
        "colab": {
          "base_uri": "https://localhost:8080/"
        },
        "id": "v9Dwb000cpln",
        "outputId": "04856a67-f578-4a86-a45f-d5468c371ded"
      },
      "execution_count": null,
      "outputs": [
        {
          "output_type": "stream",
          "name": "stdout",
          "text": [
            "(12252, 4)\n"
          ]
        }
      ]
    },
    {
      "cell_type": "code",
      "source": [
        "data.label.value_counts()"
      ],
      "metadata": {
        "colab": {
          "base_uri": "https://localhost:8080/"
        },
        "id": "XDTLDt--ga8E",
        "outputId": "06e4e325-8eb0-48ee-c67d-1314873ea23c"
      },
      "execution_count": null,
      "outputs": [
        {
          "output_type": "execute_result",
          "data": {
            "text/plain": [
              "label\n",
              "true                                             6305\n",
              "false                                            3769\n",
              "mixture                                          1799\n",
              "unproven                                          377\n",
              "snopes                                              1\n",
              "National, Candidate Biography, Donald Trump,        1\n",
              "Name: count, dtype: int64"
            ]
          },
          "metadata": {},
          "execution_count": 57
        }
      ]
    },
    {
      "cell_type": "code",
      "source": [
        "data.drop(data[data['label'] == 'snopes'].index, inplace = True)"
      ],
      "metadata": {
        "id": "jk72Mqflggnw"
      },
      "execution_count": null,
      "outputs": []
    },
    {
      "cell_type": "code",
      "source": [
        "data.drop(data[data['label'] == 'National, Candidate Biography, Donald Trump, '].index, inplace = True)"
      ],
      "metadata": {
        "id": "1TX5kkvAgqHG"
      },
      "execution_count": null,
      "outputs": []
    },
    {
      "cell_type": "code",
      "source": [
        "data.label.value_counts()"
      ],
      "metadata": {
        "colab": {
          "base_uri": "https://localhost:8080/"
        },
        "id": "B8SaLRoRg0zy",
        "outputId": "bb88fad3-2553-4fcd-c5ef-54b457e274c5"
      },
      "execution_count": null,
      "outputs": [
        {
          "output_type": "execute_result",
          "data": {
            "text/plain": [
              "label\n",
              "true        6305\n",
              "false       3769\n",
              "mixture     1799\n",
              "unproven     377\n",
              "Name: count, dtype: int64"
            ]
          },
          "metadata": {},
          "execution_count": 60
        }
      ]
    },
    {
      "cell_type": "code",
      "source": [
        "data.to_csv(\"/content/drive/MyDrive/Mini project/pubdata_cleaned.csv\", index = False)\n"
      ],
      "metadata": {
        "id": "4Fklmgn2dBar"
      },
      "execution_count": null,
      "outputs": []
    },
    {
      "cell_type": "code",
      "source": [
        "pub = pd.read_csv(\"/content/drive/MyDrive/Mini_project/pubdata_cleaned.csv\")\n",
        "pub.head()"
      ],
      "metadata": {
        "colab": {
          "base_uri": "https://localhost:8080/",
          "height": 206
        },
        "id": "Q2f7GJWSd21v",
        "outputId": "bea2a204-8c15-4707-9563-eb7590a3c493"
      },
      "execution_count": null,
      "outputs": [
        {
          "output_type": "execute_result",
          "data": {
            "text/plain": [
              "                                               claim  \\\n",
              "0  A mother revealed to her child in a letter aft...   \n",
              "1  Study says too many Americans still drink too ...   \n",
              "2  Viral image Says 80% of novel coronavirus case...   \n",
              "3  An email says that 9-year old Craig Shergold o...   \n",
              "4  Employees at a Five Guys restaurant in Daphne,...   \n",
              "\n",
              "                                           main_text  \\\n",
              "0  In April 2005, we spotted a tearjerker on the ...   \n",
              "1  That means the great majority of Americans sta...   \n",
              "2  Amid the spread of the novel coronavirus, many...   \n",
              "3  Craig Shergold is real and             in 1989...   \n",
              "4  In July 2020, amid a new wave of nationwide pr...   \n",
              "\n",
              "                                             sources     label  \n",
              "0                                                        false  \n",
              "1                               http://bit.ly/X1NVtW      true  \n",
              "2  https://www.facebook.com/informationisbeautifu...      true  \n",
              "3  https://www.reddit.com/submit?url=https%3A%2F%...     false  \n",
              "4                                                     unproven  "
            ],
            "text/html": [
              "\n",
              "  <div id=\"df-bd28d0a9-b6db-4d7c-8646-e705a41879fa\" class=\"colab-df-container\">\n",
              "    <div>\n",
              "<style scoped>\n",
              "    .dataframe tbody tr th:only-of-type {\n",
              "        vertical-align: middle;\n",
              "    }\n",
              "\n",
              "    .dataframe tbody tr th {\n",
              "        vertical-align: top;\n",
              "    }\n",
              "\n",
              "    .dataframe thead th {\n",
              "        text-align: right;\n",
              "    }\n",
              "</style>\n",
              "<table border=\"1\" class=\"dataframe\">\n",
              "  <thead>\n",
              "    <tr style=\"text-align: right;\">\n",
              "      <th></th>\n",
              "      <th>claim</th>\n",
              "      <th>main_text</th>\n",
              "      <th>sources</th>\n",
              "      <th>label</th>\n",
              "    </tr>\n",
              "  </thead>\n",
              "  <tbody>\n",
              "    <tr>\n",
              "      <th>0</th>\n",
              "      <td>A mother revealed to her child in a letter aft...</td>\n",
              "      <td>In April 2005, we spotted a tearjerker on the ...</td>\n",
              "      <td></td>\n",
              "      <td>false</td>\n",
              "    </tr>\n",
              "    <tr>\n",
              "      <th>1</th>\n",
              "      <td>Study says too many Americans still drink too ...</td>\n",
              "      <td>That means the great majority of Americans sta...</td>\n",
              "      <td>http://bit.ly/X1NVtW</td>\n",
              "      <td>true</td>\n",
              "    </tr>\n",
              "    <tr>\n",
              "      <th>2</th>\n",
              "      <td>Viral image Says 80% of novel coronavirus case...</td>\n",
              "      <td>Amid the spread of the novel coronavirus, many...</td>\n",
              "      <td>https://www.facebook.com/informationisbeautifu...</td>\n",
              "      <td>true</td>\n",
              "    </tr>\n",
              "    <tr>\n",
              "      <th>3</th>\n",
              "      <td>An email says that 9-year old Craig Shergold o...</td>\n",
              "      <td>Craig Shergold is real and             in 1989...</td>\n",
              "      <td>https://www.reddit.com/submit?url=https%3A%2F%...</td>\n",
              "      <td>false</td>\n",
              "    </tr>\n",
              "    <tr>\n",
              "      <th>4</th>\n",
              "      <td>Employees at a Five Guys restaurant in Daphne,...</td>\n",
              "      <td>In July 2020, amid a new wave of nationwide pr...</td>\n",
              "      <td></td>\n",
              "      <td>unproven</td>\n",
              "    </tr>\n",
              "  </tbody>\n",
              "</table>\n",
              "</div>\n",
              "    <div class=\"colab-df-buttons\">\n",
              "\n",
              "  <div class=\"colab-df-container\">\n",
              "    <button class=\"colab-df-convert\" onclick=\"convertToInteractive('df-bd28d0a9-b6db-4d7c-8646-e705a41879fa')\"\n",
              "            title=\"Convert this dataframe to an interactive table.\"\n",
              "            style=\"display:none;\">\n",
              "\n",
              "  <svg xmlns=\"http://www.w3.org/2000/svg\" height=\"24px\" viewBox=\"0 -960 960 960\">\n",
              "    <path d=\"M120-120v-720h720v720H120Zm60-500h600v-160H180v160Zm220 220h160v-160H400v160Zm0 220h160v-160H400v160ZM180-400h160v-160H180v160Zm440 0h160v-160H620v160ZM180-180h160v-160H180v160Zm440 0h160v-160H620v160Z\"/>\n",
              "  </svg>\n",
              "    </button>\n",
              "\n",
              "  <style>\n",
              "    .colab-df-container {\n",
              "      display:flex;\n",
              "      gap: 12px;\n",
              "    }\n",
              "\n",
              "    .colab-df-convert {\n",
              "      background-color: #E8F0FE;\n",
              "      border: none;\n",
              "      border-radius: 50%;\n",
              "      cursor: pointer;\n",
              "      display: none;\n",
              "      fill: #1967D2;\n",
              "      height: 32px;\n",
              "      padding: 0 0 0 0;\n",
              "      width: 32px;\n",
              "    }\n",
              "\n",
              "    .colab-df-convert:hover {\n",
              "      background-color: #E2EBFA;\n",
              "      box-shadow: 0px 1px 2px rgba(60, 64, 67, 0.3), 0px 1px 3px 1px rgba(60, 64, 67, 0.15);\n",
              "      fill: #174EA6;\n",
              "    }\n",
              "\n",
              "    .colab-df-buttons div {\n",
              "      margin-bottom: 4px;\n",
              "    }\n",
              "\n",
              "    [theme=dark] .colab-df-convert {\n",
              "      background-color: #3B4455;\n",
              "      fill: #D2E3FC;\n",
              "    }\n",
              "\n",
              "    [theme=dark] .colab-df-convert:hover {\n",
              "      background-color: #434B5C;\n",
              "      box-shadow: 0px 1px 3px 1px rgba(0, 0, 0, 0.15);\n",
              "      filter: drop-shadow(0px 1px 2px rgba(0, 0, 0, 0.3));\n",
              "      fill: #FFFFFF;\n",
              "    }\n",
              "  </style>\n",
              "\n",
              "    <script>\n",
              "      const buttonEl =\n",
              "        document.querySelector('#df-bd28d0a9-b6db-4d7c-8646-e705a41879fa button.colab-df-convert');\n",
              "      buttonEl.style.display =\n",
              "        google.colab.kernel.accessAllowed ? 'block' : 'none';\n",
              "\n",
              "      async function convertToInteractive(key) {\n",
              "        const element = document.querySelector('#df-bd28d0a9-b6db-4d7c-8646-e705a41879fa');\n",
              "        const dataTable =\n",
              "          await google.colab.kernel.invokeFunction('convertToInteractive',\n",
              "                                                    [key], {});\n",
              "        if (!dataTable) return;\n",
              "\n",
              "        const docLinkHtml = 'Like what you see? Visit the ' +\n",
              "          '<a target=\"_blank\" href=https://colab.research.google.com/notebooks/data_table.ipynb>data table notebook</a>'\n",
              "          + ' to learn more about interactive tables.';\n",
              "        element.innerHTML = '';\n",
              "        dataTable['output_type'] = 'display_data';\n",
              "        await google.colab.output.renderOutput(dataTable, element);\n",
              "        const docLink = document.createElement('div');\n",
              "        docLink.innerHTML = docLinkHtml;\n",
              "        element.appendChild(docLink);\n",
              "      }\n",
              "    </script>\n",
              "  </div>\n",
              "\n",
              "\n",
              "<div id=\"df-302ba9df-9fc1-46c4-a741-7c270e5afc1e\">\n",
              "  <button class=\"colab-df-quickchart\" onclick=\"quickchart('df-302ba9df-9fc1-46c4-a741-7c270e5afc1e')\"\n",
              "            title=\"Suggest charts\"\n",
              "            style=\"display:none;\">\n",
              "\n",
              "<svg xmlns=\"http://www.w3.org/2000/svg\" height=\"24px\"viewBox=\"0 0 24 24\"\n",
              "     width=\"24px\">\n",
              "    <g>\n",
              "        <path d=\"M19 3H5c-1.1 0-2 .9-2 2v14c0 1.1.9 2 2 2h14c1.1 0 2-.9 2-2V5c0-1.1-.9-2-2-2zM9 17H7v-7h2v7zm4 0h-2V7h2v10zm4 0h-2v-4h2v4z\"/>\n",
              "    </g>\n",
              "</svg>\n",
              "  </button>\n",
              "\n",
              "<style>\n",
              "  .colab-df-quickchart {\n",
              "      --bg-color: #E8F0FE;\n",
              "      --fill-color: #1967D2;\n",
              "      --hover-bg-color: #E2EBFA;\n",
              "      --hover-fill-color: #174EA6;\n",
              "      --disabled-fill-color: #AAA;\n",
              "      --disabled-bg-color: #DDD;\n",
              "  }\n",
              "\n",
              "  [theme=dark] .colab-df-quickchart {\n",
              "      --bg-color: #3B4455;\n",
              "      --fill-color: #D2E3FC;\n",
              "      --hover-bg-color: #434B5C;\n",
              "      --hover-fill-color: #FFFFFF;\n",
              "      --disabled-bg-color: #3B4455;\n",
              "      --disabled-fill-color: #666;\n",
              "  }\n",
              "\n",
              "  .colab-df-quickchart {\n",
              "    background-color: var(--bg-color);\n",
              "    border: none;\n",
              "    border-radius: 50%;\n",
              "    cursor: pointer;\n",
              "    display: none;\n",
              "    fill: var(--fill-color);\n",
              "    height: 32px;\n",
              "    padding: 0;\n",
              "    width: 32px;\n",
              "  }\n",
              "\n",
              "  .colab-df-quickchart:hover {\n",
              "    background-color: var(--hover-bg-color);\n",
              "    box-shadow: 0 1px 2px rgba(60, 64, 67, 0.3), 0 1px 3px 1px rgba(60, 64, 67, 0.15);\n",
              "    fill: var(--button-hover-fill-color);\n",
              "  }\n",
              "\n",
              "  .colab-df-quickchart-complete:disabled,\n",
              "  .colab-df-quickchart-complete:disabled:hover {\n",
              "    background-color: var(--disabled-bg-color);\n",
              "    fill: var(--disabled-fill-color);\n",
              "    box-shadow: none;\n",
              "  }\n",
              "\n",
              "  .colab-df-spinner {\n",
              "    border: 2px solid var(--fill-color);\n",
              "    border-color: transparent;\n",
              "    border-bottom-color: var(--fill-color);\n",
              "    animation:\n",
              "      spin 1s steps(1) infinite;\n",
              "  }\n",
              "\n",
              "  @keyframes spin {\n",
              "    0% {\n",
              "      border-color: transparent;\n",
              "      border-bottom-color: var(--fill-color);\n",
              "      border-left-color: var(--fill-color);\n",
              "    }\n",
              "    20% {\n",
              "      border-color: transparent;\n",
              "      border-left-color: var(--fill-color);\n",
              "      border-top-color: var(--fill-color);\n",
              "    }\n",
              "    30% {\n",
              "      border-color: transparent;\n",
              "      border-left-color: var(--fill-color);\n",
              "      border-top-color: var(--fill-color);\n",
              "      border-right-color: var(--fill-color);\n",
              "    }\n",
              "    40% {\n",
              "      border-color: transparent;\n",
              "      border-right-color: var(--fill-color);\n",
              "      border-top-color: var(--fill-color);\n",
              "    }\n",
              "    60% {\n",
              "      border-color: transparent;\n",
              "      border-right-color: var(--fill-color);\n",
              "    }\n",
              "    80% {\n",
              "      border-color: transparent;\n",
              "      border-right-color: var(--fill-color);\n",
              "      border-bottom-color: var(--fill-color);\n",
              "    }\n",
              "    90% {\n",
              "      border-color: transparent;\n",
              "      border-bottom-color: var(--fill-color);\n",
              "    }\n",
              "  }\n",
              "</style>\n",
              "\n",
              "  <script>\n",
              "    async function quickchart(key) {\n",
              "      const quickchartButtonEl =\n",
              "        document.querySelector('#' + key + ' button');\n",
              "      quickchartButtonEl.disabled = true;  // To prevent multiple clicks.\n",
              "      quickchartButtonEl.classList.add('colab-df-spinner');\n",
              "      try {\n",
              "        const charts = await google.colab.kernel.invokeFunction(\n",
              "            'suggestCharts', [key], {});\n",
              "      } catch (error) {\n",
              "        console.error('Error during call to suggestCharts:', error);\n",
              "      }\n",
              "      quickchartButtonEl.classList.remove('colab-df-spinner');\n",
              "      quickchartButtonEl.classList.add('colab-df-quickchart-complete');\n",
              "    }\n",
              "    (() => {\n",
              "      let quickchartButtonEl =\n",
              "        document.querySelector('#df-302ba9df-9fc1-46c4-a741-7c270e5afc1e button');\n",
              "      quickchartButtonEl.style.display =\n",
              "        google.colab.kernel.accessAllowed ? 'block' : 'none';\n",
              "    })();\n",
              "  </script>\n",
              "</div>\n",
              "\n",
              "    </div>\n",
              "  </div>\n"
            ],
            "application/vnd.google.colaboratory.intrinsic+json": {
              "type": "dataframe",
              "variable_name": "pub",
              "summary": "{\n  \"name\": \"pub\",\n  \"rows\": 12250,\n  \"fields\": [\n    {\n      \"column\": \"claim\",\n      \"properties\": {\n        \"dtype\": \"string\",\n        \"num_unique_values\": 12250,\n        \"samples\": [\n          \"California stop-smoking campaign saved $86 billion: report.\",\n          \"Group pushes to end plastic foam use in schools.\",\n          \"St. Louis jury rejects lawsuit against Johnson & Johnson.\"\n        ],\n        \"semantic_type\": \"\",\n        \"description\": \"\"\n      }\n    },\n    {\n      \"column\": \"main_text\",\n      \"properties\": {\n        \"dtype\": \"string\",\n        \"num_unique_values\": 11936,\n        \"samples\": [\n          \"The new infections, including in two health workers from Riyadh who have not reported any adverse symptoms, bring the worldwide total of confirmed cases of the respiratory disease to 170 with 72 deaths, the United Nations health agency said. MERS first emerged in the Middle East in September 2012 and is from the same family as the SARS virus, can cause coughing, fever and pneumonia. Cases have been reported in Saudi Arabia, Qatar, Kuwait, Jordan, United Arab Emirates, Oman, and Tunisia as well as in several countries in Europe, and scientists are increasingly focused on a link between the human infections and camels as a possible \\u201canimal reservoir\\u201d of the virus. In Friday\\u2019s update, the WHO said the latest MERS death - a 73 year-old man from Riyadh - had reported having contact with animals but had no travel history outside the Riyadh region. The fourth case, in a 53-year-old man from Riyadh, was after contact with a previously confirmed MERS case. He was hospitalized on November 26 and is currently receiving treatment in an intensive care unit, it said. Dutch and Qatari scientists published research earlier this month that proved for the first time that MERS can also infect camels - strengthening suspicions that these animals, often used in the region for meat, milk, transport and racing, may be a source of the human outbreak. The WHO said people at high risk of severe disease due to MERS should \\u201cavoid close contact with animals when visiting farms or barn areas where the virus is known to be potentially circulating\\u201d. For the general public it advised normal hygiene steps such as hand washing before and after touching animals, avoiding contact with sick animals and good food hygiene practices.\",\n          \"The Minnesota Department of Health said Wednesday the person was hospitalized and has since recovered. Health officials have warned consumers in 11 states against eating some berries bought from the Fresh Thyme chain. Officials have confirmed 14 cases of hepatitis A as part of the outbreak in Indiana, Minnesota, Michigan, Nebraska and Wisconsin. Fresh Thyme has said it is cooperating with investigators to identify the source of the contamination. Hepatitis A is a virus that infects the liver and can cause mild, flu-like symptoms. Minnesota health officials are reminding consumers to avoid eating fresh, non-organic blackberries bought from Fresh Thyme between Sept. 9 and Sept. 30.\",\n          \"\\\"This story did not provide information on the cost of weight loss surgery or indicate whether it is covered by health insurance. This story accurately summarizes the benefits for children. Benefits include improved cardiovascular markers such as insulin sensitivity and lower cholesterol and that children were 3 times less likely to be obese compared to their siblings born before weight loss surgery. The article also lists maternal health benefits such as not gaining as much weight during pregnancy and lower risk of diabetes and high blood pressure. Fetal malnutrition is the only potential adverse effect of maternal weight loss surgery that the story mentions. A quote from the lead researcher states that fetal malnutition is not a concern for women who have had weight loss surgery before pregnancy. While this may have been the case in the research being referenced, there are not a lot of data to definitively support this statement. Other possible complications including anemia or bleeding in the stomach or intestines were not mentioned. This article states that the information presented is based upon a study published in the Journal of Clinical Endocrinology and Metabolism. What it did not explain is that it was only published online for subscribers of the journal and for media. News consumers who do not subscribe to the journal (how many would?) do not have access to the complete data and won\\u2019t have access to it until it appears in the printed publication in November. So all the general public can access is a news release that said the paper had been accepted for publication. A fact omitted from the story but contained even in the press release is that the women in the study had a less common form of weight loss surgery called biliopancreatic diversion. So there was no discussion of whether the same risks and benefits of this type of surgery would apply to women undergoing the more common gastric bypass surgery. Obesity is a significant public issue. This story appropriately discussed the risks of obesity and significant weight gain during pregnancy on the mother and child\\u2019s health. The story includes quotes with the lead investigator and with an independent researcher. The story references first line behavioral treatment options including education about the risks of obesity, exercise and diet. The story should have listed weight loss medication, but rates satisfactory in this category because it indicates that more aggressive treatment may be needed if behavioral approaches fail. No information on the availability or prevalence of weight loss surgery for women of child-bearing age was given. And no information was given about how common is the particular method of biliopancreatic diversion surgery that was used in this study. The story quotes the lead investigator: \\u201cTo our knowledge, our paper is the first to demonstrate that dramatic maternal weight loss causes metabolic improvements in their children.\\\"\\\" The newspaper (and other media and journal subscribers) got access to an online posting of the study. The general public won\\u2019t have access to that study and its data until it\\u2019s published in print in November. It does appear that the paper interviewed the author and an independent source, so we\\u2019re going to give the story the benefit of the doubt and rule it satisfactory.\\\"\"\n        ],\n        \"semantic_type\": \"\",\n        \"description\": \"\"\n      }\n    },\n    {\n      \"column\": \"sources\",\n      \"properties\": {\n        \"dtype\": \"string\",\n        \"num_unique_values\": 6278,\n        \"samples\": [\n          \"https://www.hobbsnews.com/\",\n          \"https://showcase.duvalclerk.com/ViewCaseDetails.aspx?id=8928690&court=0, http://www.solantic.com/history.php, https://www.youtube.com/watch?v=EYgTjVULTbk&feature=player_embedded, http://blogs.orlandosentinel.com/news_politics/2010/08/the-scott-mccollum-solantic-opus-cliftnotes.html, http://doe.dos.state.fl.us/PublicRecordsBER/wfPublicImagesBER.aspx?account=54524, http://blogs.orlandosentinel.com/news_politics/2010/08/fdle-passes-solantic-complaint-to-the-feds.html, http://www.tampabay.com/news/politics/elections/article1114292.ece, http://blogs.tampabay.com/buzz/2010/08/lawsuits-point-to-trouble-at-rick-scotts-current-health-care-business.html, http://www.naplesnews.com/news/2010/aug/16/complaint-Solantic-clinic-rick-scott-federal/\",\n          \"https://munews.missouri.edu/news-releases/2019/0218-mu-student-diagnosed-with-tuberculosis/\"\n        ],\n        \"semantic_type\": \"\",\n        \"description\": \"\"\n      }\n    },\n    {\n      \"column\": \"label\",\n      \"properties\": {\n        \"dtype\": \"category\",\n        \"num_unique_values\": 4,\n        \"samples\": [\n          \"true\",\n          \"mixture\",\n          \"false\"\n        ],\n        \"semantic_type\": \"\",\n        \"description\": \"\"\n      }\n    }\n  ]\n}"
            }
          },
          "metadata": {},
          "execution_count": 4
        }
      ]
    },
    {
      "source": [
        "# @title label\n",
        "\n",
        "from matplotlib import pyplot as plt\n",
        "import seaborn as sns\n",
        "pub.groupby('label').size().plot(kind='barh', color=sns.palettes.mpl_palette('Dark2'))\n",
        "plt.gca().spines[['top', 'right',]].set_visible(False)"
      ],
      "cell_type": "code",
      "execution_count": null,
      "outputs": [
        {
          "output_type": "display_data",
          "data": {
            "text/plain": [
              "<Figure size 640x480 with 1 Axes>"
            ],
            "image/png": "[encoded data removed]"
          },
          "metadata": {}
        }
      ],
      "metadata": {
        "colab": {
          "base_uri": "https://localhost:8080/",
          "height": 430
        },
        "id": "QXrLi3COhBoJ",
        "outputId": "dd1c57cd-aef7-4693-ec96-2ce4f4891aea"
      }
    },
    {
      "cell_type": "code",
      "source": [
        "from matplotlib import pyplot as plt\n",
        "import seaborn as sns\n",
        "\n",
        "grouped_data = pub.groupby('label').size().reset_index(name='count')\n",
        "\n",
        "\n",
        "plt.figure(figsize=(8, 6))\n",
        "sns.barplot(x='count', y='label', data=grouped_data, palette=sns.color_palette('Dark2'));\n",
        "\n",
        "for index, row in grouped_data.iterrows():\n",
        "    plt.text(row['count'] + 0.1, index, f'{row[\"count\"]}', va='center')\n",
        "\n",
        "plt.gca().spines['top'].set_visible(False)\n",
        "plt.gca().spines['right'].set_visible(False)\n",
        "\n",
        "plt.xlabel('Count')\n",
        "plt.ylabel('Label')\n",
        "plt.title('Count of each Label')\n",
        "plt.show()\n"
      ],
      "metadata": {
        "colab": {
          "base_uri": "https://localhost:8080/",
          "height": 685
        },
        "id": "tFuA6W9ThqcT",
        "outputId": "1eb1c2b8-30e2-4e62-d51c-b0c186307a70"
      },
      "execution_count": null,
      "outputs": [
        {
          "output_type": "stream",
          "name": "stderr",
          "text": [
            "<ipython-input-66-f5e5b7c2077e>:8: FutureWarning: \n",
            "\n",
            "Passing `palette` without assigning `hue` is deprecated and will be removed in v0.14.0. Assign the `y` variable to `hue` and set `legend=False` for the same effect.\n",
            "\n",
            "  sns.barplot(x='count', y='label', data=grouped_data, palette=sns.color_palette('Dark2'));\n",
            "<ipython-input-66-f5e5b7c2077e>:8: UserWarning: The palette list has more values (8) than needed (4), which may not be intended.\n",
            "  sns.barplot(x='count', y='label', data=grouped_data, palette=sns.color_palette('Dark2'));\n"
          ]
        },
        {
          "output_type": "display_data",
          "data": {
            "text/plain": [
              "<Figure size 800x600 with 1 Axes>"
            ],
            "image/png": "[encoded data removed]"
          },
          "metadata": {}
        }
      ]
    },
    {
      "cell_type": "code",
      "source": [
        "from langchain_community.document_loaders.csv_loader import CSVLoader\n",
        "\n",
        "loader = CSVLoader(file_path=\"/content/drive/MyDrive/Mini_project/pubdata_cleaned.csv\",source_column='claim')\n",
        "\n",
        "docs = loader.load()"
      ],
      "metadata": {
        "id": "tkCxzZO9cyP_"
      },
      "execution_count": null,
      "outputs": []
    },
    {
      "cell_type": "code",
      "source": [
        "docs[1112]"
      ],
      "metadata": {
        "colab": {
          "base_uri": "https://localhost:8080/"
        },
        "id": "2oDEsbs4vM7V",
        "outputId": "74b46e47-f454-42a7-dd96-a568fb0dbcce"
      },
      "execution_count": null,
      "outputs": [
        {
          "output_type": "execute_result",
          "data": {
            "text/plain": [
              "Document(page_content='claim: More evidence coffee, tea could prevent diabetes\\nmain_text: There was no discussion of costs, but most people know what coffee and tea costs. Because the story noted the limitations of an observational study like this, and because it quantified the statistical associations from the study, we give it a satisfactory score on this criterion. There was no discussion of the potential harms of drinking large quantities of coffee and tea. There are always tradeoffs. This is worth at least a line. The story did mention that the information presented was extracted from a review of the published studies; it went on to explain that a clinical trial would be needed to determine whether the impact of these beverages on diabetes was real. The story did not engage in overt disease mongering. In contrast with the WebMD story, it provided a source when it stated, \"Type 2 diabetes, which is often tied to obesity, affects about 8 percent of the U.S. population, according to the U.S. National Institute of Diabetes and Digestive and Kidney Diseases.\" No independent sources were quoted in the story. We especially feel that this was warranted given the inclusion of the researcher’s bold claims of potential impact\\xa0 of the findings. While the last line of the story mentioned exercise and diet, there was no context for readers to evaluate how coffee and tea consumption compared to these strategies for reducing the chance of developing type II diabetes. The availabilty of coffee and tea is not in question. The story began by explaining that this was a follow-up to a previous literature review of the impact of coffee and tea consumption on type II diabetes. There is no evidence that the story relied solely or largely on a news release.\\nsources: \\nlabel: true', metadata={'source': 'More evidence coffee, tea could prevent diabetes', 'row': 1112})"
            ]
          },
          "metadata": {},
          "execution_count": 7
        }
      ]
    },
    {
      "cell_type": "code",
      "source": [
        "print(docs[1112].page_content)\n"
      ],
      "metadata": {
        "colab": {
          "base_uri": "https://localhost:8080/"
        },
        "id": "LKK-WrJcdiAe",
        "outputId": "8a12751b-06d3-4427-cf63-2c75de73fcb0"
      },
      "execution_count": null,
      "outputs": [
        {
          "output_type": "stream",
          "name": "stdout",
          "text": [
            "claim: More evidence coffee, tea could prevent diabetes\n",
            "main_text: There was no discussion of costs, but most people know what coffee and tea costs. Because the story noted the limitations of an observational study like this, and because it quantified the statistical associations from the study, we give it a satisfactory score on this criterion. There was no discussion of the potential harms of drinking large quantities of coffee and tea. There are always tradeoffs. This is worth at least a line. The story did mention that the information presented was extracted from a review of the published studies; it went on to explain that a clinical trial would be needed to determine whether the impact of these beverages on diabetes was real. The story did not engage in overt disease mongering. In contrast with the WebMD story, it provided a source when it stated, \"Type 2 diabetes, which is often tied to obesity, affects about 8 percent of the U.S. population, according to the U.S. National Institute of Diabetes and Digestive and Kidney Diseases.\" No independent sources were quoted in the story. We especially feel that this was warranted given the inclusion of the researcher’s bold claims of potential impact  of the findings. While the last line of the story mentioned exercise and diet, there was no context for readers to evaluate how coffee and tea consumption compared to these strategies for reducing the chance of developing type II diabetes. The availabilty of coffee and tea is not in question. The story began by explaining that this was a follow-up to a previous literature review of the impact of coffee and tea consumption on type II diabetes. There is no evidence that the story relied solely or largely on a news release.\n",
            "sources: \n",
            "label: true\n"
          ]
        }
      ]
    },
    {
      "cell_type": "code",
      "source": [
        "len(docs[1112].page_content)"
      ],
      "metadata": {
        "colab": {
          "base_uri": "https://localhost:8080/"
        },
        "id": "yDqHj5hSxWTv",
        "outputId": "a273a7e0-ec30-42b5-983a-1060e529c605"
      },
      "execution_count": null,
      "outputs": [
        {
          "output_type": "execute_result",
          "data": {
            "text/plain": [
              "1766"
            ]
          },
          "metadata": {},
          "execution_count": 9
        }
      ]
    },
    {
      "cell_type": "code",
      "source": [
        "len(docs)"
      ],
      "metadata": {
        "colab": {
          "base_uri": "https://localhost:8080/"
        },
        "id": "UTwLv26ziXvc",
        "outputId": "0e3d7b9d-896f-4aca-9704-152294091944"
      },
      "execution_count": null,
      "outputs": [
        {
          "output_type": "execute_result",
          "data": {
            "text/plain": [
              "12250"
            ]
          },
          "metadata": {},
          "execution_count": 10
        }
      ]
    },
    {
      "cell_type": "code",
      "source": [
        "docs[0]"
      ],
      "metadata": {
        "colab": {
          "base_uri": "https://localhost:8080/"
        },
        "id": "1hmS06j-8jiQ",
        "outputId": "3016d20c-9c06-4b2a-e1e8-3b14243956f6"
      },
      "execution_count": null,
      "outputs": [
        {
          "output_type": "execute_result",
          "data": {
            "text/plain": [
              "Document(page_content=\"claim: A mother revealed to her child in a letter after her death that she had just one eye because she had donated the other to him.\\nmain_text: In April 2005, we spotted a tearjerker on the Internet about a mother who gave up one of her eyes to a son who had lost one of his at an early age. By February 2007 the item was circulating in e-mail in the following shortened version:  My mom only had one eye. I hated her… She was such an embarrassment. She cooked for students and teachers to support the family. There was this one day during elementary school where my mom came to say hello to me. I was so embarrassed. How could she do this to me? I ignored her, threw her a hateful look and ran out. The next day at school one of my classmates said, “EEEE, your mom only has one eye!” I wanted to bury myself. I also wanted my mom to just disappear. I confronted her that day and said, “If you’re only gonna make me a laughing stock, why don’t you just die?” My mom did not respond… I didn’t even stop to think for a second about what I had said, because I was full of anger. I was oblivious to her feelings. I wanted out of that house, and have nothing to do with her. So I studied real hard, got a chance to go abroad to study. Then, I got married. I bought a house of my own. I had kids of my own. I was happy with my life, my kids and the comforts. Then one day, my Mother came to visit me. She hadn’t seen me in years and she didn’t even meet her grandchildren. When she stood by the door, my children laughed at her, and I yelled at her for coming over uninvited. I screamed at her, “How dare you come to my house and scare my children! GET OUT OF HERE! NOW!! !” And to this, my mother quietly answered, “Oh, I’m so sorry. I may have gotten the wrong address,” and she disappeared out of sight. One day, a letter regarding a school reunion came to my house. So I lied to my wife that I was going on a business trip. After the reunion, I went to the old shack just out of curiosity. My neighbors said that she died. I did not shed a single tear. They handed me a letter that she had wanted me to have. My dearest son, I think of you all the time. I’m sorry that I came to your house and scared your children. I was so glad when I heard you were coming for the reunion. But I may not be able to even get out of bed to see you. I’m sorry that I was a constant embarrassment to you when you were growing up. You see……..when you were very little, you got into an accident, and lost your eye. As a mother, I couldn’t stand watching you having to grow up with one eye. So I gave you mine. I was so proud of my son who was seeing a whole new world for me, in my place, with that eye. With all my love to you, Your mother. In its earlier incarnation, the story identified by implication its location as Korea through statements made by both the mother and the son (the son’s “I left my mother and came to Seoul” and the mother’s “I won’t visit Seoul anymore”). It also supplied a reason for the son’s behavior when his mother arrived unexpectedly to visit him (“My little girl ran away, scared of my mom’s eye” and “I screamed at her, ‘How dare you come to my house and scare my daughter!'”). A further twist was provided in the original: rather than gaining the news of his mother’s death from neighbors (who hand him her letter), the son instead discovered the woman who bore him lying dead on the floor of what used to be his childhood home, her missive to him clutched in her lifeless hand: Give your parents roses while they are alive, not deadMY mom only had one eye. I hated her … she was such an embarrassment. My mom ran a small shop at a flea market. She collected little weeds and such to sell … anything for the money we needed she was such an embarrassment. There was this one day during elementary school … It was field day, and my mom came. I was so embarrassed. How could she do this to me? I threw her a hateful look and ran out. The next day at school … “your mom only has one eye?!? !” … And they taunted me. I wished that my mom would just disappear from this world so I said to my mom, “mom … Why don’t you have the other eye?! If you’re only going to make me a laughingstock, why don’t you just die?!! !” my mom did not respond … I guess I felt a little bad, but at the same time, it felt good to think that I had said what I’d wanted to say all this time… maybe it was because my mom hadn’t punished me, but I didn’t think that I had hurt her feelings very badly. That night… I woke up, and went to the kitchen to get a glass of water. My mom was crying there, so quietly, as if she was afraid that she might wake me. I took a look at her, and then turned away. Because of the thing I had said to her earlier, there was something pinching at me in the corner of my heart. Even so, I hated my mother who was crying out of her one eye. So I told myself that I would grow up and become successful. Because I hated my one-eyed mom and our desperate poverty… then I studied real hard. I left my mother and came to Seoul and studied, and got accepted in the Seoul University with all the confidence I had. Then, I got married. I bought a house of my own. Then I had kids, too… now I’m living happily as a successful man. I like it here because it’s a place that doesn’t remind me of my mom. This happiness was getting bigger and bigger, when… what?! Who’s this…it was my mother… still with her one eye. It felt as if the whole sky was falling apart on me. My little girl ran away, scared of my mom’s eye. And I asked her, “who are you? !” “I don’t know you!! !” as if trying to make that real. I screamed at her, “How dare you come to my house and scare my daughter!” “GET OUT OF HERE! NOW!! !” and to this, my mother quietly answered, “oh, I’m so sorry. I may have gotten the wrong address,” and she disappeared out of sight. Thank goodness… she doesn’t recognize me… I was quite relieved. I told myself that I wasn’t going to care, or think about this for the rest of my life. Then a wave of relief came upon me… One day, a letter regarding a school reunion came to my house. So, lying to my wife that I was going on a business trip, I went. After the reunion, I went down to the old shack, that I used to call a house… just out of curiosity there, I found my mother fallen on the cold ground. But I did not shed a single tear. She had a piece of paper in her hand…. it was a letter to me. My son… I think my life has been long enough now… And… I won’t visit Seoul anymore… but would it be too much to ask if I wanted you to come visit me once in a while? I miss you so much… and I was so glad when I heard you were coming for the reunion. But I decided not to go to the school. …for you… and I’m sorry that I only have one eye, and I was an embarrassment for you. You see, when you were very little, you got into an accident, and lost your eye. as a mom, I couldn’t stand watching you having to grow up with only one eye… so I gave you mine… I was so proud of my son that was seeing a whole new world for me, in my place, with that eye. I was never upset at you for anything you did… the couple times that you were angry with me, I thought to myself, ‘it’s because he loves me…’ my son. Oh, my son… I don’t want you to cry for me, because of my death. My son, I love you my son, I love you so much. With all modern medical technology, transplantation of the eyeball is still impossible. The optic nerve isn’t an ordinary nerve, but instead an inset running from the brain. Modern medicine isn’t able to “connect” an eyeball back to brain after an optic nerve has been severed, let alone transplant the eye from a different person. (The only exception is the cornea, the transparent part in front of the eye: corneas are transplanted to replace injured and opaque ones.) We won’t try to comment on whether any surgeon would accept an eye from a living donor for transplant into another — we’ll leave that to others who are far more knowledgeable about medical ethics and transplant procedures. But we will note that the plot device of a mother’s dramatic sacrifice for the sake of her child’s being revealed in a written communication delivered after her demise appears in another legend about maternal love: the 2008 tale about a woman who left a touching message on her cell phone even as life ebbed from her as she used her body to shield the tot during an earthquake. Giving up one’s own life for a loved one is central to a 2005 urban legend about a boy on a motorcycle who has his girlfriend hug him one last time and put on his helmet just before the crash that kills him and spares her. Returning to the “notes from the dead” theme is the 1995 story about a son who discovers only through a posthumous letter from his mother what their occasional dinner “dates” had meant to her. Another legend we’re familiar with features a meme used in the one-eyed mother story (the coming to light of the enduring love of the person who died for the completely unworthy person she’d lavished it on), but that one involves a terminally ill woman and her cheating husband. In it, an about-to-be-spurned wife begs the adulterous hoon she’d married to stick around for another 30 days and to carry her over the threshold of their home once every day of that month as her way of keeping him around long enough for her to kick the bucket and thus spare their son the knowledge that his parents were on the verge of divorce.\\nsources: \\nlabel: false\", metadata={'source': 'A mother revealed to her child in a letter after her death that she had just one eye because she had donated the other to him.', 'row': 0})"
            ]
          },
          "metadata": {},
          "execution_count": 11
        }
      ]
    },
    {
      "cell_type": "code",
      "source": [
        "print(docs[0].page_content)"
      ],
      "metadata": {
        "colab": {
          "base_uri": "https://localhost:8080/"
        },
        "id": "SYBOOjU18psd",
        "outputId": "1bb4a843-9cfa-4d4b-89bc-1b1c8aee6c54"
      },
      "execution_count": null,
      "outputs": [
        {
          "output_type": "stream",
          "name": "stdout",
          "text": [
            "claim: A mother revealed to her child in a letter after her death that she had just one eye because she had donated the other to him.\n",
            "main_text: In April 2005, we spotted a tearjerker on the Internet about a mother who gave up one of her eyes to a son who had lost one of his at an early age. By February 2007 the item was circulating in e-mail in the following shortened version:  My mom only had one eye. I hated her… She was such an embarrassment. She cooked for students and teachers to support the family. There was this one day during elementary school where my mom came to say hello to me. I was so embarrassed. How could she do this to me? I ignored her, threw her a hateful look and ran out. The next day at school one of my classmates said, “EEEE, your mom only has one eye!” I wanted to bury myself. I also wanted my mom to just disappear. I confronted her that day and said, “If you’re only gonna make me a laughing stock, why don’t you just die?” My mom did not respond… I didn’t even stop to think for a second about what I had said, because I was full of anger. I was oblivious to her feelings. I wanted out of that house, and have nothing to do with her. So I studied real hard, got a chance to go abroad to study. Then, I got married. I bought a house of my own. I had kids of my own. I was happy with my life, my kids and the comforts. Then one day, my Mother came to visit me. She hadn’t seen me in years and she didn’t even meet her grandchildren. When she stood by the door, my children laughed at her, and I yelled at her for coming over uninvited. I screamed at her, “How dare you come to my house and scare my children! GET OUT OF HERE! NOW!! !” And to this, my mother quietly answered, “Oh, I’m so sorry. I may have gotten the wrong address,” and she disappeared out of sight. One day, a letter regarding a school reunion came to my house. So I lied to my wife that I was going on a business trip. After the reunion, I went to the old shack just out of curiosity. My neighbors said that she died. I did not shed a single tear. They handed me a letter that she had wanted me to have. My dearest son, I think of you all the time. I’m sorry that I came to your house and scared your children. I was so glad when I heard you were coming for the reunion. But I may not be able to even get out of bed to see you. I’m sorry that I was a constant embarrassment to you when you were growing up. You see……..when you were very little, you got into an accident, and lost your eye. As a mother, I couldn’t stand watching you having to grow up with one eye. So I gave you mine. I was so proud of my son who was seeing a whole new world for me, in my place, with that eye. With all my love to you, Your mother. In its earlier incarnation, the story identified by implication its location as Korea through statements made by both the mother and the son (the son’s “I left my mother and came to Seoul” and the mother’s “I won’t visit Seoul anymore”). It also supplied a reason for the son’s behavior when his mother arrived unexpectedly to visit him (“My little girl ran away, scared of my mom’s eye” and “I screamed at her, ‘How dare you come to my house and scare my daughter!'”). A further twist was provided in the original: rather than gaining the news of his mother’s death from neighbors (who hand him her letter), the son instead discovered the woman who bore him lying dead on the floor of what used to be his childhood home, her missive to him clutched in her lifeless hand: Give your parents roses while they are alive, not deadMY mom only had one eye. I hated her … she was such an embarrassment. My mom ran a small shop at a flea market. She collected little weeds and such to sell … anything for the money we needed she was such an embarrassment. There was this one day during elementary school … It was field day, and my mom came. I was so embarrassed. How could she do this to me? I threw her a hateful look and ran out. The next day at school … “your mom only has one eye?!? !” … And they taunted me. I wished that my mom would just disappear from this world so I said to my mom, “mom … Why don’t you have the other eye?! If you’re only going to make me a laughingstock, why don’t you just die?!! !” my mom did not respond … I guess I felt a little bad, but at the same time, it felt good to think that I had said what I’d wanted to say all this time… maybe it was because my mom hadn’t punished me, but I didn’t think that I had hurt her feelings very badly. That night… I woke up, and went to the kitchen to get a glass of water. My mom was crying there, so quietly, as if she was afraid that she might wake me. I took a look at her, and then turned away. Because of the thing I had said to her earlier, there was something pinching at me in the corner of my heart. Even so, I hated my mother who was crying out of her one eye. So I told myself that I would grow up and become successful. Because I hated my one-eyed mom and our desperate poverty… then I studied real hard. I left my mother and came to Seoul and studied, and got accepted in the Seoul University with all the confidence I had. Then, I got married. I bought a house of my own. Then I had kids, too… now I’m living happily as a successful man. I like it here because it’s a place that doesn’t remind me of my mom. This happiness was getting bigger and bigger, when… what?! Who’s this…it was my mother… still with her one eye. It felt as if the whole sky was falling apart on me. My little girl ran away, scared of my mom’s eye. And I asked her, “who are you? !” “I don’t know you!! !” as if trying to make that real. I screamed at her, “How dare you come to my house and scare my daughter!” “GET OUT OF HERE! NOW!! !” and to this, my mother quietly answered, “oh, I’m so sorry. I may have gotten the wrong address,” and she disappeared out of sight. Thank goodness… she doesn’t recognize me… I was quite relieved. I told myself that I wasn’t going to care, or think about this for the rest of my life. Then a wave of relief came upon me… One day, a letter regarding a school reunion came to my house. So, lying to my wife that I was going on a business trip, I went. After the reunion, I went down to the old shack, that I used to call a house… just out of curiosity there, I found my mother fallen on the cold ground. But I did not shed a single tear. She had a piece of paper in her hand…. it was a letter to me. My son… I think my life has been long enough now… And… I won’t visit Seoul anymore… but would it be too much to ask if I wanted you to come visit me once in a while? I miss you so much… and I was so glad when I heard you were coming for the reunion. But I decided not to go to the school. …for you… and I’m sorry that I only have one eye, and I was an embarrassment for you. You see, when you were very little, you got into an accident, and lost your eye. as a mom, I couldn’t stand watching you having to grow up with only one eye… so I gave you mine… I was so proud of my son that was seeing a whole new world for me, in my place, with that eye. I was never upset at you for anything you did… the couple times that you were angry with me, I thought to myself, ‘it’s because he loves me…’ my son. Oh, my son… I don’t want you to cry for me, because of my death. My son, I love you my son, I love you so much. With all modern medical technology, transplantation of the eyeball is still impossible. The optic nerve isn’t an ordinary nerve, but instead an inset running from the brain. Modern medicine isn’t able to “connect” an eyeball back to brain after an optic nerve has been severed, let alone transplant the eye from a different person. (The only exception is the cornea, the transparent part in front of the eye: corneas are transplanted to replace injured and opaque ones.) We won’t try to comment on whether any surgeon would accept an eye from a living donor for transplant into another — we’ll leave that to others who are far more knowledgeable about medical ethics and transplant procedures. But we will note that the plot device of a mother’s dramatic sacrifice for the sake of her child’s being revealed in a written communication delivered after her demise appears in another legend about maternal love: the 2008 tale about a woman who left a touching message on her cell phone even as life ebbed from her as she used her body to shield the tot during an earthquake. Giving up one’s own life for a loved one is central to a 2005 urban legend about a boy on a motorcycle who has his girlfriend hug him one last time and put on his helmet just before the crash that kills him and spares her. Returning to the “notes from the dead” theme is the 1995 story about a son who discovers only through a posthumous letter from his mother what their occasional dinner “dates” had meant to her. Another legend we’re familiar with features a meme used in the one-eyed mother story (the coming to light of the enduring love of the person who died for the completely unworthy person she’d lavished it on), but that one involves a terminally ill woman and her cheating husband. In it, an about-to-be-spurned wife begs the adulterous hoon she’d married to stick around for another 30 days and to carry her over the threshold of their home once every day of that month as her way of keeping him around long enough for her to kick the bucket and thus spare their son the knowledge that his parents were on the verge of divorce.\n",
            "sources: \n",
            "label: false\n"
          ]
        }
      ]
    },
    {
      "cell_type": "code",
      "source": [
        "len(docs[0].page_content)"
      ],
      "metadata": {
        "colab": {
          "base_uri": "https://localhost:8080/"
        },
        "id": "D5FV2V968sLo",
        "outputId": "6d7b8404-1652-4a00-cd7f-8d03ca6e66aa"
      },
      "execution_count": null,
      "outputs": [
        {
          "output_type": "execute_result",
          "data": {
            "text/plain": [
              "9453"
            ]
          },
          "metadata": {},
          "execution_count": 79
        }
      ]
    },
    {
      "cell_type": "markdown",
      "source": [
        "**Indexing**"
      ],
      "metadata": {
        "id": "MtD49oxzpDgk"
      }
    },
    {
      "cell_type": "code",
      "source": [
        "import os\n",
        "from langchain_text_splitters import RecursiveCharacterTextSplitter\n",
        "from langchain_community.vectorstores import Chroma\n",
        "from langchain_community.embeddings import SentenceTransformerEmbeddings\n",
        "from langchain_core.output_parsers import StrOutputParser\n",
        "from langchain_core.runnables import RunnablePassthrough\n",
        "\n",
        "from langchain import hub\n",
        "from langchain_core.prompts import PromptTemplate\n",
        "import time\n",
        "import textwrap"
      ],
      "metadata": {
        "id": "CudTJLcPpDEy"
      },
      "execution_count": null,
      "outputs": []
    },
    {
      "cell_type": "code",
      "source": [
        "from langchain.text_splitter import RecursiveCharacterTextSplitter\n",
        "\n",
        "text_splitter = RecursiveCharacterTextSplitter(chunk_size = 2000, chunk_overlap=200)\n",
        "all_splits = text_splitter.split_documents(docs)\n"
      ],
      "metadata": {
        "id": "d2kCRHdrwceh"
      },
      "execution_count": null,
      "outputs": []
    },
    {
      "cell_type": "code",
      "source": [
        "list_len = sum(1 for i in all_splits)"
      ],
      "metadata": {
        "id": "a0yXpR4d3EXn"
      },
      "execution_count": null,
      "outputs": []
    },
    {
      "cell_type": "code",
      "source": [
        "\n",
        "print(\"Length of list using length_hint() is : \" + str(list_len))"
      ],
      "metadata": {
        "colab": {
          "base_uri": "https://localhost:8080/"
        },
        "id": "rcFDujyx3VRl",
        "outputId": "48bb1fc0-099b-4863-ba44-626c6072c34a"
      },
      "execution_count": null,
      "outputs": [
        {
          "output_type": "stream",
          "name": "stdout",
          "text": [
            "Length of list using length_hint() is : 56564\n"
          ]
        }
      ]
    },
    {
      "cell_type": "code",
      "source": [
        "print(all_splits[0])"
      ],
      "metadata": {
        "colab": {
          "base_uri": "https://localhost:8080/"
        },
        "id": "Zs6fujAKr7wt",
        "outputId": "ce1d1977-fd9f-4186-cb82-3aa8cb2ed962"
      },
      "execution_count": null,
      "outputs": [
        {
          "output_type": "stream",
          "name": "stdout",
          "text": [
            "page_content='claim: A mother revealed to her child in a letter after her death that she had just one eye because she had donated the other to him.' metadata={'source': 'A mother revealed to her child in a letter after her death that she had just one eye because she had donated the other to him.', 'row': 0}\n"
          ]
        }
      ]
    },
    {
      "cell_type": "code",
      "source": [
        "print((all_splits[7]))"
      ],
      "metadata": {
        "colab": {
          "base_uri": "https://localhost:8080/"
        },
        "id": "Ph0irZfh03nw",
        "outputId": "0dbd032f-fd72-47c7-a55a-c83b1c096eb4"
      },
      "execution_count": null,
      "outputs": [
        {
          "output_type": "stream",
          "name": "stdout",
          "text": [
            "page_content='sources: \\nlabel: false' metadata={'source': 'A mother revealed to her child in a letter after her death that she had just one eye because she had donated the other to him.', 'row': 0}\n"
          ]
        }
      ]
    },
    {
      "cell_type": "code",
      "source": [
        "print(all_splits[12])"
      ],
      "metadata": {
        "colab": {
          "base_uri": "https://localhost:8080/"
        },
        "id": "fB9_UGeW9KK-",
        "outputId": "a6e65af8-6b11-40ed-8a5a-043dd39960d0"
      },
      "execution_count": null,
      "outputs": [
        {
          "output_type": "stream",
          "name": "stdout",
          "text": [
            "page_content='claim: Viral image Says 80% of novel coronavirus cases are \"mild.' metadata={'source': 'Viral image Says 80% of novel coronavirus cases are \"mild.', 'row': 2}\n"
          ]
        }
      ]
    },
    {
      "cell_type": "code",
      "source": [
        "embeddings = SentenceTransformerEmbeddings(model_name=\"all-MiniLM-L6-v2\")"
      ],
      "metadata": {
        "colab": {
          "base_uri": "https://localhost:8080/",
          "height": 369,
          "referenced_widgets": [
            "b03d47a519e0486cb2292bd19d8d6d79",
            "e116d3a4041f4cd8ae2a5f442c413832",
            "31f95445b9b64ff6bac5250b652d4d0d",
            "98362006476c4e63a4953f726e64d848",
            "f92d1e1753d14a7d8ba834d662d1867e",
            "349a1aa5451f453db81cec26462b2734",
            "2c5c1af5ae3647739402c073aa6b71a3",
            "5bf54bb574734cb3886c6ec383e13783",
            "4c8b86efddba4682b55c4b8cdef3504d",
            "361e676c4fa84556a4e27c6413aaadbe",
            "7ac007938d804a518c067950701b14fc",
            "4e59d7604afc46e99b2ca4b9840bc5a2",
            "ca2168dfda874568a4164cab6ab67190",
            "1fc65b51d97840f8b4c6c4d412953b2e",
            "94128263fbe442faabcf21f0c83d4d02",
            "f75dba2ffe2f434fa44aa894f9a8ec29",
            "f65c68a0a3064853b844d0a06d23064e",
            "f23d791f991a4cf4ba475ba105086d5a",
            "aa0e2eceddf24aa6bebd5c5a0cbdd6c5",
            "265a0d92f77c4f49877cfba09cc43497",
            "ca39734f08e9405aa5611d8048e84975",
            "504178f6059643e4a23ee3178b691ed5",
            "18cc700afeff46d1b8dbf350b46f4df8",
            "b407128bb96d46c99b5517bde67a5024",
            "3cb789933df64236b0ef744ee6a6e8d6",
            "51338b7505bc4a919071ffda71ce6386",
            "5e704cded3544f9a95b5fdb523e9fb89",
            "b31d633b8ab8430dbad9aa3613107061",
            "685cc5cc66b1474d8ca1ba2aec2d77cb",
            "3920d28d82cb4a8aba1c381f9ae8d163",
            "338d1383afc641ffaf37c3ff9543ca9b",
            "a0b708b5b2fc48aaa355eaf4e1dd753d",
            "c3668c1a0d8d470ebd5460964b355977",
            "ed94c7c23ce34a3a9f93ae876ea1ec9b",
            "a830ec2843d04ad98d2ff7d7a09dc8f5",
            "0c49097406a749eba553934397c0c11a",
            "40f877ece25745e1b5b4eca46c9d5661",
            "c7dc895430934e339ffe8e7c2b652b97",
            "a7d845132ca74454a04388d9b8b0c2a5",
            "0fa93c1063e94e8ca6a96de8b70df115",
            "b57b7e8c561d49c7a5cce0614e165ea5",
            "74cd4c52fa1d45eab68ba9bebbc84284",
            "a128ee4009d0424088627fa0941a4d7b",
            "90b4912edf15489dbc8d76cbb4ce1f4c",
            "18f72e30d53a436aa732add8c0b6120c",
            "5816e391210c4ef29d4f603597a60d86",
            "c3f2667ac9004e8b9065f24a13a73bfc",
            "e1e3730cd99c4634a2acf3291703de7c",
            "40f1270e7c294eedb607a95890f338c5",
            "0070d4875c904b069056d665f3eaa2a0",
            "c366199bbdca49a6bcd5e40501af0ec4",
            "ba54e6ab552747bc975170ba74d114ec",
            "15fa7e477f364b8ebecf6679e7faaa1e",
            "f80f3f3dfa1b4f3fb4a0760b75ec74ac",
            "4e2e51f92fcd450ea3cbba5700cd8efb",
            "2c4f79e064ca4c619f6e36dc56084669",
            "48a451bc02c1437e8146a919b98db798",
            "5b6c4d065fdf451bb9efa4892cad76e1",
            "a3e748bc18944546addda85677be592e",
            "f0976635a50f48ada1ce6a9976508f5f",
            "9fd44351bf224dafbcb425ea28415962",
            "d790634d72a242c7a7e873276b04fc78",
            "3b3b8be3ba704efabe83f5aae39e5815",
            "68138310c16a45d1811ac0101e3c1687",
            "375a96533dfd4f049157b8bcff3db029",
            "fb76e3159bd74480a68ddb36ca15df35",
            "8a0d5d6d72434c23b85623af4a9639ea",
            "ebf674e31ada4075b03ae940691f1968",
            "0ef9a6518d594f30984be279a8cc86c0",
            "2a0e4eb6af214e6d80e80024eaf7844d",
            "77f3d54e7e9c4f379584cbbce6231a72",
            "8c41921062454fb187c4d8ca931eb19e",
            "9dd2adaa38fa4589af76188e16f89315",
            "dc956ee6e716403386505a8fc1402c1d",
            "83ec9f8a4ffb4ccd835d6f39e9d5b628",
            "1838ccf6092c45b2a8ddc49907dd8c50",
            "0ee3d8c49fbc437c84c768b10ba64288",
            "a53877c162744015b763cb643410fd45",
            "b678491844454b8dadb0c8d0e4a33af2",
            "6c45139ee8944bd4b63a075766d0e32e",
            "7abdcb6bed554bed877cc0c8f364bdc2",
            "bcd5e3d815fb4136bbe09ff7817a8010",
            "5f731a92d472441cb9845c0b291cdc9a",
            "1af26810199442268d8b3ccc5d5e023b",
            "69e2bcb7a3364c6690b5f0e75e1a5d23",
            "06db9e9b94d54301b52ceb30f23ce5a3",
            "034dc741861b4ab687322ec731360dc8",
            "631e9547c5f04bcfae67852013c24ae9",
            "8f874092413749f9b018a5286f92e01b",
            "442c476aa5b642e4857c9721bb043d02",
            "5a5f577b9a5d4516afd1890ea9d3b61b",
            "1c6b1f5c8d574a4f95680a3d81767504",
            "c327d42cd47e44d8a352c0aaf387e960",
            "8e754d456bb94e3085cd5453cc9795ce",
            "79cf084044ae4e47a78ea417ee03df39",
            "3ee7c746d1894acebf07ccfed34b3774",
            "c60a781c756249b2b22fdcaa361ff0f8",
            "1ebc66a29c774d9caa54e35abff89d3b",
            "ed225c9264ed41aa9eb206bba65ca568",
            "76e042ce4d3a48c4873bc6b43fea7b6f",
            "835916a6ce7d4876a82817640e9bfc97",
            "9c3bffa22c58464a9a8003b0ae6dedfd",
            "8c5c9202589c46ec885a8bdc665f0dff",
            "83af002ed7774377ae0850a6b8d03ed9",
            "573741db26d8469f904bcba4f9951d34",
            "4862e97310e74aceac01718a403fe109",
            "e5cb7bb4d26841a8bec98d7e8747df61",
            "168483baf011424fb740e10dae49f265",
            "d512a119fa4a41ec900fa74df1de1f85",
            "d137ad24eedc4459b7f3f7b511a9b835",
            "887e00cee8104f07ae63cde84279a697",
            "f5dfbe82a6f74d30b6ec550c7c06ddcc",
            "50f2123d77f241dcb9ec2c92d4997f4d",
            "fe177f782cfb48508a2257302299d8ed",
            "219d2535006246c8a4f2568a12b0176c",
            "27b18228f75546dc8ced9e68bb967816",
            "f30b8e4b358343a2a81e8ae8c84ce8d5",
            "1b8a9f50e7364db89b967efbd79672b6",
            "034c03f62c054560ab5bba401cbeef12",
            "3071f9a260d84237a170c2838b453be4",
            "16057378498c411a99ba9d4efcde2346"
          ]
        },
        "id": "mtYcZJ43xIy7",
        "outputId": "a780a8c0-560a-49c9-86b7-e9f0fffa9d47"
      },
      "execution_count": null,
      "outputs": [
        {
          "output_type": "display_data",
          "data": {
            "text/plain": [
              "modules.json:   0%|          | 0.00/349 [00:00<?, ?B/s]"
            ],
            "application/vnd.jupyter.widget-view+json": {
              "version_major": 2,
              "version_minor": 0,
              "model_id": "b03d47a519e0486cb2292bd19d8d6d79"
            }
          },
          "metadata": {}
        },
        {
          "output_type": "display_data",
          "data": {
            "text/plain": [
              "config_sentence_transformers.json:   0%|          | 0.00/116 [00:00<?, ?B/s]"
            ],
            "application/vnd.jupyter.widget-view+json": {
              "version_major": 2,
              "version_minor": 0,
              "model_id": "4e59d7604afc46e99b2ca4b9840bc5a2"
            }
          },
          "metadata": {}
        },
        {
          "output_type": "display_data",
          "data": {
            "text/plain": [
              "README.md:   0%|          | 0.00/10.7k [00:00<?, ?B/s]"
            ],
            "application/vnd.jupyter.widget-view+json": {
              "version_major": 2,
              "version_minor": 0,
              "model_id": "18cc700afeff46d1b8dbf350b46f4df8"
            }
          },
          "metadata": {}
        },
        {
          "output_type": "display_data",
          "data": {
            "text/plain": [
              "sentence_bert_config.json:   0%|          | 0.00/53.0 [00:00<?, ?B/s]"
            ],
            "application/vnd.jupyter.widget-view+json": {
              "version_major": 2,
              "version_minor": 0,
              "model_id": "ed94c7c23ce34a3a9f93ae876ea1ec9b"
            }
          },
          "metadata": {}
        },
        {
          "output_type": "display_data",
          "data": {
            "text/plain": [
              "config.json:   0%|          | 0.00/612 [00:00<?, ?B/s]"
            ],
            "application/vnd.jupyter.widget-view+json": {
              "version_major": 2,
              "version_minor": 0,
              "model_id": "18f72e30d53a436aa732add8c0b6120c"
            }
          },
          "metadata": {}
        },
        {
          "output_type": "display_data",
          "data": {
            "text/plain": [
              "model.safetensors:   0%|          | 0.00/90.9M [00:00<?, ?B/s]"
            ],
            "application/vnd.jupyter.widget-view+json": {
              "version_major": 2,
              "version_minor": 0,
              "model_id": "2c4f79e064ca4c619f6e36dc56084669"
            }
          },
          "metadata": {}
        },
        {
          "output_type": "display_data",
          "data": {
            "text/plain": [
              "tokenizer_config.json:   0%|          | 0.00/350 [00:00<?, ?B/s]"
            ],
            "application/vnd.jupyter.widget-view+json": {
              "version_major": 2,
              "version_minor": 0,
              "model_id": "8a0d5d6d72434c23b85623af4a9639ea"
            }
          },
          "metadata": {}
        },
        {
          "output_type": "display_data",
          "data": {
            "text/plain": [
              "vocab.txt:   0%|          | 0.00/232k [00:00<?, ?B/s]"
            ],
            "application/vnd.jupyter.widget-view+json": {
              "version_major": 2,
              "version_minor": 0,
              "model_id": "a53877c162744015b763cb643410fd45"
            }
          },
          "metadata": {}
        },
        {
          "output_type": "display_data",
          "data": {
            "text/plain": [
              "tokenizer.json:   0%|          | 0.00/466k [00:00<?, ?B/s]"
            ],
            "application/vnd.jupyter.widget-view+json": {
              "version_major": 2,
              "version_minor": 0,
              "model_id": "8f874092413749f9b018a5286f92e01b"
            }
          },
          "metadata": {}
        },
        {
          "output_type": "display_data",
          "data": {
            "text/plain": [
              "special_tokens_map.json:   0%|          | 0.00/112 [00:00<?, ?B/s]"
            ],
            "application/vnd.jupyter.widget-view+json": {
              "version_major": 2,
              "version_minor": 0,
              "model_id": "76e042ce4d3a48c4873bc6b43fea7b6f"
            }
          },
          "metadata": {}
        },
        {
          "output_type": "display_data",
          "data": {
            "text/plain": [
              "1_Pooling/config.json:   0%|          | 0.00/190 [00:00<?, ?B/s]"
            ],
            "application/vnd.jupyter.widget-view+json": {
              "version_major": 2,
              "version_minor": 0,
              "model_id": "887e00cee8104f07ae63cde84279a697"
            }
          },
          "metadata": {}
        }
      ]
    },
    {
      "cell_type": "code",
      "source": [
        "#first time\n",
        "#vectorstore = Chroma.from_documents(documents=all_splits, embedding=embeddings, persist_directory=\"./chroma_db\")\n"
      ],
      "metadata": {
        "id": "zAQ6UJ1txkxT"
      },
      "execution_count": null,
      "outputs": []
    },
    {
      "cell_type": "code",
      "source": [
        "vectorstore = Chroma(persist_directory='/content/drive/MyDrive/Mini_project/chroma_db', embedding_function=embeddings)\n"
      ],
      "metadata": {
        "id": "zWeOtvl9zxGf"
      },
      "execution_count": null,
      "outputs": []
    },
    {
      "cell_type": "markdown",
      "source": [
        "**Storing db in drive**"
      ],
      "metadata": {
        "id": "K4wB-SS2zxw0"
      }
    },
    {
      "cell_type": "code",
      "source": [
        "from google.colab import files\n",
        "!cp '/content/chroma.db' \"/content/drive/MyDrive/Mini project/\""
      ],
      "metadata": {
        "colab": {
          "base_uri": "https://localhost:8080/"
        },
        "id": "7lEdb5jLsNgV",
        "outputId": "2437d6f4-48bf-4d81-dee2-9a7b64a667a1"
      },
      "execution_count": null,
      "outputs": [
        {
          "output_type": "stream",
          "name": "stdout",
          "text": [
            "cp: cannot stat '/content/chroma.db': No such file or directory\n"
          ]
        }
      ]
    },
    {
      "cell_type": "code",
      "source": [
        "%cd /content/chroma_db"
      ],
      "metadata": {
        "colab": {
          "base_uri": "https://localhost:8080/"
        },
        "id": "Yxqk4Qt7xRoo",
        "outputId": "ab77f23c-5a03-4186-ee8f-27a541504d9e"
      },
      "execution_count": null,
      "outputs": [
        {
          "output_type": "stream",
          "name": "stdout",
          "text": [
            "/content/chroma_db\n"
          ]
        }
      ]
    },
    {
      "cell_type": "code",
      "source": [
        "!zip -r chroma_db.zip /content/drive/MyDrive/Mini_project"
      ],
      "metadata": {
        "colab": {
          "base_uri": "https://localhost:8080/"
        },
        "id": "-Ac0qrsWxfeW",
        "outputId": "ed262ef4-79e5-4948-e3fd-3bf8c3545f53"
      },
      "execution_count": null,
      "outputs": [
        {
          "output_type": "stream",
          "name": "stdout",
          "text": [
            "  adding: content/drive/MyDrive/Mini_project/ (stored 0%)\n",
            "  adding: content/drive/MyDrive/Mini_project/test.tsv (deflated 63%)\n",
            "  adding: content/drive/MyDrive/Mini_project/dev.tsv (deflated 63%)\n",
            "  adding: content/drive/MyDrive/Mini_project/train.tsv (deflated 63%)\n",
            "  adding: content/drive/MyDrive/Mini_project/train_class.csv (deflated 64%)\n",
            "  adding: content/drive/MyDrive/Mini_project/val_class.csv (deflated 64%)\n",
            "  adding: content/drive/MyDrive/Mini_project/test_class.csv (deflated 54%)\n",
            "  adding: content/drive/MyDrive/Mini_project/runs/ (stored 0%)\n",
            "  adding: content/drive/MyDrive/Mini_project/runs/Mar22_17-51-58_e2082dfb7098/ (stored 0%)\n",
            "  adding: content/drive/MyDrive/Mini_project/runs/Mar22_17-51-58_e2082dfb7098/events.out.tfevents.1711129918.e2082dfb7098.6312.0 (deflated 79%)\n",
            "  adding: content/drive/MyDrive/Mini_project/runs/Mar22_17-51-58_e2082dfb7098/events.out.tfevents.1711131952.e2082dfb7098.6312.1 (deflated 61%)\n",
            "  adding: content/drive/MyDrive/Mini_project/runs/Mar22_19-40-20_2ef65afed23b/ (stored 0%)\n",
            "  adding: content/drive/MyDrive/Mini_project/runs/Mar22_19-40-20_2ef65afed23b/events.out.tfevents.1711136438.2ef65afed23b.12879.0 (deflated 61%)\n",
            "  adding: content/drive/MyDrive/Mini_project/runs/Mar22_19-49-41_2ef65afed23b/ (stored 0%)\n",
            "  adding: content/drive/MyDrive/Mini_project/runs/Mar22_19-49-41_2ef65afed23b/events.out.tfevents.1711137014.2ef65afed23b.12879.1 (deflated 61%)\n",
            "  adding: content/drive/MyDrive/Mini_project/runs/Mar22_19-49-41_2ef65afed23b/events.out.tfevents.1711138352.2ef65afed23b.12879.2 (deflated 61%)\n",
            "  adding: content/drive/MyDrive/Mini_project/runs/Mar22_19-49-41_2ef65afed23b/events.out.tfevents.1711138462.2ef65afed23b.12879.3 (deflated 61%)\n",
            "  adding: content/drive/MyDrive/Mini_project/runs/Mar22_19-49-41_2ef65afed23b/events.out.tfevents.1711139210.2ef65afed23b.12879.4 (deflated 61%)\n",
            "  adding: content/drive/MyDrive/Mini_project/runs/Mar22_19-49-41_2ef65afed23b/events.out.tfevents.1711139417.2ef65afed23b.12879.6 (deflated 61%)\n",
            "  adding: content/drive/MyDrive/Mini_project/runs/Mar22_19-49-41_2ef65afed23b/events.out.tfevents.1711139544.2ef65afed23b.12879.7 (deflated 61%)\n",
            "  adding: content/drive/MyDrive/Mini_project/runs/Mar22_19-49-41_2ef65afed23b/events.out.tfevents.1711139231.2ef65afed23b.12879.5 (deflated 61%)\n",
            "  adding: content/drive/MyDrive/Mini_project/runs/Mar22_22-06-00_2ef65afed23b/ (stored 0%)\n",
            "  adding: content/drive/MyDrive/Mini_project/runs/Mar22_22-06-00_2ef65afed23b/events.out.tfevents.1711145200.2ef65afed23b.12879.8 (deflated 61%)\n",
            "  adding: content/drive/MyDrive/Mini_project/runs/Mar23_08-11-21_16ac4b5da884/ (stored 0%)\n",
            "  adding: content/drive/MyDrive/Mini_project/runs/Mar23_08-11-21_16ac4b5da884/events.out.tfevents.1711181560.16ac4b5da884.3566.0 (deflated 61%)\n",
            "  adding: content/drive/MyDrive/Mini_project/runs/Mar23_08-11-21_16ac4b5da884/events.out.tfevents.1711181616.16ac4b5da884.3566.1 (deflated 61%)\n",
            "  adding: content/drive/MyDrive/Mini_project/runs/Mar23_08-16-46_16ac4b5da884/ (stored 0%)\n",
            "  adding: content/drive/MyDrive/Mini_project/runs/Mar23_08-16-46_16ac4b5da884/events.out.tfevents.1711181824.16ac4b5da884.3566.2 (deflated 61%)\n",
            "  adding: content/drive/MyDrive/Mini_project/runs/Mar23_08-16-46_16ac4b5da884/events.out.tfevents.1711182066.16ac4b5da884.3566.4 (deflated 61%)\n",
            "  adding: content/drive/MyDrive/Mini_project/runs/Mar23_08-16-46_16ac4b5da884/events.out.tfevents.1711182148.16ac4b5da884.3566.6 (deflated 61%)\n",
            "  adding: content/drive/MyDrive/Mini_project/runs/Mar23_08-16-46_16ac4b5da884/events.out.tfevents.1711181929.16ac4b5da884.3566.3 (deflated 61%)\n",
            "  adding: content/drive/MyDrive/Mini_project/runs/Mar23_08-16-46_16ac4b5da884/events.out.tfevents.1711182085.16ac4b5da884.3566.5 (deflated 61%)\n",
            "  adding: content/drive/MyDrive/Mini_project/runs/Mar23_09-22-09_16ac4b5da884/ (stored 0%)\n",
            "  adding: content/drive/MyDrive/Mini_project/runs/Mar23_09-22-09_16ac4b5da884/events.out.tfevents.1711185753.16ac4b5da884.3566.7 (deflated 9%)\n",
            "  adding: content/drive/MyDrive/Mini_project/runs/Mar23_09-30-50_9999aa7b0abd/ (stored 0%)\n",
            "  adding: content/drive/MyDrive/Mini_project/runs/Mar23_09-30-50_9999aa7b0abd/events.out.tfevents.1711186267.9999aa7b0abd.2207.0 (deflated 61%)\n",
            "  adding: content/drive/MyDrive/Mini_project/runs/Mar23_09-36-50_9999aa7b0abd/ (stored 0%)\n",
            "  adding: content/drive/MyDrive/Mini_project/runs/Mar23_09-36-50_9999aa7b0abd/events.out.tfevents.1711186623.9999aa7b0abd.2207.1 (deflated 79%)\n",
            "  adding: content/drive/MyDrive/Mini_project/runs/Mar23_09-43-11_9999aa7b0abd/ (stored 0%)\n",
            "  adding: content/drive/MyDrive/Mini_project/runs/Mar23_09-43-11_9999aa7b0abd/events.out.tfevents.1711187003.9999aa7b0abd.2207.2 (deflated 61%)\n",
            "  adding: content/drive/MyDrive/Mini_project/runs/Mar23_10-14-56_9999aa7b0abd/ (stored 0%)\n",
            "  adding: content/drive/MyDrive/Mini_project/runs/Mar23_10-14-56_9999aa7b0abd/events.out.tfevents.1711188913.9999aa7b0abd.2207.3 (deflated 61%)\n",
            "  adding: content/drive/MyDrive/Mini_project/runs/Mar23_10-19-00_9999aa7b0abd/ (stored 0%)\n",
            "  adding: content/drive/MyDrive/Mini_project/runs/Mar23_10-19-00_9999aa7b0abd/events.out.tfevents.1711189310.9999aa7b0abd.2207.5 (deflated 58%)\n",
            "  adding: content/drive/MyDrive/Mini_project/runs/Mar23_10-19-00_9999aa7b0abd/events.out.tfevents.1711189159.9999aa7b0abd.2207.4 (deflated 61%)\n",
            "  adding: content/drive/MyDrive/Mini_project/runs/Apr26_15-50-48_2595c03d0b34/ (stored 0%)\n",
            "  adding: content/drive/MyDrive/Mini_project/runs/Apr26_15-50-48_2595c03d0b34/events.out.tfevents.1714147175.2595c03d0b34.3247.0 (deflated 60%)\n",
            "  adding: content/drive/MyDrive/Mini_project/checkpoint-613/ (stored 0%)\n",
            "  adding: content/drive/MyDrive/Mini_project/checkpoint-613/config.json (deflated 52%)\n",
            "  adding: content/drive/MyDrive/Mini_project/checkpoint-613/model.safetensors (deflated 7%)\n",
            "  adding: content/drive/MyDrive/Mini_project/checkpoint-613/vocab.txt (deflated 52%)\n",
            "  adding: content/drive/MyDrive/Mini_project/checkpoint-613/tokenizer_config.json (deflated 74%)\n",
            "  adding: content/drive/MyDrive/Mini_project/checkpoint-613/tokenizer.json (deflated 71%)\n",
            "  adding: content/drive/MyDrive/Mini_project/checkpoint-613/training_args.bin (deflated 51%)\n",
            "  adding: content/drive/MyDrive/Mini_project/checkpoint-613/special_tokens_map.json (deflated 42%)\n",
            "  adding: content/drive/MyDrive/Mini_project/checkpoint-613/optimizer.pt (deflated 21%)\n",
            "  adding: content/drive/MyDrive/Mini_project/checkpoint-613/trainer_state.json (deflated 53%)\n",
            "  adding: content/drive/MyDrive/Mini_project/checkpoint-613/scheduler.pt (deflated 54%)\n",
            "  adding: content/drive/MyDrive/Mini_project/checkpoint-613/rng_state.pth (deflated 25%)\n",
            "  adding: content/drive/MyDrive/Mini_project/checkpoint-1226/ (stored 0%)\n",
            "  adding: content/drive/MyDrive/Mini_project/checkpoint-1226/config.json (deflated 52%)\n",
            "  adding: content/drive/MyDrive/Mini_project/checkpoint-1226/model.safetensors (deflated 7%)\n",
            "  adding: content/drive/MyDrive/Mini_project/checkpoint-1226/tokenizer_config.json (deflated 74%)\n",
            "  adding: content/drive/MyDrive/Mini_project/checkpoint-1226/special_tokens_map.json (deflated 42%)\n",
            "  adding: content/drive/MyDrive/Mini_project/checkpoint-1226/vocab.txt (deflated 52%)\n",
            "  adding: content/drive/MyDrive/Mini_project/checkpoint-1226/tokenizer.json (deflated 71%)\n",
            "  adding: content/drive/MyDrive/Mini_project/checkpoint-1226/training_args.bin (deflated 51%)\n",
            "  adding: content/drive/MyDrive/Mini_project/checkpoint-1226/optimizer.pt (deflated 21%)\n",
            "  adding: content/drive/MyDrive/Mini_project/checkpoint-1226/scheduler.pt (deflated 54%)\n",
            "  adding: content/drive/MyDrive/Mini_project/checkpoint-1226/rng_state.pth (deflated 25%)\n",
            "  adding: content/drive/MyDrive/Mini_project/checkpoint-1226/trainer_state.json (deflated 60%)\n",
            "  adding: content/drive/MyDrive/Mini_project/checkpoint-1839/ (stored 0%)\n",
            "  adding: content/drive/MyDrive/Mini_project/checkpoint-1839/config.json (deflated 52%)\n",
            "  adding: content/drive/MyDrive/Mini_project/checkpoint-1839/model.safetensors (deflated 7%)\n",
            "  adding: content/drive/MyDrive/Mini_project/checkpoint-1839/tokenizer_config.json (deflated 74%)\n",
            "  adding: content/drive/MyDrive/Mini_project/checkpoint-1839/special_tokens_map.json (deflated 42%)\n",
            "  adding: content/drive/MyDrive/Mini_project/checkpoint-1839/vocab.txt (deflated 52%)\n",
            "  adding: content/drive/MyDrive/Mini_project/checkpoint-1839/tokenizer.json (deflated 71%)\n",
            "  adding: content/drive/MyDrive/Mini_project/checkpoint-1839/training_args.bin (deflated 51%)\n",
            "  adding: content/drive/MyDrive/Mini_project/checkpoint-1839/optimizer.pt (deflated 21%)\n",
            "  adding: content/drive/MyDrive/Mini_project/checkpoint-1839/scheduler.pt (deflated 54%)\n",
            "  adding: content/drive/MyDrive/Mini_project/checkpoint-1839/rng_state.pth (deflated 25%)\n",
            "  adding: content/drive/MyDrive/Mini_project/checkpoint-1839/trainer_state.json (deflated 64%)\n",
            "  adding: content/drive/MyDrive/Mini_project/checkpoint-2452/ (stored 0%)\n",
            "  adding: content/drive/MyDrive/Mini_project/checkpoint-2452/config.json (deflated 52%)\n",
            "  adding: content/drive/MyDrive/Mini_project/checkpoint-2452/model.safetensors (deflated 7%)\n",
            "  adding: content/drive/MyDrive/Mini_project/checkpoint-2452/tokenizer_config.json (deflated 74%)\n",
            "  adding: content/drive/MyDrive/Mini_project/checkpoint-2452/special_tokens_map.json (deflated 42%)\n",
            "  adding: content/drive/MyDrive/Mini_project/checkpoint-2452/vocab.txt (deflated 52%)\n",
            "  adding: content/drive/MyDrive/Mini_project/checkpoint-2452/tokenizer.json (deflated 71%)\n",
            "  adding: content/drive/MyDrive/Mini_project/checkpoint-2452/training_args.bin (deflated 51%)\n",
            "  adding: content/drive/MyDrive/Mini_project/checkpoint-2452/optimizer.pt (deflated 21%)\n",
            "  adding: content/drive/MyDrive/Mini_project/checkpoint-2452/scheduler.pt (deflated 54%)\n",
            "  adding: content/drive/MyDrive/Mini_project/checkpoint-2452/rng_state.pth (deflated 25%)\n",
            "  adding: content/drive/MyDrive/Mini_project/checkpoint-2452/trainer_state.json (deflated 67%)\n",
            "  adding: content/drive/MyDrive/Mini_project/pubhealth/ (stored 0%)\n",
            "  adding: content/drive/MyDrive/Mini_project/pubhealth/dev.tsv (deflated 63%)\n",
            "  adding: content/drive/MyDrive/Mini_project/pubhealth/train.tsv (deflated 63%)\n",
            "  adding: content/drive/MyDrive/Mini_project/pubhealth/test.tsv (deflated 63%)\n",
            "  adding: content/drive/MyDrive/Mini_project/.ipynb_checkpoints/ (stored 0%)\n",
            "  adding: content/drive/MyDrive/Mini_project/combined_pubhealth.csv (deflated 63%)\n",
            "  adding: content/drive/MyDrive/Mini_project/pubdata_drop (deflated 62%)\n",
            "  adding: content/drive/MyDrive/Mini_project/pubdata_drop.csv (deflated 62%)\n",
            "  adding: content/drive/MyDrive/Mini_project/pubdata_cleaned.csv (deflated 62%)\n"
          ]
        }
      ]
    },
    {
      "cell_type": "code",
      "source": [
        "from google.colab import files\n",
        "files.download('chroma_db.zip')"
      ],
      "metadata": {
        "colab": {
          "base_uri": "https://localhost:8080/",
          "height": 34
        },
        "id": "C-DO-Edx0V1F",
        "outputId": "13ad43cd-91a7-4b55-a97e-9a0bbaa8fc3b"
      },
      "execution_count": null,
      "outputs": [
        {
          "output_type": "display_data",
          "data": {
            "text/plain": [
              "<IPython.core.display.Javascript object>"
            ],
            "application/javascript": [
              "\n",
              "    async function download(id, filename, size) {\n",
              "      if (!google.colab.kernel.accessAllowed) {\n",
              "        return;\n",
              "      }\n",
              "      const div = document.createElement('div');\n",
              "      const label = document.createElement('label');\n",
              "      label.textContent = `Downloading \"${filename}\": `;\n",
              "      div.appendChild(label);\n",
              "      const progress = document.createElement('progress');\n",
              "      progress.max = size;\n",
              "      div.appendChild(progress);\n",
              "      document.body.appendChild(div);\n",
              "\n",
              "      const buffers = [];\n",
              "      let downloaded = 0;\n",
              "\n",
              "      const channel = await google.colab.kernel.comms.open(id);\n",
              "      // Send a message to notify the kernel that we're ready.\n",
              "      channel.send({})\n",
              "\n",
              "      for await (const message of channel.messages) {\n",
              "        // Send a message to notify the kernel that we're ready.\n",
              "        channel.send({})\n",
              "        if (message.buffers) {\n",
              "          for (const buffer of message.buffers) {\n",
              "            buffers.push(buffer);\n",
              "            downloaded += buffer.byteLength;\n",
              "            progress.value = downloaded;\n",
              "          }\n",
              "        }\n",
              "      }\n",
              "      const blob = new Blob(buffers, {type: 'application/binary'});\n",
              "      const a = document.createElement('a');\n",
              "      a.href = window.URL.createObjectURL(blob);\n",
              "      a.download = filename;\n",
              "      div.appendChild(a);\n",
              "      a.click();\n",
              "      div.remove();\n",
              "    }\n",
              "  "
            ]
          },
          "metadata": {}
        },
        {
          "output_type": "display_data",
          "data": {
            "text/plain": [
              "<IPython.core.display.Javascript object>"
            ],
            "application/javascript": [
              "download(\"download_493d62b5-5115-4d4c-9560-6687cd4639c9\", \"chroma_db.zip\", 4578465333)"
            ]
          },
          "metadata": {}
        }
      ]
    },
    {
      "cell_type": "code",
      "source": [
        "# Download the file to your local machine\n",
        "from google.colab import files\n",
        "files.download(\"/content/chroma_db\")\n"
      ],
      "metadata": {
        "colab": {
          "base_uri": "https://localhost:8080/",
          "height": 34
        },
        "id": "kHXKp-SF2BQM",
        "outputId": "c3c7718d-08a6-44bd-e02f-f40ce2eba0f6"
      },
      "execution_count": null,
      "outputs": [
        {
          "output_type": "display_data",
          "data": {
            "text/plain": [
              "<IPython.core.display.Javascript object>"
            ],
            "application/javascript": [
              "\n",
              "    async function download(id, filename, size) {\n",
              "      if (!google.colab.kernel.accessAllowed) {\n",
              "        return;\n",
              "      }\n",
              "      const div = document.createElement('div');\n",
              "      const label = document.createElement('label');\n",
              "      label.textContent = `Downloading \"${filename}\": `;\n",
              "      div.appendChild(label);\n",
              "      const progress = document.createElement('progress');\n",
              "      progress.max = size;\n",
              "      div.appendChild(progress);\n",
              "      document.body.appendChild(div);\n",
              "\n",
              "      const buffers = [];\n",
              "      let downloaded = 0;\n",
              "\n",
              "      const channel = await google.colab.kernel.comms.open(id);\n",
              "      // Send a message to notify the kernel that we're ready.\n",
              "      channel.send({})\n",
              "\n",
              "      for await (const message of channel.messages) {\n",
              "        // Send a message to notify the kernel that we're ready.\n",
              "        channel.send({})\n",
              "        if (message.buffers) {\n",
              "          for (const buffer of message.buffers) {\n",
              "            buffers.push(buffer);\n",
              "            downloaded += buffer.byteLength;\n",
              "            progress.value = downloaded;\n",
              "          }\n",
              "        }\n",
              "      }\n",
              "      const blob = new Blob(buffers, {type: 'application/binary'});\n",
              "      const a = document.createElement('a');\n",
              "      a.href = window.URL.createObjectURL(blob);\n",
              "      a.download = filename;\n",
              "      div.appendChild(a);\n",
              "      a.click();\n",
              "      div.remove();\n",
              "    }\n",
              "  "
            ]
          },
          "metadata": {}
        },
        {
          "output_type": "display_data",
          "data": {
            "text/plain": [
              "<IPython.core.display.Javascript object>"
            ],
            "application/javascript": [
              "download(\"download_f448c6a5-2384-426a-bcec-cd035ec47f58\", \"chroma_db\", 4096)"
            ]
          },
          "metadata": {}
        }
      ]
    },
    {
      "cell_type": "code",
      "source": [
        "%cd /content/chroma_db"
      ],
      "metadata": {
        "colab": {
          "base_uri": "https://localhost:8080/"
        },
        "id": "FMsdMWwr3Ty4",
        "outputId": "b2a4a420-1c17-458b-c49c-1ac0e00d4bbb"
      },
      "execution_count": null,
      "outputs": [
        {
          "output_type": "stream",
          "name": "stdout",
          "text": [
            "/content/chroma_db\n"
          ]
        }
      ]
    },
    {
      "cell_type": "code",
      "source": [
        "%pwd"
      ],
      "metadata": {
        "colab": {
          "base_uri": "https://localhost:8080/",
          "height": 36
        },
        "id": "nQpdZoRG3l7w",
        "outputId": "55cb5ad4-586f-439c-b138-f30112df008d"
      },
      "execution_count": null,
      "outputs": [
        {
          "output_type": "execute_result",
          "data": {
            "text/plain": [
              "'/content/chroma_db'"
            ],
            "application/vnd.google.colaboratory.intrinsic+json": {
              "type": "string"
            }
          },
          "metadata": {},
          "execution_count": 32
        }
      ]
    },
    {
      "cell_type": "code",
      "source": [
        "%ls /content"
      ],
      "metadata": {
        "colab": {
          "base_uri": "https://localhost:8080/"
        },
        "id": "jP2KZ63L3ui_",
        "outputId": "6b615fec-1148-40bc-88af-f48e8960d0c5"
      },
      "execution_count": null,
      "outputs": [
        {
          "output_type": "stream",
          "name": "stdout",
          "text": [
            "\u001b[0m\u001b[01;34mchroma_db\u001b[0m/  \u001b[01;34mdrive\u001b[0m/  \u001b[01;34msample_data\u001b[0m/\n"
          ]
        }
      ]
    },
    {
      "cell_type": "code",
      "source": [
        "!cp -r /content/chroma_db /content/local_downloads/"
      ],
      "metadata": {
        "id": "xWtpI2WG3J3L"
      },
      "execution_count": null,
      "outputs": []
    },
    {
      "cell_type": "code",
      "source": [
        "!cp -r /content/chroma_db /content/drive/MyDrive/Mini_project/"
      ],
      "metadata": {
        "id": "WybtQ_nQ436R"
      },
      "execution_count": null,
      "outputs": []
    },
    {
      "cell_type": "code",
      "source": [
        "/content/chroma_db"
      ],
      "metadata": {
        "id": "0PwEKuTFzlmE"
      },
      "execution_count": null,
      "outputs": []
    },
    {
      "cell_type": "code",
      "source": [
        "#SentenceTransformer('sentence-transformers/all-mpnet-base-v2')\n",
        "#embeddings_mp = SentenceTransformerEmbeddings(model_name=\"all-mpnet-base-v2\")"
      ],
      "metadata": {
        "id": "FHRHAXjlyInt"
      },
      "execution_count": null,
      "outputs": []
    },
    {
      "cell_type": "code",
      "source": [
        "#vectorstore_mp = Chroma.from_documents(documents=all_splits, embedding=embeddings_mp, persist_directory=\"./chroma_db2\")"
      ],
      "metadata": {
        "id": "U2ZogG1TWr3O"
      },
      "execution_count": null,
      "outputs": []
    },
    {
      "cell_type": "markdown",
      "source": [
        "**Retriever**"
      ],
      "metadata": {
        "id": "t4v4qymI334m"
      }
    },
    {
      "cell_type": "code",
      "source": [
        "retriever = vectorstore.as_retriever(search_type=\"similarity\", search_kwargs={\"k\": 3})"
      ],
      "metadata": {
        "id": "o74enKHzQH6P"
      },
      "execution_count": null,
      "outputs": []
    },
    {
      "cell_type": "code",
      "source": [
        "def format_docs(docs):\n",
        "    return \"\\n\\n\".join(doc.page_content for doc in docs)"
      ],
      "metadata": {
        "id": "VhmpiAq8QMKF"
      },
      "execution_count": null,
      "outputs": []
    },
    {
      "cell_type": "code",
      "source": [
        "q_docs = retriever.invoke(\"Do vaccines cause Autism?\")\n",
        "len(q_docs)"
      ],
      "metadata": {
        "colab": {
          "base_uri": "https://localhost:8080/"
        },
        "id": "XV9UIEzN5l0H",
        "outputId": "4093efa7-d787-45de-cd14-557abab5c730"
      },
      "execution_count": null,
      "outputs": [
        {
          "output_type": "execute_result",
          "data": {
            "text/plain": [
              "3"
            ]
          },
          "metadata": {},
          "execution_count": 22
        }
      ]
    },
    {
      "cell_type": "code",
      "source": [
        "q_docs"
      ],
      "metadata": {
        "colab": {
          "base_uri": "https://localhost:8080/"
        },
        "id": "qajHYUCX46G6",
        "outputId": "8eaa6efb-a1f2-4505-b52f-3b946dcbb2d8"
      },
      "execution_count": null,
      "outputs": [
        {
          "output_type": "execute_result",
          "data": {
            "text/plain": [
              "[Document(page_content='increase in autism rates. A\\xa0pediatrician and specialist in infectious diseases said that any connection between vaccines (with or without thimerosal) and autism has been thoroughly dismissed through more than two dozen peer-reviewed studies.\"', metadata={'row': 2514, 'source': 'As the number of vaccines administered to children has increased in the United States, so has the autism rate.'}),\n",
              " Document(page_content='claim: Now it’s official: FDA announced that vaccines are causing autism.', metadata={'row': 7696, 'source': 'Now it’s official: FDA announced that vaccines are causing autism.'}),\n",
              " Document(page_content='claim: The FDA published “conclusive proof” that the DTaP vaccine causes autism in November 2017.\\nmain_text: The FDA hasn’t confirmed a link between DTaP vaccines and autism. That rumors stems from an old (and false) report that was re-reported as “breaking” news in November 2017. First, we’ll take a step back. DTaP is given to children younger than seven to prevent diphtheria, tetanus and pertussis. The Centers for Disease Control and Prevention (CDC) has repeatedly stated that there’s no link between vaccines and autism. However, rumors like this one repeatedly surface. They often rely on information that’s outdated or taken out of context. And claims that the FDA confirmed DTaP vaccines cause autism in November 2017 are no exception. Latest False Claim: FDA Announces DTaP Vaccine Causes Autism November 2017 rumors appear to circle back to the website, InShapeToday.com. The site published a report under the headline\\xa0“FDA announced that vaccines are causing autism,” that was widely shared on social media. A number of problems immediately emerge with that claim. First, it’s based on an information packet that was\\xa0released by vaccine maker Sanfofi Pasteur in 2005. So, it’s not exactly a “new” development or admission. In fact,\\xa0identical false claims circulated in April 2016. Events were included in this list because of the seriousness or frequency of reporting. Because these events are reported voluntarily from a population of uncertain size, it is not always possible to reliably estimate their frequencies or to establish a causal relationship to components of Tripedia vaccine. So, it’s clear that the FDA hasn’t confirmed that DTaP causes autism. That rumor is based on a 2005 drug packet that goes on to state that no “causal relationship” between autism and the vaccine has been found.', metadata={'row': 11034, 'source': ' The FDA published “conclusive proof” that the DTaP vaccine causes autism in November 2017. '})]"
            ]
          },
          "metadata": {},
          "execution_count": 23
        }
      ]
    },
    {
      "cell_type": "code",
      "source": [
        "q_docs = retriever.invoke(\"Drinking wine before bed causes one to lose weight\")\n",
        "len(q_docs)"
      ],
      "metadata": {
        "colab": {
          "base_uri": "https://localhost:8080/"
        },
        "id": "vaTLdIH76dY0",
        "outputId": "efe768c2-a966-49f0-ba7d-e0213f1b7787"
      },
      "execution_count": null,
      "outputs": [
        {
          "output_type": "execute_result",
          "data": {
            "text/plain": [
              "3"
            ]
          },
          "metadata": {},
          "execution_count": 110
        }
      ]
    },
    {
      "cell_type": "code",
      "source": [
        "q_docs"
      ],
      "metadata": {
        "colab": {
          "base_uri": "https://localhost:8080/"
        },
        "id": "pr0k9vNz6l1i",
        "outputId": "65e24ee8-02f1-4fa5-9d5f-41e8b07a40d5"
      },
      "execution_count": null,
      "outputs": [
        {
          "output_type": "execute_result",
          "data": {
            "text/plain": [
              "[Document(page_content='claim: \"Drinking wine before bed \"\"officially makes you skinny.\"', metadata={'row': 9348, 'source': '\"Drinking wine before bed \"\"officially makes you skinny.\"'}),\n",
              " Document(page_content='sources: http://www.ajc.com/news/lifestyles/health/wine-bedtime-snack-can-help-you-lose-weight-study-/nmD32/, http://www.reuters.com/article/us-wine-weight-idUSTRE62759S20100309, https://twitter.com/totalsratmove/status/700028036658438144, https://www.google.com/search?q=harvard+study+wine+weight+loss&oq=harvard+study+wine+weight+loss&aqs=chrome..69i57.4656j1j7&sourceid=chrome&es_sm=91&ie=UTF-8, http://www.dailymail.co.uk/femail/article-3075931/How-wine-help-lose-weight-defies-conventional-wisdom-women-insist-nightly-glass-red-keeps-slim-experts-say-right.html, http://www.hlntv.com/article/2015/09/15/study-wine-can-help-you-lose-weight, http://vinepair.com/booze-news/wine-as-a-bedtime-snack-helps-with-weight-loss/, http://archinte.jamanetwork.com/article.aspx?articleid=415737#COMMENT, http://radioalice.cbslocal.com/2015/05/21/study-says-drinking-wine-at-night-might-help-you-lose-weight/, http://archinte.jamanetwork.com/article.aspx?articleid=415737, https://t.co/e0KxIkkRrP, http://blog.lastbottlewines.com/health/drink-wine-lose-weight/\\nlabel: false', metadata={'row': 9348, 'source': '\"Drinking wine before bed \"\"officially makes you skinny.\"'}),\n",
              " Document(page_content='evidence came via a woman named Samantha, who explained how wine apparently helped her lose weight: An average day’s food is scrambled eggs for breakfast, chicken salad for lunch and chilli con carne without rice for dinner, accompanied by a good quality glass of red wine. ‘My weight had been creeping up to 10st 6lb, but I now weight 10st and I’m edging towards a size ten. Finally, the article claimed that a “13-year Harvard University study of 20,000 women found that those who drank half a bottle of wine a day had a 70 per cent reduced risk of obesity compared to non-drinkers,” but didn’t actually link to any specific study. We searched for the study in question. Most citations linked back to the Daily Mail assertion, with no information at all\\xa0about the purported studies. A worrying number of articles contained wording to the effect of “according to the Daily Mail” without any additional verification any such study existed. Given the number of mentions in 2015 (and into 2016), readers wouldn’t be at fault for believing recent research indicated that drinking wine equaled weight loss, according to Harvard. We finally located a Reuters article about such a study\\xa0from\\xa0March 2010, a full five years prior to the\\xa0Daily Mail‘s item. Titled “Wine may help women keep weight in check,” its claims were a bit less sensationalized: The new study, published in the latest issue of Archives of Internal Medicine, is the first to examine ties between alcohol consumption by a normal-weight individual and the risk of becoming overweight or obese. The women were all at least 39 years old when the study began. About 38 percent said they did not drink alcohol; 33 percent said they drank less than 5 grams daily (a standard drink has about 10 grams of alcohol); 20 percent drank 5 to less than 15 grams daily; 6 percent drank 15 to less than 30 grams daily; and 3 percent downed 30 grams of alcohol or more daily (about 2 to 3 drinks per day or more). Over an average of about 13 years, the', metadata={'row': 9348, 'source': '\"Drinking wine before bed \"\"officially makes you skinny.\"'})]"
            ]
          },
          "metadata": {},
          "execution_count": 111
        }
      ]
    },
    {
      "cell_type": "markdown",
      "source": [
        "****"
      ],
      "metadata": {
        "id": "bDDJSBvP6IoS"
      }
    },
    {
      "cell_type": "code",
      "source": [
        "!pip install -q langchain-groq"
      ],
      "metadata": {
        "colab": {
          "base_uri": "https://localhost:8080/"
        },
        "id": "ojszi_OL5n4P",
        "outputId": "8a6632ea-7c1b-49ef-d4e4-39c89fcd25d1"
      },
      "execution_count": null,
      "outputs": [
        {
          "output_type": "stream",
          "name": "stdout",
          "text": [
            "\u001b[2K     \u001b[90m━━━━━━━━━━━━━━━━━━━━━━━━━━━━━━━━━━━━━━━━\u001b[0m \u001b[32m75.0/75.0 kB\u001b[0m \u001b[31m2.6 MB/s\u001b[0m eta \u001b[36m0:00:00\u001b[0m\n",
            "\u001b[2K     \u001b[90m━━━━━━━━━━━━━━━━━━━━━━━━━━━━━━━━━━━━━━━━\u001b[0m \u001b[32m75.6/75.6 kB\u001b[0m \u001b[31m4.1 MB/s\u001b[0m eta \u001b[36m0:00:00\u001b[0m\n",
            "\u001b[2K     \u001b[90m━━━━━━━━━━━━━━━━━━━━━━━━━━━━━━━━━━━━━━━━\u001b[0m \u001b[32m77.9/77.9 kB\u001b[0m \u001b[31m4.2 MB/s\u001b[0m eta \u001b[36m0:00:00\u001b[0m\n",
            "\u001b[?25h"
          ]
        }
      ]
    },
    {
      "cell_type": "code",
      "source": [
        "groq_key = \"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\""
      ],
      "metadata": {
        "id": "23SOQaXlVura"
      },
      "execution_count": null,
      "outputs": []
    },
    {
      "cell_type": "code",
      "source": [
        "import os\n",
        "os.environ[\"GROQ_API_KEY\"] = groq_key"
      ],
      "metadata": {
        "id": "PdTcYe2H-zi9"
      },
      "execution_count": null,
      "outputs": []
    },
    {
      "cell_type": "code",
      "source": [
        "from langchain_groq import ChatGroq\n",
        "from langchain_core.prompts import PromptTemplate"
      ],
      "metadata": {
        "id": "om7nu2vQA5UU"
      },
      "execution_count": null,
      "outputs": []
    },
    {
      "cell_type": "code",
      "source": [
        "llm = ChatGroq(temperature=0, model_name=\"mixtral-8x7b-32768\")"
      ],
      "metadata": {
        "id": "T0uzCfhJBJ18"
      },
      "execution_count": null,
      "outputs": []
    },
    {
      "cell_type": "code",
      "source": [
        "template_1 = \"\"\"you are a chatbot whos task is fact verification of public health claims.\n",
        " When given a claim classify it according to varying degree of truthfulness as in true, false , mixture or unproven.\n",
        "  Explain in an understandable manner as to why the claim is classified as so stating the evidence based on the context provided to you.\n",
        "  Also, provide the evidence sources.Say thanks for asking at the end.\n",
        "\n",
        "{context}\n",
        "\n",
        "Question: {question}\n",
        "\n",
        "Helpful Answer:\"\"\"\n",
        "\n"
      ],
      "metadata": {
        "id": "EzM8Fp8jBNsG"
      },
      "execution_count": null,
      "outputs": []
    },
    {
      "cell_type": "code",
      "source": [
        "template_2 = \"\"\"you are a chatbot whos task is the fact verification of public health claims.\n",
        " When given a claim classify it according to varying degree of truthfulness as in true, false , mixture or unproven.The first line should state it's classification.\n",
        " Make sure the explanation is in regards to the claim.\n",
        "  Explain in a manner that the general audience can understand as to why the claim is classified as so based on the context provided to you and stating the evidence\n",
        "  Also, provide the evidence sources.Say thanks for asking at the end.\n",
        "\n",
        "{context}\n",
        "\n",
        "Question: {question}\n",
        "\n",
        "Helpful Answer:\"\"\"\n",
        "\n"
      ],
      "metadata": {
        "id": "u1IBDAzdWRdS"
      },
      "execution_count": null,
      "outputs": []
    },
    {
      "cell_type": "code",
      "source": [
        "custom_prompt_1 = PromptTemplate.from_template(template_1)"
      ],
      "metadata": {
        "id": "Z-xDqRVIVQfC"
      },
      "execution_count": null,
      "outputs": []
    },
    {
      "cell_type": "code",
      "source": [
        "custom_prompt_2 = PromptTemplate.from_template(template_2)"
      ],
      "metadata": {
        "id": "B8ChxOAiamML"
      },
      "execution_count": null,
      "outputs": []
    },
    {
      "cell_type": "code",
      "source": [
        "rag_chain_1 = (\n",
        "    {\"context\": retriever | format_docs, \"question\": RunnablePassthrough()}\n",
        "    | custom_prompt_1\n",
        "    | llm\n",
        "    | StrOutputParser()\n",
        ")"
      ],
      "metadata": {
        "id": "quoHfMARG0qF"
      },
      "execution_count": null,
      "outputs": []
    },
    {
      "cell_type": "code",
      "source": [
        "rag_chain_2 = (\n",
        "    {\"context\": retriever | format_docs, \"question\": RunnablePassthrough()}\n",
        "    | custom_prompt_2\n",
        "    | llm\n",
        "    | StrOutputParser()\n",
        ")"
      ],
      "metadata": {
        "id": "8_a5sIC_aqBr"
      },
      "execution_count": null,
      "outputs": []
    },
    {
      "cell_type": "code",
      "source": [
        "response = rag_chain_1.invoke(\"Vaccines cause autism\")\n",
        "print(textwrap.fill(response, width=80))"
      ],
      "metadata": {
        "colab": {
          "base_uri": "https://localhost:8080/"
        },
        "id": "wbuJrjqAVUsl",
        "outputId": "2b2cd6f6-1c8b-40eb-e8b0-a0aa4fed8f9f"
      },
      "execution_count": null,
      "outputs": [
        {
          "output_type": "stream",
          "name": "stdout",
          "text": [
            "The claim that the FDA published \"conclusive proof\" that the DTaP vaccine causes\n",
            "autism in November 2017 is false. The FDA has not confirmed a link between DTaP\n",
            "vaccines and autism. This rumor stems from an old and false report that was re-\n",
            "reported as \"breaking\" news in November 2017. The claim appears to circle back\n",
            "to the website InShapeToday.com, which published a report based on a 2005 drug\n",
            "packet from vaccine maker Sanofi Pasteur. However, this packet states that no\n",
            "\"causal relationship\" between autism and the vaccine has been found. The Centers\n",
            "for Disease Control and Prevention (CDC) has also repeatedly stated that there's\n",
            "no link between vaccines and autism.  Sources:  1. Centers for Disease Control\n",
            "and Prevention (CDC). (n.d.). Vaccines Do Not Cause Autism. Retrieved from\n",
            "<https://www.cdc.gov/vaccinesafety/concerns/autism.html> 2. Snopes. (2017,\n",
            "November 13). FDA Announces Vaccines Are Causing Autism. Retrieved from\n",
            "<https://www.snopes.com/fact-check/fda-announces-vaccines-are-causing-autism/>\n",
            "3. InShapeToday.com. (2017, November 10). FDA Announced That Vaccines Are\n",
            "Causing Autism. Retrieved from\n",
            "<https://web.archive.org/web/20171110163315/http://inshapetoday.com/fda-\n",
            "announced-vaccines-are-causing-autism/> 4. Sanofi Pasteur Inc. (2005). Tripedia®\n",
            "[Diphtheria and Tetanus Toxoids and Acellular Pertussis Adsorbed]. Retrieved\n",
            "from <https://www.fda.gov/media/75370/download>  Thanks for asking!\n"
          ]
        }
      ]
    },
    {
      "cell_type": "code",
      "source": [
        "\n",
        "\n",
        "response = rag_chain_1.invoke(\"Does drinking wine before bed help one lose weight?\")\n",
        "print(textwrap.fill(response, width=80))"
      ],
      "metadata": {
        "colab": {
          "base_uri": "https://localhost:8080/"
        },
        "id": "OSGD0-DucqeC",
        "outputId": "7af81adb-4fbd-406f-8e89-566571006225"
      },
      "execution_count": null,
      "outputs": [
        {
          "output_type": "stream",
          "name": "stdout",
          "text": [
            "The claim that \"Drinking wine before bed 'officially makes you skinny'\" is not\n",
            "accurate. Alcohol consumption, including wine, does not contribute to weight\n",
            "loss. In fact, it can lead to weight gain.   When you drink alcohol, your body\n",
            "metabolizes it before anything else. This means that it temporarily halts the\n",
            "breakdown of other calories, such as those from fat. Over time, this can lead to\n",
            "weight gain, especially if you're consuming more calories than you're burning.\n",
            "Moreover, alcohol can lower your inhibitions, causing you to eat more than you\n",
            "normally would. This can also contribute to weight gain.  In terms of wine\n",
            "specifically, it contains calories from alcohol and sometimes sugar, which can\n",
            "add to your daily caloric intake.  Here are the sources that back up this\n",
            "information:  1. Mayo Clinic. (2020). Alcohol and weight gain. Retrieved from\n",
            "https://www.mayoclinic.org/healthy-lifestyle/nutrition-and-healthy-\n",
            "eating/expert-answers/alcohol-and-weight-gain/faq-20058200 2. Centers for\n",
            "Disease Control and Prevention. (2021). Alcohol and Public Health. Retrieved\n",
            "from https://www.cdc.gov/alcohol/fact-sheets/alcohol-and-public-health.htm\n",
            "Thanks for asking!\n"
          ]
        }
      ]
    },
    {
      "cell_type": "code",
      "source": [
        "\n",
        "response = rag_chain_2.invoke(\"Green tea helps you lose weight\")\n",
        "print(textwrap.fill(response, width=80))\n"
      ],
      "metadata": {
        "colab": {
          "base_uri": "https://localhost:8080/"
        },
        "id": "3gTJ2DjUZHSs",
        "outputId": "8325d6b8-dafa-44ef-dd2c-ed022e792ef6"
      },
      "execution_count": null,
      "outputs": [
        {
          "output_type": "stream",
          "name": "stdout",
          "text": [
            "Classification: Mixture  Explanation: The claim that black tea may help with\n",
            "weight loss contains elements of truth, but it's not entirely accurate. While\n",
            "both black and green tea come from the same plant (Camellia sinensis), they\n",
            "differ in processing methods, which can affect their health benefits.  Regarding\n",
            "weight loss, both teas contain catechins and caffeine, which have been shown to\n",
            "boost metabolism and increase fat oxidation. However, most studies focus on\n",
            "green tea, and the evidence for black tea is less extensive.  A 2013 study\n",
            "published in the Journal of Nutrition found that green tea extract consumption,\n",
            "along with regular exercise, helped overweight adults lose more weight than\n",
            "those who only exercised. However, there is no conclusive evidence that black\n",
            "tea has the same effect on weight loss.  In conclusion, while both black and\n",
            "green tea may contribute to weight loss as part of a healthy lifestyle, it is\n",
            "more accurate to say that green tea has been more extensively studied and proven\n",
            "to aid in weight loss compared to black tea.  Evidence sources:  1. Hursel, R.,\n",
            "& Westerterp-Plantenga, M. S. (2013). Catechin- and caffeine-rich teas for\n",
            "control of body weight in humans. The American journal of clinical nutrition,\n",
            "98(6), 1682S-1693S. 2. Nagao, T., Hase, T., & Tokimitsu, I. (2007). A green tea\n",
            "extract high in catechins reduces body fat and cardiovascular risks in humans.\n",
            "Obesity (Silver Spring), 15(6), 1473-1483.  Thanks for asking!\n"
          ]
        }
      ]
    },
    {
      "cell_type": "code",
      "source": [
        "\n",
        "response = rag_chain_2.invoke(\"Does drinking wine before bed help one lose weight?\")\n",
        "print(textwrap.fill(response, width=80))"
      ],
      "metadata": {
        "colab": {
          "base_uri": "https://localhost:8080/"
        },
        "id": "WyumBidYc3Y2",
        "outputId": "594f931d-af91-4862-cda2-f7f41111e72d"
      },
      "execution_count": null,
      "outputs": [
        {
          "output_type": "stream",
          "name": "stdout",
          "text": [
            "False: Drinking wine before bed does not \"officially make you skinny.\"  While\n",
            "wine can be part of a healthy diet in moderation, it is not a tool for weight\n",
            "loss. Alcohol can actually contribute to weight gain. When you drink, your body\n",
            "temporarily stops burning fat to metabolize the alcohol. Additionally, alcohol\n",
            "can lower your inhibitions, causing you to eat more than you normally would.\n",
            "According to the National Institute on Alcohol Abuse and Alcoholism, \"There is\n",
            "nothing about alcohol that would make it a good way to lose weight.\"   Thank you\n",
            "for asking!  Source: National Institute on Alcohol Abuse and Alcoholism. (n.d.).\n",
            "Alcohol's effects on the body. Retrieved from https://www.niaaa.nih.gov/alcohol-\n",
            "health/alcohols-effects-body\n"
          ]
        }
      ]
    },
    {
      "cell_type": "code",
      "source": [
        "template_check = '''You are a highly knowledgeable and reliable chatbot for fact-verification of public health claims .\n",
        " When presented with a claim, you should evaluate its truthfulness based on the context and provide a detailed response structured as follows:\n",
        "1. Begin with a clear statement indicating whether the claim is true, false , mixture or unproven.(e.g., \"False.\", \"True.\").\n",
        "2. Provide a concise explanation regarding the validity or invalidity of the claim, citing relevant scientific evidence and authoritative sources.Only concentrate on the terms on the claim not anything else\n",
        "3. List the authoritative sources you referenced, including their URLs, in a bulleted or numbered format.\n",
        "4.If the claim is false or misleading, provide alternative accurate information on the subject matter.\n",
        "\n",
        "Your response should be factual, objective, and devoid of personal opinions or biases. Ensure that your explanations are clear, well-structured, and easy to understand for a general audience.Site all the sources at the end.\n",
        "\n",
        "{context}\n",
        "\n",
        "Question: {question}\n",
        "\n",
        "Helpful Answer:'''"
      ],
      "metadata": {
        "id": "TQnF_y_UVbX-"
      },
      "execution_count": null,
      "outputs": []
    },
    {
      "cell_type": "code",
      "source": [
        "custom_prompt_sent = PromptTemplate.from_template(template_check)"
      ],
      "metadata": {
        "id": "JbDG6F-2Xt1I"
      },
      "execution_count": null,
      "outputs": []
    },
    {
      "cell_type": "code",
      "source": [
        "rag_chain_sent = (\n",
        "    {\"context\": retriever | format_docs, \"question\": RunnablePassthrough()}\n",
        "    | custom_prompt_sent\n",
        "    | llm\n",
        "    | StrOutputParser()\n",
        ")"
      ],
      "metadata": {
        "id": "EJPXRXalX3f5"
      },
      "execution_count": null,
      "outputs": []
    },
    {
      "cell_type": "code",
      "source": [
        "response = rag_chain_sent.invoke(\"Vaccines cause autism\")\n",
        "print(textwrap.fill(response, width=80))"
      ],
      "metadata": {
        "colab": {
          "base_uri": "https://localhost:8080/"
        },
        "id": "7BmZF7v4X7T1",
        "outputId": "fdf92881-0cee-49d9-fab0-bf3f1caea532"
      },
      "execution_count": null,
      "outputs": [
        {
          "output_type": "stream",
          "name": "stdout",
          "text": [
            "False.  The claim that vaccines, including the DTaP vaccine, cause autism is not\n",
            "supported by the FDA or any credible scientific evidence. This misconception may\n",
            "stem from a 2005 drug packet released by Sanofi Pasteur, which mentioned that no\n",
            "\"causal relationship\" between autism and the vaccine had been found. However,\n",
            "this does not confirm a link between vaccines and autism.  The Centers for\n",
            "Disease Control and Prevention (CDC) has repeatedly stated that there is no link\n",
            "between vaccines and autism. Despite this, rumors continue to circulate, often\n",
            "relying on outdated or misconstrued information.  For more information, please\n",
            "refer to the following authoritative sources:  1. Centers for Disease Control\n",
            "and Prevention (CDC). (n.d.). Vaccines Do Not Cause Autism. Retrieved from\n",
            "https://www.cdc.gov/vaccinesafety/concerns/autism.html 2. National Center for\n",
            "Immunization and Respiratory Diseases (NCIRD). (2019, March 12). Vaccine Safety:\n",
            "The Facts. Retrieved from https://www.cdc.gov/vaccinesafety/index.html 3. World\n",
            "Health Organization (WHO). (2019, May 23). Vaccines and Autism. Retrieved from\n",
            "https://www.who.int/vaccine_safety/topics/vaccines_and_autism/en/ 4. Sifferlin,\n",
            "A. (2019, April 2). No, Vaccines Do Not Cause Autism. Here's the Research.\n",
            "Retrieved from https://time.com/5565332/vaccines-autism/ 5. American Academy of\n",
            "Pediatrics (AAP). (2019, March 1). Vaccines Do Not Cause Autism. Retrieved from\n",
            "https://www.healthychildren.org/English/safety-\n",
            "prevention/immunizations/Pages/Vaccines-Do-Not-Cause-Autism.aspx\n"
          ]
        }
      ]
    },
    {
      "cell_type": "code",
      "source": [
        "\n",
        "response = rag_chain_sent.invoke(\"Green tea helps you lose weight\")\n",
        "print(textwrap.fill(response, width=80))"
      ],
      "metadata": {
        "colab": {
          "base_uri": "https://localhost:8080/"
        },
        "id": "9YyhQEkLX-_X",
        "outputId": "e3101631-3a7c-4fe9-b200-a3dceb131904"
      },
      "execution_count": null,
      "outputs": [
        {
          "output_type": "stream",
          "name": "stdout",
          "text": [
            "Response:  1. Mixture. 2. The claim that black tea may help with weight loss\n",
            "contains some truth, but it's not as straightforward as the claim for green tea.\n",
            "Both black and green tea come from the same plant, Camellia sinensis, and\n",
            "contain bioactive compounds such as catechins and caffeine, which can slightly\n",
            "boost metabolism and increase fat oxidation. However, studies on black tea's\n",
            "impact on weight loss are limited compared to those on green tea. Green tea has\n",
            "been more extensively researched and shown to have a more significant effect on\n",
            "weight loss due to its higher catechin content. 3. Sources:    - Hursel, R., &\n",
            "Westerterp-Plantenga, M. S. (2009). Catechin- and caffeine-rich teas for control\n",
            "of body weight in humans. American journal of clinical nutrition, 90(6),\n",
            "1616-1622. [URL](https://academic.oup.com/ajcn/article/90/6/1616/4598008)    -\n",
            "Phung, O. J., Baker, W. L., Mattes, R. D., & Udani, J. (2010). Effect of green\n",
            "tea catechins with or without caffeine on anthropometric measures: a systematic\n",
            "review and meta-analysis. American journal of clinical nutrition, 91(1), 73-81.\n",
            "[URL](https://academic.oup.com/ajcn/article/91/1/73/4598133) 4. While black tea\n",
            "may have some benefits for weight loss, green tea has been more extensively\n",
            "studied and shown to have a more significant effect on weight loss due to its\n",
            "higher catechin content. Incorporating either black or green tea into a balanced\n",
            "diet and exercise routine may help support weight loss efforts.\n"
          ]
        }
      ]
    },
    {
      "cell_type": "code",
      "source": [
        "\n",
        "response = rag_chain_sent.invoke(\"Does drinking wine before bed help one lose weight?\")\n",
        "print(textwrap.fill(response, width=80))"
      ],
      "metadata": {
        "colab": {
          "base_uri": "https://localhost:8080/"
        },
        "id": "RSCwBhNec9U1",
        "outputId": "ad138a87-4d45-4f20-c272-6a6d70ae2a0a"
      },
      "execution_count": null,
      "outputs": [
        {
          "output_type": "stream",
          "name": "stdout",
          "text": [
            "False.  Drinking wine before bed does not \"officially make you skinny.\" While\n",
            "wine is lower in calories than many mixed drinks and cocktails, it is not a tool\n",
            "for weight loss. Alcohol can actually hinder weight loss by reducing your body's\n",
            "ability to burn fat. It can also lead to poor food choices and overeating.  Here\n",
            "are the authoritative sources referenced:  1. Mayo Clinic. (2020). Alcohol and\n",
            "weight gain. Retrieved from https://www.mayoclinic.org/diseases-\n",
            "conditions/alcohol-use/expert-answers/alcohol-and-weight-gain/faq-20057779 2.\n",
            "National Institute on Alcohol Abuse and Alcoholism. (n.d.). Alcohol's effects on\n",
            "the body. Retrieved from https://www.niaaa.nih.gov/alcohol-health/alcohols-\n",
            "effects-body 3. Harvard T.H. Chan School of Public Health. (2021). Alcohol:\n",
            "Balancing risks and benefits. Retrieved from\n",
            "https://www.hsph.harvard.edu/nutritionsource/alcohol-full-story/  For accurate\n",
            "information on weight loss, it's recommended to consult with a healthcare\n",
            "professional or a registered dietitian.\n"
          ]
        }
      ]
    },
    {
      "cell_type": "code",
      "source": [
        "template_trail = '''You are a highly knowledgeable and reliable chatbot for fact-verification of public health claims.\n",
        "                    When given a claim your task is to classify it according to its varying degree of truthfulness as in true, false, mixture and unproven.\n",
        "                    The first line should state the classification of claim. Explain in an understandable manner as to why the claim is classified as such. Explain further stating the evidence based on\n",
        "                    the context. Provide the sources at the end. Say thanks for asking at the end.\n",
        "\n",
        "                    Ensure that your answer is concise,understandable and helpful to the general audience.\n",
        "\n",
        "\n",
        "{context}\n",
        "\n",
        "Question: {question}\n",
        "\n",
        "Helpful Answer:'''"
      ],
      "metadata": {
        "id": "-r7JwB4DYMjB"
      },
      "execution_count": null,
      "outputs": []
    },
    {
      "cell_type": "code",
      "source": [
        "custom_prompt_trail = PromptTemplate.from_template(template_trail)"
      ],
      "metadata": {
        "id": "8MeRnOfJdMGd"
      },
      "execution_count": null,
      "outputs": []
    },
    {
      "cell_type": "code",
      "source": [
        "rag_chain_trail = (\n",
        "    {\"context\": retriever | format_docs, \"question\": RunnablePassthrough()}\n",
        "    | custom_prompt_trail\n",
        "    | llm\n",
        "    | StrOutputParser()\n",
        ")"
      ],
      "metadata": {
        "id": "CRmGs-v7dRUR"
      },
      "execution_count": null,
      "outputs": []
    },
    {
      "cell_type": "code",
      "source": [
        "response = rag_chain_trail.invoke(\"Vaccines cause autism\")\n",
        "print(textwrap.fill(response, width=80))"
      ],
      "metadata": {
        "colab": {
          "base_uri": "https://localhost:8080/"
        },
        "id": "1B_ztIwmdW8H",
        "outputId": "20c40213-d6af-422f-8997-498edee04663"
      },
      "execution_count": null,
      "outputs": [
        {
          "output_type": "stream",
          "name": "stdout",
          "text": [
            "Classification: False  Explanation: The claim that increasing numbers of\n",
            "vaccines are associated with increasing rates of autism is false. This\n",
            "misconception likely arises from the idea that there are more vaccines and,\n",
            "consequently, more opportunities for adverse reactions. However, numerous\n",
            "scientific studies have shown no link between autism or autism spectrum\n",
            "disorders and vaccines.  For instance, in 2008, US children received 36 vaccines\n",
            "and the autism rate was 1 in 150. By 2013, children received 46 vaccines, and\n",
            "the autism rate was 1 in 88. Despite the increase in the number of vaccines, the\n",
            "autism rate remained relatively stable. Moreover, the CDC has emphasized that\n",
            "there is no link between vaccines and autism.  Sources: 1. Centers for Disease\n",
            "Control and Prevention (CDC). (2021). Vaccines Do Not Cause Autism.\n",
            "https://www.cdc.gov/vaccinesafety/concerns/autism.html 2. DeStefano, F., &\n",
            "Shimabukuro, T. T. (2017). Vaccines and autism: evidence does not support a\n",
            "causal association. Clinical Pharmacology & Therapeutics, 101(6), 1011-1016. 3.\n",
            "Institute of Medicine (US) Committee to Review Adverse Effects of Vaccines.\n",
            "(2012). Adverse Effects of Vaccines: Evidence and Causality. National Academies\n",
            "Press.  Thank you for asking. If you have any more questions, feel free to ask!\n"
          ]
        }
      ]
    },
    {
      "cell_type": "code",
      "source": [
        "response = rag_chain_trail.invoke(\"Green tea helps you lose weight\")\n",
        "print(textwrap.fill(response, width=80))"
      ],
      "metadata": {
        "colab": {
          "base_uri": "https://localhost:8080/"
        },
        "id": "qMZeVe26ddGS",
        "outputId": "6a8ce7d7-b9b4-4e35-a818-20ea0457a9a5"
      },
      "execution_count": null,
      "outputs": [
        {
          "output_type": "stream",
          "name": "stdout",
          "text": [
            "Classification: Mixture  Explanation: The claim that black tea may help with\n",
            "weight loss, like green tea, is a mixture of true and unproven aspects.\n",
            "Research has shown that green tea can aid in weight loss due to its catechins\n",
            "and caffeine content, which can increase metabolism and fat oxidation (Barnes,\n",
            "Arthur, & Hallström, 2011). However, the evidence for black tea's role in weight\n",
            "loss is not as strong. Some studies suggest that black tea might have similar\n",
            "effects to green tea due to its flavonoids, but more research is needed to\n",
            "confirm these findings (Hursel & Westerterp-Plantenga, 2009).  In summary, while\n",
            "green tea has been proven to aid in weight loss, the evidence for black tea's\n",
            "role in weight loss is unproven and requires further research.  Sources: -\n",
            "Barnes, M. J., Arthur, J., & Hallström, H. (2011). Green tea catechins, caffeine\n",
            "and body-weight regulation. International Journal of Obesity, 35(5), 581–591.\n",
            "https://doi.org/10.1038/ijo.2010.145 - Hursel, R., & Westerterp-Plantenga, M. S.\n",
            "(2009). Catechin- and caffeine-rich teas for control of body weight in humans.\n",
            "American Journal of Clinical Nutrition, 90(6), 1616–1622.\n",
            "https://doi.org/10.3945/ajcn.2009.28674  Thank you for asking!\n"
          ]
        }
      ]
    },
    {
      "cell_type": "code",
      "source": [
        "\n",
        "response = rag_chain_trail.invoke(\"Does drinking wine before bed help one lose weight?\")\n",
        "print(textwrap.fill(response, width=80))"
      ],
      "metadata": {
        "colab": {
          "base_uri": "https://localhost:8080/"
        },
        "id": "aB3fUWBMdrWS",
        "outputId": "56178a56-5b3c-4c1d-e872-8f680b4ec9c2"
      },
      "execution_count": null,
      "outputs": [
        {
          "output_type": "stream",
          "name": "stdout",
          "text": [
            "Classification: False  The claim that drinking wine before bed can make you\n",
            "skinny is not accurate. While wine, like many alcoholic beverages, is low in\n",
            "calories, it is not a tool for weight loss.   Alcohol can actually hinder weight\n",
            "loss in several ways. When you drink, your body prioritizes metabolizing the\n",
            "alcohol over other nutrients, which can lead to a slower metabolism.\n",
            "Additionally, alcohol can lower your inhibitions, potentially leading to poor\n",
            "food choices and overeating.  Moreover, wine is often associated with indulgent\n",
            "meals and snacking, which can contribute to weight gain. It's also worth noting\n",
            "that while wine is low in calories, it's also devoid of nutrients, so it's not a\n",
            "beneficial addition to your diet in terms of nutrition.  In conclusion, drinking\n",
            "wine before bed will not help you lose weight. It's a myth that doesn't align\n",
            "with how the body metabolizes alcohol or manages weight.  Sources: 1. \"Alcohol\n",
            "and Weight.\" National Institute on Alcohol Abuse and Alcoholism. 2. \"Does\n",
            "Drinking Wine Help You Lose Weight?\" Healthline.  Thank you for asking!\n"
          ]
        }
      ]
    },
    {
      "cell_type": "code",
      "source": [
        "template_ori = '''you are a chatbot whos task is fact verification of public health claims.\n",
        " When given a claim classify it according to varying degree of truthfulness as in true, false , mixture or unproven.\n",
        "  Explain in an understandable manner as to why the claim is classified as so stating the evidence based on the context.\n",
        "    Also, provide the evidence sources.\n",
        "\n",
        "                    Ensure that your answer is concise,understandable and helpful to the general audience.\n",
        "\n",
        "\n",
        "{context}\n",
        "\n",
        "Question: {question}\n",
        "\n",
        "Helpful Answer:'''"
      ],
      "metadata": {
        "id": "D8PFARWxdyfE"
      },
      "execution_count": null,
      "outputs": []
    },
    {
      "cell_type": "code",
      "source": [
        "custom_prompt_ori = PromptTemplate.from_template(template_ori)"
      ],
      "metadata": {
        "id": "CHALBm-Eepg2"
      },
      "execution_count": null,
      "outputs": []
    },
    {
      "cell_type": "code",
      "source": [
        "rag_chain_ori = (\n",
        "    {\"context\": retriever | format_docs, \"question\": RunnablePassthrough()}\n",
        "    | custom_prompt_ori\n",
        "    | llm\n",
        "    | StrOutputParser()\n",
        ")"
      ],
      "metadata": {
        "id": "01GFEZ1AeuJF"
      },
      "execution_count": null,
      "outputs": []
    },
    {
      "cell_type": "code",
      "source": [
        "response = rag_chain_ori.invoke(\"Vaccines cause autism\")\n",
        "print(textwrap.fill(response, width=80))"
      ],
      "metadata": {
        "colab": {
          "base_uri": "https://localhost:8080/"
        },
        "id": "BO-R3pYAeyKA",
        "outputId": "563567cb-e23a-43b9-ad07-191c33608ae0"
      },
      "execution_count": null,
      "outputs": [
        {
          "output_type": "stream",
          "name": "stdout",
          "text": [
            "The claim that the FDA published \"conclusive proof\" that the DTaP vaccine causes\n",
            "autism in November 2017 is false. The FDA has not confirmed a link between DTaP\n",
            "vaccines and autism. This rumor stems from an old and false report that was\n",
            "recirculated as \"breaking\" news in November 2017.  The source of this\n",
            "misinformation is a website called InShapeToday.com, which published a report\n",
            "based on a 2005 drug packet from vaccine maker Sanofi Pasteur. This report was\n",
            "widely shared on social media, but it does not provide any new or conclusive\n",
            "evidence linking DTaP vaccines to autism.  In fact, the 2005 drug packet clearly\n",
            "states that no \"causal relationship\" between autism and the vaccine has been\n",
            "found. The Centers for Disease Control and Prevention (CDC) has also repeatedly\n",
            "stated that there is no link between vaccines and autism.  Therefore, based on\n",
            "the evidence, the claim that vaccines cause autism is false.  Sources:  *\n",
            "Centers for Disease Control and Prevention (CDC):\n",
            "<https://www.cdc.gov/vaccines/vac-gen/vax-autism.htm> * Snopes:\n",
            "<https://www.snopes.com/fact-check/fda-announces-vaccines-cause-autism/> *\n",
            "InShapeToday.com: <https://www.inshapetoday.com/fda-announced-that-vaccines-are-\n",
            "causing-autism/> * Sanofi Pasteur 2005 drug packet:\n",
            "<https://www.fda.gov/BiologicsBloodVaccines/Vaccines/ApprovedProducts/UCM101580>\n"
          ]
        }
      ]
    },
    {
      "cell_type": "code",
      "source": [
        "template_trail_search = '''You are a highly knowledgeable and reliable chatbot for fact-verification of public health claims.\n",
        "                    When given a claim your task is to classify it according to its varying degree of truthfulness as in true, false, mixture and unproven.\n",
        "                    The first line should state the classification of claim. Explain in an understandable manner as to why the claim is classified as such. Explain further stating the evidence based on\n",
        "                    the context. If the context is not provided search from web and other reliable sources and then classify and explain.\n",
        "                    Provide the sources at the end. Say thanks for asking at the end.\n",
        "\n",
        "                    Ensure that your answer is concise ,understandable and helpful to the general audience.\n",
        "\n",
        "\n",
        "{context}\n",
        "\n",
        "Question: {question}\n",
        "\n",
        "Helpful Answer:'''"
      ],
      "metadata": {
        "id": "t57jONNke7wO"
      },
      "execution_count": null,
      "outputs": []
    },
    {
      "cell_type": "code",
      "source": [
        "custom_prompt_search = PromptTemplate.from_template(template_trail_search)"
      ],
      "metadata": {
        "id": "TfKnBXxToRbQ"
      },
      "execution_count": null,
      "outputs": []
    },
    {
      "cell_type": "code",
      "source": [
        "rag_chain_search = (\n",
        "    {\"context\": retriever | format_docs, \"question\": RunnablePassthrough()}\n",
        "    | custom_prompt_search\n",
        "    | llm\n",
        "    | StrOutputParser()\n",
        ")"
      ],
      "metadata": {
        "id": "e4557T66oVkx"
      },
      "execution_count": null,
      "outputs": []
    },
    {
      "cell_type": "code",
      "source": [
        "response = rag_chain_search.invoke(\"Chlorophyll water can clear your skin or detox your liver\")\n",
        "print(textwrap.fill(response, width=80))"
      ],
      "metadata": {
        "colab": {
          "base_uri": "https://localhost:8080/"
        },
        "id": "w8rcxX6iov6k",
        "outputId": "ddad6014-e928-4719-b952-fad5fd6d4c8c"
      },
      "execution_count": null,
      "outputs": [
        {
          "output_type": "stream",
          "name": "stdout",
          "text": [
            "Classification: False  Explanation: The claim that chlorophyll water can clear\n",
            "your skin or detox your liver is not supported by scientific evidence.\n",
            "Chlorophyll is a green pigment found in plants that is essential for\n",
            "photosynthesis, but it does not have any proven health benefits for humans when\n",
            "consumed in water.  The idea that chlorophyll water can detoxify the liver is a\n",
            "common health myth. The liver naturally detoxifies the body through its normal\n",
            "functions, and there is no need for additional support from chlorophyll water or\n",
            "any other substance. Similarly, there is no scientific evidence to support the\n",
            "claim that chlorophyll water can clear the skin. Skin conditions are typically\n",
            "caused by a variety of factors, including genetics, hormonal imbalances, and\n",
            "environmental factors, and they cannot be cured by drinking chlorophyll water.\n",
            "Sources:  * Mayo Clinic. (2021). Chlorophyll supplements: Are they safe?\n",
            "Retrieved from <https://www.mayoclinic.org/healthy-lifestyle/nutrition-and-\n",
            "healthy-eating/expert-answers/chlorophyll/faq-20058000> * National Center for\n",
            "Complementary and Integrative Health. (2018). Herbs at a Glance: Chlorophyll.\n",
            "Retrieved from <https://www.nccih.nih.gov/health/chlorophyll> * Healthline.\n",
            "(2018). 7 science-based health benefits of chlorophyll. Retrieved from\n",
            "<https://www.healthline.com/nutrition/chlorophyll#section2>  Thank you for\n",
            "asking!\n"
          ]
        }
      ]
    },
    {
      "cell_type": "code",
      "source": [
        "#Chlorophyll water can't clear your skin or detox your liver, but this TikTok trend got one thing right"
      ],
      "metadata": {
        "id": "opikNfeZobSd"
      },
      "execution_count": null,
      "outputs": []
    },
    {
      "cell_type": "code",
      "source": [
        "q_docs = retriever.invoke(\"Chlorophyll water can clear your skin or detox your liver\")\n",
        "len(q_docs)"
      ],
      "metadata": {
        "colab": {
          "base_uri": "https://localhost:8080/"
        },
        "id": "Z6s8y9T8peny",
        "outputId": "dd808097-0d95-4106-a592-38ccfa03a461"
      },
      "execution_count": null,
      "outputs": [
        {
          "output_type": "execute_result",
          "data": {
            "text/plain": [
              "1"
            ]
          },
          "metadata": {},
          "execution_count": 249
        }
      ]
    },
    {
      "cell_type": "code",
      "source": [
        "q_docs"
      ],
      "metadata": {
        "colab": {
          "base_uri": "https://localhost:8080/"
        },
        "id": "yxPI47YKpuap",
        "outputId": "e8f2a458-86e8-4b24-a450-afee485b65fa"
      },
      "execution_count": null,
      "outputs": [
        {
          "output_type": "execute_result",
          "data": {
            "text/plain": [
              "[Document(page_content='sources: https://www.healthnewsreview.org/wp-content/uploads/2015/11/seaweed.jpg\\nlabel: false', metadata={'row': 7739, 'source': 'Food industry can help lower cardiovascular diseases by adding little seaweed to products'})]"
            ]
          },
          "metadata": {},
          "execution_count": 250
        }
      ]
    },
    {
      "cell_type": "code",
      "source": [],
      "metadata": {
        "id": "qclSJvhjpvkd"
      },
      "execution_count": null,
      "outputs": []
    },
    {
      "cell_type": "markdown",
      "source": [
        "**Chat history**"
      ],
      "metadata": {
        "id": "Ms11z_ovuRzr"
      }
    },
    {
      "cell_type": "code",
      "source": [],
      "metadata": {
        "id": "ANJoU_uO0h29"
      },
      "execution_count": null,
      "outputs": []
    },
    {
      "cell_type": "markdown",
      "source": [
        "**Corrective rag**"
      ],
      "metadata": {
        "id": "BhSOwyr20vU3"
      }
    },
    {
      "cell_type": "code",
      "source": [
        "! pip install --quiet langchain_community langchainhub langchain langgraph tavily-python langchain-mistralai"
      ],
      "metadata": {
        "colab": {
          "base_uri": "https://localhost:8080/"
        },
        "id": "XYUQ_pH91Ayh",
        "outputId": "b8034ced-5fb4-4038-b4a2-c53f171d64b7"
      },
      "execution_count": null,
      "outputs": [
        {
          "output_type": "stream",
          "name": "stdout",
          "text": [
            "\u001b[2K     \u001b[90m━━━━━━━━━━━━━━━━━━━━━━━━━━━━━━━━━━━━━━━━\u001b[0m \u001b[32m64.0/64.0 kB\u001b[0m \u001b[31m1.2 MB/s\u001b[0m eta \u001b[36m0:00:00\u001b[0m\n",
            "\u001b[2K     \u001b[90m━━━━━━━━━━━━━━━━━━━━━━━━━━━━━━━━━━━━━━━━\u001b[0m \u001b[32m1.8/1.8 MB\u001b[0m \u001b[31m9.8 MB/s\u001b[0m eta \u001b[36m0:00:00\u001b[0m\n",
            "\u001b[2K     \u001b[90m━━━━━━━━━━━━━━━━━━━━━━━━━━━━━━━━━━━━━━━━\u001b[0m \u001b[32m3.6/3.6 MB\u001b[0m \u001b[31m39.3 MB/s\u001b[0m eta \u001b[36m0:00:00\u001b[0m\n",
            "\u001b[?25h\u001b[31mERROR: pip's dependency resolver does not currently take into account all the packages that are installed. This behaviour is the source of the following dependency conflicts.\n",
            "transformers 4.40.0 requires tokenizers<0.20,>=0.19, but you have tokenizers 0.15.2 which is incompatible.\u001b[0m\u001b[31m\n",
            "\u001b[0m"
          ]
        }
      ]
    },
    {
      "cell_type": "code",
      "source": [
        "import os\n",
        "\n",
        "tavily_api_key = os.environ.get(\"TAVILY_API_KEY\")"
      ],
      "metadata": {
        "id": "W-JP_14h2Ttx"
      },
      "execution_count": null,
      "outputs": []
    },
    {
      "cell_type": "code",
      "source": [
        "retriever = vectorstore.as_retriever(search_type=\"similarity\", search_kwargs={\"k\": 3})"
      ],
      "metadata": {
        "id": "N9rafgM2dmSV"
      },
      "execution_count": null,
      "outputs": []
    },
    {
      "cell_type": "code",
      "source": [
        "#retriever = vectorstore.as_retriever()"
      ],
      "metadata": {
        "id": "VtKA3uMQ8s7P"
      },
      "execution_count": null,
      "outputs": []
    },
    {
      "cell_type": "markdown",
      "source": [
        "Retrieval Grader"
      ],
      "metadata": {
        "id": "ymcTNpek61kg"
      }
    },
    {
      "cell_type": "code",
      "source": [
        "\n",
        "from langchain.prompts import PromptTemplate\n",
        "from langchain_core.output_parsers import JsonOutputParser\n",
        "\n",
        "# LLM\n",
        "\n",
        "llm = ChatGroq(temperature=0, model_name=\"mixtral-8x7b-32768\")\n",
        "\n",
        "prompt = PromptTemplate(\n",
        "    template=\"\"\"You are a grader assessing relevance of a retrieved document to a user question. \\n\n",
        "    Here is the retrieved document: \\n\\n {document} \\n\\n\n",
        "    Here is the user question: {question} \\n\n",
        "    If the document contains keywords related to the user question, grade it as relevant. \\n\n",
        "    It does not need to be a stringent test. The goal is to filter out erroneous retrievals. \\n\n",
        "    Give a binary score 'yes' or 'no' score to indicate whether the document is relevant to the question. \\n\n",
        "    Provide the binary score as a JSON with a single key 'score' and no premable or explaination.\"\"\",\n",
        "    input_variables=[\"question\", \"document\"],\n",
        ")\n",
        "\n",
        "retrieval_grader = prompt | llm | JsonOutputParser()\n",
        "question = \"Vaccines cause autism\"\n",
        "docs = retriever.get_relevant_documents(question)\n",
        "doc_txt = docs[1].page_content\n",
        "print(retrieval_grader.invoke({\"question\": question, \"document\": doc_txt}))"
      ],
      "metadata": {
        "colab": {
          "base_uri": "https://localhost:8080/"
        },
        "id": "1DcvZjIQ6yY4",
        "outputId": "08f1386b-e931-4ce4-9de6-faa49b83fddb"
      },
      "execution_count": null,
      "outputs": [
        {
          "output_type": "stream",
          "name": "stdout",
          "text": [
            "{'score': 'yes'}\n"
          ]
        }
      ]
    },
    {
      "cell_type": "code",
      "source": [],
      "metadata": {
        "id": "bJ069EqS88Su"
      },
      "execution_count": null,
      "outputs": []
    },
    {
      "cell_type": "markdown",
      "source": [
        "Generate"
      ],
      "metadata": {
        "id": "YRA8DsSA88ti"
      }
    },
    {
      "cell_type": "code",
      "source": [
        "from langchain import hub\n",
        "from langchain_core.output_parsers import StrOutputParser\n",
        "\n",
        "template_tav = '''You are a highly knowledgeable and reliable chatbot for fact-verification of public health claims.\n",
        "                    When given a claim your task is to classify it according to its varying degree of truthfulness as in true, false, mixture and unproven.\n",
        "                    The first line should state the classification of claim. Explain in an understandable manner as to why the claim is classified as such. Explain further stating the evidence based on\n",
        "                    the context. Provide the sources at the end. Say thanks for asking at the end.\n",
        "\n",
        "                    Ensure that your answer is concise,understandable and helpful to the general audience.\n",
        "\n",
        "\n",
        "{context}\n",
        "\n",
        "Question: {question}\n",
        "\n",
        "Helpful Answer:'''\n",
        "\n",
        "\n",
        "\n",
        "# Prompt\n",
        "#prompt = hub.pull(\"rlm/rag-prompt\")\n",
        "custom_prompt_tav = PromptTemplate.from_template(template_tav)\n",
        "\n",
        "\n",
        "# LLM\n",
        "llm = ChatGroq(temperature=0, model_name=\"mixtral-8x7b-32768\")\n",
        "\n",
        "\n",
        "# Post-processing\n",
        "def format_docs(docs):\n",
        "    return \"\\n\\n\".join(doc.page_content for doc in docs)\n",
        "\n",
        "\n",
        "# Chain\n",
        "#rag_chain = prompt | llm | StrOutputParser()\n",
        "rag_chain_tav = (\n",
        "    {\"context\": retriever | format_docs, \"question\": RunnablePassthrough()}\n",
        "    | custom_prompt_ori\n",
        "    | llm\n",
        "    | StrOutputParser()\n",
        ")\n",
        "\n",
        "# Run\n",
        "generation = rag_chain_tav.invoke(question)\n",
        "print(generation)"
      ],
      "metadata": {
        "colab": {
          "base_uri": "https://localhost:8080/"
        },
        "id": "707Tay6w8x-K",
        "outputId": "c18f1586-3838-447a-befc-a593ed962953"
      },
      "execution_count": null,
      "outputs": [
        {
          "output_type": "stream",
          "name": "stdout",
          "text": [
            "Classification: False\n",
            "\n",
            "Explanation: Drinking chlorophyll water does not have a direct impact on clearing your skin or detoxing your liver. Chlorophyll is a pigment that absorbs sunlight in plants and is used in photosynthesis. While it has antioxidant properties and may contribute to overall health, there is no scientific evidence to support the specific claims that it can clear skin or detox the liver.\n",
            "\n",
            "Further Explanation: The misconception might arise from chlorophyll's antioxidant properties and general health benefits. However, the liver detoxifies the body through its natural processes, and there is no need for a special food or drink to aid this function. Similarly, skin conditions are influenced by various factors, and drinking chlorophyll water is not a proven solution.\n",
            "\n",
            "Sources:\n",
            "1. Mayo Clinic. (2021). Chlorophyll supplements: What's known and what isn't. Retrieved from https://www.mayoclinic.org/healthy-lifestyle/nutrition-and-healthy-eating/expert-answers/chlorophyll/faq-20058173\n",
            "2. National Institute of Diabetes and Digestive and Kidney Diseases. (2016). The Liver and Detoxification. Retrieved from https://www.niddk.nih.gov/health-information/liver-disease/pubs/liverdisease#detoxification\n",
            "3. American Academy of Dermatology. (n.d.). How to clear up acne. Retrieved from https://www.aad.org/public/diseases/acne/dyi/clear-skin\n",
            "\n",
            "Thank you for asking!\n"
          ]
        }
      ]
    },
    {
      "cell_type": "code",
      "source": [],
      "metadata": {
        "id": "EwErQhJO9FT8"
      },
      "execution_count": null,
      "outputs": []
    },
    {
      "cell_type": "markdown",
      "source": [
        "Question Re-writer"
      ],
      "metadata": {
        "id": "gQXnjfBw9JnB"
      }
    },
    {
      "cell_type": "code",
      "source": [
        "\n",
        "\n",
        "# Prompt\n",
        "re_write_prompt = PromptTemplate(\n",
        "    template=\"\"\"You a question re-writer that converts an input question to a better version that is optimized \\n\n",
        "     for vectorstore retrieval. Look at the initial and formulate an improved question. \\n\n",
        "     Here is the initial question: \\n\\n {question}. Improved question with no preamble: \\n \"\"\",\n",
        "    input_variables=[\"generation\", \"question\"],\n",
        ")\n",
        "\n",
        "question_rewriter = re_write_prompt | llm | StrOutputParser()\n",
        "question_rewriter.invoke({\"question\": question})"
      ],
      "metadata": {
        "colab": {
          "base_uri": "https://localhost:8080/",
          "height": 36
        },
        "id": "BqR9Xf5N9K3-",
        "outputId": "d8d68ce5-ab84-42c1-f69f-75c03e3b1dc8"
      },
      "execution_count": null,
      "outputs": [
        {
          "output_type": "execute_result",
          "data": {
            "text/plain": [
              "'\"What are the detoxifying effects of chlorophyll water on the liver and its potential for improving skin?\"'"
            ],
            "application/vnd.google.colaboratory.intrinsic+json": {
              "type": "string"
            }
          },
          "metadata": {},
          "execution_count": 344
        }
      ]
    },
    {
      "cell_type": "markdown",
      "source": [
        "Web search"
      ],
      "metadata": {
        "id": "BY04lC4d9UYx"
      }
    },
    {
      "cell_type": "code",
      "source": [
        "import getpass\n",
        "import os\n",
        "\n",
        "os.environ[\"TAVILY_API_KEY\"] = getpass.getpass()"
      ],
      "metadata": {
        "colab": {
          "base_uri": "https://localhost:8080/"
        },
        "id": "g9xNTtnE9fMd",
        "outputId": "be868f98-d86a-473c-e458-bc277a28f4c1"
      },
      "execution_count": null,
      "outputs": [
        {
          "name": "stdout",
          "output_type": "stream",
          "text": [
            "··········\n"
          ]
        }
      ]
    },
    {
      "cell_type": "code",
      "source": [
        "from langchain_community.tools.tavily_search import TavilySearchResults\n",
        "web_search_tool = TavilySearchResults(k=3)"
      ],
      "metadata": {
        "id": "N1ndR1NW9WfA"
      },
      "execution_count": null,
      "outputs": []
    },
    {
      "cell_type": "markdown",
      "source": [
        "Graph"
      ],
      "metadata": {
        "id": "XL0gq2pD92o8"
      }
    },
    {
      "cell_type": "markdown",
      "source": [
        "State"
      ],
      "metadata": {
        "id": "O9bAp-Gr6MFX"
      }
    },
    {
      "cell_type": "code",
      "source": [
        "from typing_extensions import TypedDict\n",
        "from typing import List\n",
        "\n",
        "class GraphState(TypedDict):\n",
        "    \"\"\"\n",
        "    Represents the state of our graph.\n",
        "\n",
        "    Attributes:\n",
        "        question: question\n",
        "        generation: LLM generation\n",
        "        web_search: whether to add search\n",
        "        documents: list of documents\n",
        "    \"\"\"\n",
        "    question : str\n",
        "    generation : str\n",
        "    web_search : str\n",
        "    documents : List[str]"
      ],
      "metadata": {
        "id": "jr23_UNR9w_n"
      },
      "execution_count": null,
      "outputs": []
    },
    {
      "cell_type": "code",
      "source": [
        "from langchain.schema import Document\n",
        "\n",
        "def retrieve(state):\n",
        "    \"\"\"\n",
        "    Retrieve documents\n",
        "\n",
        "    Args:\n",
        "        state (dict): The current graph state\n",
        "\n",
        "    Returns:ß\n",
        "        state (dict): New key added to state, documents, that contains retrieved documents\n",
        "    \"\"\"\n",
        "    print(\"---RETRIEVE---\")\n",
        "    question = state[\"question\"]\n",
        "\n",
        "    # Retrieval\n",
        "    documents = retriever.get_relevant_documents(question)\n",
        "    return {\"documents\": documents, \"question\": question}\n",
        "\n",
        "def generate(state):\n",
        "    \"\"\"\n",
        "    Generate answer\n",
        "\n",
        "    Args:\n",
        "        state (dict): The current graph state\n",
        "\n",
        "    Returns:\n",
        "        state (dict): New key added to state, generation, that contains LLM generation\n",
        "    \"\"\"\n",
        "    print(\"---GENERATE---\")\n",
        "    question = state[\"question\"]\n",
        "    documents = state[\"documents\"]\n",
        "\n",
        "    # RAG generation\n",
        "    generation = rag_chain_tav.invoke( question)\n",
        "    return {\"documents\": documents, \"question\": question, \"generation\": generation}\n",
        "\n",
        "def grade_documents(state):\n",
        "    \"\"\"\n",
        "    Determines whether the retrieved documents are relevant to the question.\n",
        "\n",
        "    Args:\n",
        "        state (dict): The current graph state\n",
        "\n",
        "    Returns:\n",
        "        state (dict): Updates documents key with only filtered relevant documents\n",
        "    \"\"\"\n",
        "\n",
        "    print(\"---CHECK DOCUMENT RELEVANCE TO QUESTION---\")\n",
        "    question = state[\"question\"]\n",
        "    documents = state[\"documents\"]\n",
        "\n",
        "    # Score each doc\n",
        "    filtered_docs = []\n",
        "    web_search = \"No\"\n",
        "    for d in documents:\n",
        "        score = retrieval_grader.invoke({\"question\": question, \"document\": d.page_content})\n",
        "        grade = score['score']\n",
        "        if grade == \"yes\":\n",
        "            print(\"---GRADE: DOCUMENT RELEVANT---\")\n",
        "            filtered_docs.append(d)\n",
        "        else:\n",
        "            print(\"---GRADE: DOCUMENT NOT RELEVANT---\")\n",
        "            web_search = \"Yes\"\n",
        "            continue\n",
        "    return {\"documents\": filtered_docs, \"question\": question, \"web_search\": web_search}\n",
        "\n",
        "def transform_query(state):\n",
        "    \"\"\"\n",
        "    Transform the query to produce a better question.\n",
        "\n",
        "    Args:\n",
        "        state (dict): The current graph state\n",
        "\n",
        "    Returns:\n",
        "        state (dict): Updates question key with a re-phrased question\n",
        "    \"\"\"\n",
        "\n",
        "    print(\"---TRANSFORM QUERY---\")\n",
        "    question = state[\"question\"]\n",
        "    documents = state[\"documents\"]\n",
        "\n",
        "    # Re-write question\n",
        "    better_question = question_rewriter.invoke({\"question\": question})\n",
        "    return {\"documents\": documents, \"question\": better_question}\n",
        "\n",
        "def web_search(state):\n",
        "    \"\"\"\n",
        "    Web search based on the re-phrased question.\n",
        "\n",
        "    Args:\n",
        "        state (dict): The current graph state\n",
        "\n",
        "    Returns:\n",
        "        state (dict): Updates documents key with appended web results\n",
        "    \"\"\"\n",
        "\n",
        "    print(\"---WEB SEARCH---\")\n",
        "    question = state[\"question\"]\n",
        "    documents = state[\"documents\"]\n",
        "\n",
        "    # Web search\n",
        "    docs = web_search_tool.invoke({\"query\": question})\n",
        "    web_results = \"\\n\".join([d[\"content\"] for d in docs])\n",
        "    web_results = Document(page_content=web_results)\n",
        "    documents.append(web_results)\n",
        "\n",
        "    return {\"documents\": documents, \"question\": question}\n",
        "\n",
        "### Edges\n",
        "\n",
        "def decide_to_generate(state):\n",
        "    \"\"\"\n",
        "    Determines whether to generate an answer, or re-generate a question.\n",
        "\n",
        "    Args:\n",
        "        state (dict): The current graph state\n",
        "\n",
        "    Returns:\n",
        "        str: Binary decision for next node to call\n",
        "    \"\"\"\n",
        "\n",
        "    print(\"---ASSESS GRADED DOCUMENTS---\")\n",
        "    question = state[\"question\"]\n",
        "    web_search = state[\"web_search\"]\n",
        "    filtered_documents = state[\"documents\"]\n",
        "\n",
        "    if web_search == \"Yes\":\n",
        "        # All documents have been filtered check_relevance\n",
        "        # We will re-generate a new query\n",
        "        print(\"---DECISION: ALL DOCUMENTS ARE NOT RELEVANT TO QUESTION, TRANSFORM QUERY---\")\n",
        "        return \"transform_query\"\n",
        "    else:\n",
        "        # We have relevant documents, so generate answer\n",
        "        print(\"---DECISION: GENERATE---\")\n",
        "        return \"generate\""
      ],
      "metadata": {
        "id": "cKBECtSB98vW"
      },
      "execution_count": null,
      "outputs": []
    },
    {
      "cell_type": "markdown",
      "source": [
        "Building Graph"
      ],
      "metadata": {
        "id": "sMrnwyLo-OvE"
      }
    },
    {
      "cell_type": "code",
      "source": [
        "from langgraph.graph import END, StateGraph\n",
        "\n",
        "workflow = StateGraph(GraphState)\n",
        "\n",
        "# Define the nodes\n",
        "workflow.add_node(\"retrieve\", retrieve)  # retrieve\n",
        "workflow.add_node(\"grade_documents\", grade_documents)  # grade documents\n",
        "workflow.add_node(\"generate\", generate)  # generatae\n",
        "workflow.add_node(\"transform_query\", transform_query)  # transform_query\n",
        "workflow.add_node(\"web_search_node\", web_search)  # web search\n",
        "\n",
        "# Build graph\n",
        "workflow.set_entry_point(\"retrieve\")\n",
        "workflow.add_edge(\"retrieve\", \"grade_documents\")\n",
        "workflow.add_conditional_edges(\n",
        "    \"grade_documents\",\n",
        "    decide_to_generate,\n",
        "    {\n",
        "        \"transform_query\": \"transform_query\",\n",
        "        \"generate\": \"generate\",\n",
        "    },\n",
        ")\n",
        "workflow.add_edge(\"transform_query\", \"web_search_node\")\n",
        "workflow.add_edge(\"web_search_node\", \"generate\")\n",
        "workflow.add_edge(\"generate\", END)\n",
        "\n",
        "# Compile\n",
        "app = workflow.compile()"
      ],
      "metadata": {
        "id": "AZkNjdZG-Jjy"
      },
      "execution_count": null,
      "outputs": []
    },
    {
      "cell_type": "code",
      "source": [
        "from pprint import pprint\n",
        "\n",
        "# Run\n",
        "inputs = {\"question\": \"Vaccines cause autism\"}\n",
        "for output in app.stream(inputs):\n",
        "    for key, value in output.items():\n",
        "        # Node\n",
        "        pprint(f\"Node '{key}':\")\n",
        "        # Optional: print full state at each node\n",
        "        # pprint.pprint(value[\"keys\"], indent=2, width=80, depth=None)\n",
        "    pprint(\"\\n---\\n\")\n",
        "\n",
        "# Final generation\n",
        "pprint(value[\"generation\"])"
      ],
      "metadata": {
        "colab": {
          "base_uri": "https://localhost:8080/"
        },
        "id": "8y7pdjBL6SuG",
        "outputId": "39e9b051-7dff-4f8b-fc5d-9bf6aba2d63c"
      },
      "execution_count": null,
      "outputs": [
        {
          "output_type": "stream",
          "name": "stdout",
          "text": [
            "---RETRIEVE---\n",
            "\"Node 'retrieve':\"\n",
            "'\\n---\\n'\n",
            "---CHECK DOCUMENT RELEVANCE TO QUESTION---\n",
            "---GRADE: DOCUMENT RELEVANT---\n",
            "---GRADE: DOCUMENT RELEVANT---\n",
            "---GRADE: DOCUMENT RELEVANT---\n",
            "---GRADE: DOCUMENT RELEVANT---\n",
            "---ASSESS GRADED DOCUMENTS---\n",
            "---DECISION: GENERATE---\n",
            "\"Node 'grade_documents':\"\n",
            "'\\n---\\n'\n",
            "---GENERATE---\n",
            "\"Node 'generate':\"\n",
            "'\\n---\\n'\n",
            "('Classification: False\\n'\n",
            " '\\n'\n",
            " 'Explanation: The claim that the FDA published \"conclusive proof\" that the '\n",
            " 'DTaP vaccine causes autism in November 2017 is false. The FDA has not '\n",
            " 'confirmed a link between DTaP vaccines and autism. The claim seems to have '\n",
            " 'originated from a 2005 information packet released by vaccine maker Sanofi '\n",
            " 'Pasteur, which states that no \"causal relationship\" between autism and the '\n",
            " 'vaccine has been found. The FDA has not made any recent announcements '\n",
            " 'confirming a link between vaccines and autism.\\n'\n",
            " '\\n'\n",
            " 'Evidence:\\n'\n",
            " '\\n'\n",
            " '* The Centers for Disease Control and Prevention (CDC) has repeatedly stated '\n",
            " 'that there’s no link between vaccines and autism.\\n'\n",
            " '* The claim that the FDA confirmed DTaP vaccines cause autism in November '\n",
            " '2017 is based on a 2005 drug packet, not new information.\\n'\n",
            " '* The FDA has not made any recent announcements confirming a link between '\n",
            " 'vaccines and autism.\\n'\n",
            " '\\n'\n",
            " 'Sources:\\n'\n",
            " '\\n'\n",
            " '* '\n",
            " '<https://www.healthline.com/health-news/no-link-between-vaccines-and-autism#What-the-research-says>\\n'\n",
            " '* <https://www.snopes.com/fact-check/fda-announces-vaccines-cause-autism/>\\n'\n",
            " '\\n'\n",
            " 'Thanks for asking!')\n"
          ]
        }
      ]
    },
    {
      "cell_type": "code",
      "source": [
        "from pprint import pprint\n",
        "\n",
        "# Runs\n",
        "inputs = {\"question\": \"Vaccines cause autism\"}\n",
        "for output in app.stream(inputs):\n",
        "    for key, value in output.items():\n",
        "        # Node\n",
        "        pprint(f\"Node '{key}':\")\n",
        "        # Optional: print full state at each node\n",
        "        # pprint.pprint(value[\"keys\"], indent=2, width=80, depth=None)\n",
        "    pprint(\"\\n---\\n\")\n",
        "\n",
        "# Final generation\n",
        "resp = value[\"generation\"]\n",
        "print(textwrap.fill(resp, width=80))"
      ],
      "metadata": {
        "colab": {
          "base_uri": "https://localhost:8080/"
        },
        "id": "ZyQC0PfAQoGx",
        "outputId": "c71d3d34-fe08-4ed7-9310-bb2bc9649424"
      },
      "execution_count": null,
      "outputs": [
        {
          "output_type": "stream",
          "name": "stdout",
          "text": [
            "---RETRIEVE---\n",
            "\"Node 'retrieve':\"\n",
            "'\\n---\\n'\n",
            "---CHECK DOCUMENT RELEVANCE TO QUESTION---\n",
            "---GRADE: DOCUMENT RELEVANT---\n",
            "---GRADE: DOCUMENT RELEVANT---\n",
            "---GRADE: DOCUMENT RELEVANT---\n",
            "---GRADE: DOCUMENT RELEVANT---\n",
            "---ASSESS GRADED DOCUMENTS---\n",
            "---DECISION: GENERATE---\n",
            "\"Node 'grade_documents':\"\n",
            "'\\n---\\n'\n",
            "---GENERATE---\n",
            "\"Node 'generate':\"\n",
            "'\\n---\\n'\n",
            "Classification: False  Explanation: The claim that the FDA published \"conclusive\n",
            "proof\" that the DTaP vaccine causes autism in November 2017 is false. The FDA\n",
            "has not confirmed a link between DTaP vaccines and autism. The claim seems to\n",
            "have originated from a 2005 information packet released by vaccine maker Sanofi\n",
            "Pasteur, which states that no \"causal relationship\" between autism and the\n",
            "vaccine has been found. The FDA has not made any recent announcements confirming\n",
            "a link between vaccines and autism.  Evidence:  * The Centers for Disease\n",
            "Control and Prevention (CDC) has repeatedly stated that there’s no link between\n",
            "vaccines and autism. * The claim that the FDA confirmed DTaP vaccines cause\n",
            "autism in November 2017 is based on a 2005 drug packet, not new information. *\n",
            "The FDA has not made any recent announcements confirming a link between vaccines\n",
            "and autism.  Sources:  * <https://www.healthline.com/health-news/no-link-\n",
            "between-vaccines-and-autism#What-the-research-says> *\n",
            "<https://www.snopes.com/fact-check/fda-announces-vaccines-cause-autism/>  Thanks\n",
            "for asking!\n"
          ]
        }
      ]
    },
    {
      "cell_type": "code",
      "source": [
        "from pprint import pprint\n",
        "\n",
        "# Run\n",
        "inputs = {\"question\": \"Chlorophyll water can clear your skin or detox your liver\"}\n",
        "for output in app.stream(inputs):\n",
        "    for key, value in output.items():\n",
        "        # Node\n",
        "        pprint(f\"Node '{key}':\")\n",
        "        # Optional: print full state at each node\n",
        "        # pprint.pprint(value[\"keys\"], indent=2, width=80, depth=None)\n",
        "    pprint(\"\\n---\\n\")\n",
        "\n",
        "# Final generation\n",
        "pprint(value[\"generation\"])"
      ],
      "metadata": {
        "colab": {
          "base_uri": "https://localhost:8080/"
        },
        "id": "sGWzLnEB-ef4",
        "outputId": "be630c96-eb68-45a5-c249-1a8c1dfc1179"
      },
      "execution_count": null,
      "outputs": [
        {
          "output_type": "stream",
          "name": "stdout",
          "text": [
            "---RETRIEVE---\n",
            "\"Node 'retrieve':\"\n",
            "'\\n---\\n'\n",
            "---CHECK DOCUMENT RELEVANCE TO QUESTION---\n",
            "---GRADE: DOCUMENT NOT RELEVANT---\n",
            "---GRADE: DOCUMENT NOT RELEVANT---\n",
            "---GRADE: DOCUMENT NOT RELEVANT---\n",
            "---GRADE: DOCUMENT NOT RELEVANT---\n",
            "---ASSESS GRADED DOCUMENTS---\n",
            "---DECISION: ALL DOCUMENTS ARE NOT RELEVANT TO QUESTION, TRANSFORM QUERY---\n",
            "\"Node 'grade_documents':\"\n",
            "'\\n---\\n'\n",
            "---TRANSFORM QUERY---\n",
            "\"Node 'transform_query':\"\n",
            "'\\n---\\n'\n",
            "---WEB SEARCH---\n",
            "\"Node 'web_search_node':\"\n",
            "'\\n---\\n'\n",
            "---GENERATE---\n",
            "\"Node 'generate':\"\n",
            "'\\n---\\n'\n",
            "('Classification: Unproven\\n'\n",
            " '\\n'\n",
            " 'The claim that chlorophyll water has detoxifying effects on the liver and '\n",
            " 'can improve skin is not definitively proven. While chlorophyll is known to '\n",
            " 'have health benefits, such as being a rich source of antioxidants, there is '\n",
            " 'currently no substantial scientific evidence that specifically supports '\n",
            " 'these claims. Some studies suggest that chlorophyll may help with '\n",
            " 'detoxification and skin health, but these studies are often limited in scope '\n",
            " 'and do not directly address the consumption of chlorophyll water. Therefore, '\n",
            " 'more research is needed before these claims can be confirmed.\\n'\n",
            " '\\n'\n",
            " 'For more information, you can refer to the following sources:\\n'\n",
            " '\\n'\n",
            " '- \"Chlorophyll: A Phytochemical with Potential for Prevention and Therapy.\" '\n",
            " 'National Center for Biotechnology Information. U.S. National Library of '\n",
            " 'Medicine, 2014. <https://www.ncbi.nlm.nih.gov/pmc/articles/PMC4113745/>\\n'\n",
            " '- \"Chlorophyll and Chlorophyllin: Occurrence and Nutritional '\n",
            " 'Bioavailability.\" National Center for Biotechnology Information. U.S. '\n",
            " 'National Library of Medicine, 2015. '\n",
            " '<https://www.ncbi.nlm.nih.gov/pmc/articles/PMC4372305/>\\n'\n",
            " '\\n'\n",
            " 'Thank you for asking!')\n"
          ]
        }
      ]
    },
    {
      "cell_type": "code",
      "source": [],
      "metadata": {
        "id": "cZ3GqV8JMFp0"
      },
      "execution_count": null,
      "outputs": []
    }
  ]
}